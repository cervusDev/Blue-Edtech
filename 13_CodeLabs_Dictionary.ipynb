{
  "nbformat": 4,
  "nbformat_minor": 0,
  "metadata": {
    "colab": {
      "name": "13_CodeLabs Dictionary.ipynb",
      "private_outputs": true,
      "provenance": [],
      "authorship_tag": "ABX9TyPmmeB9EJjV/v//t7jp/evz",
      "include_colab_link": true
    },
    "kernelspec": {
      "name": "python3",
      "display_name": "Python 3"
    },
    "language_info": {
      "name": "python"
    }
  },
  "cells": [
    {
      "cell_type": "markdown",
      "metadata": {
        "id": "view-in-github",
        "colab_type": "text"
      },
      "source": [
        "<a href=\"https://colab.research.google.com/github/gucervus/Blue-Edtech/blob/main/13_CodeLabs_Dictionary.ipynb\" target=\"_parent\"><img src=\"https://colab.research.google.com/assets/colab-badge.svg\" alt=\"Open In Colab\"/></a>"
      ]
    },
    {
      "cell_type": "code",
      "metadata": {
        "id": "MuTm1CHYeMw2"
      },
      "source": [
        "#01 e 02\n",
        "quadrados = {}\n",
        "for i in range(1,11):\n",
        "  quadrados[i] = (i**2)\n",
        "\n",
        "for key, value in quadrados.items():\n",
        "  print(f'{key}: {value}')\n",
        "  "
      ],
      "execution_count": null,
      "outputs": []
    },
    {
      "cell_type": "code",
      "metadata": {
        "id": "qiJ9HF7xmfGE"
      },
      "source": [
        "# 03\n",
        "notas = {}\n",
        "comprimento = int(input('Qual numero de alunos?: '))\n",
        "alunos = [input(f'Nome do {c} aluno: ') for c in range(1,comprimento+1)]\n",
        "\n",
        "for i in range(1,comprimento+1):\n",
        "  notas[i] = (int(input(f'Nota da {i}° matéria: ')))\n",
        "\n",
        "for each in notas.values():\n",
        "  if each > 7:\n",
        "    print(f'Com nota {each} o aluno foi: Aprovado') \n",
        "  elif (each >= 5 or each <= 6.9):\n",
        "9    print(f'Com nota {each} o aluno foi: Reprovado')"
      ],
      "execution_count": null,
      "outputs": []
    },
    {
      "cell_type": "code",
      "metadata": {
        "id": "7W74e_9yrQvG"
      },
      "source": [
        "# 03\n",
        "'''def atribui(nota):\n",
        "  if nota > 7:\n",
        "    return 'Aprovado'\n",
        "  else:\n",
        "    return 'Reprovado'''\n",
        "\n",
        "turma = int(input('Numero de alunos: '))\n",
        "avaliacoes = {}\n",
        "\n",
        "while len(avaliacoes) < turma:\n",
        "  nome = input('digite o nome do aluno: ')\n",
        "  nota = int(input('nota do aluno: '))\n",
        "  avaliacoes[nome] = nota\n",
        "\n",
        "for eachValue in avaliacoes.values():\n",
        "  if eachValue > 7:\n",
        "    print('Aprovado')\n",
        "  else:\n",
        "    print('Reprovado')"
      ],
      "execution_count": null,
      "outputs": []
    },
    {
      "cell_type": "code",
      "metadata": {
        "id": "FBQT8Glq3c2o"
      },
      "source": [
        "from random import randint\n",
        "cpo = 0\n",
        "dic = {}\n",
        "\n",
        "while cpo < 4:\n",
        "  cpo +=1\n",
        "\n",
        "  nomes = input('Nome do jogador: ')\n",
        "  dado = randint(0,6)\n",
        "\n",
        "  dic[nomes] = dado\n",
        "\n",
        "print(dic)"
      ],
      "execution_count": null,
      "outputs": []
    },
    {
      "cell_type": "code",
      "metadata": {
        "id": "0NCkD66jO9Ao"
      },
      "source": [
        ""
      ],
      "execution_count": null,
      "outputs": []
    }
  ]
}