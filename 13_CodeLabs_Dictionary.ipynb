{
  "nbformat": 4,
  "nbformat_minor": 0,
  "metadata": {
    "colab": {
      "name": "13_CodeLabs Dictionary.ipynb",
      "private_outputs": true,
      "provenance": [],
      "authorship_tag": "ABX9TyMa/Iftq1Dym7rXDKDw88eR",
      "include_colab_link": true
    },
    "kernelspec": {
      "name": "python3",
      "display_name": "Python 3"
    },
    "language_info": {
      "name": "python"
    },
    "accelerator": "GPU"
  },
  "cells": [
    {
      "cell_type": "markdown",
      "metadata": {
        "id": "view-in-github",
        "colab_type": "text"
      },
      "source": [
        "<a href=\"https://colab.research.google.com/github/gucervus/Blue-Edtech/blob/main/13_CodeLabs_Dictionary.ipynb\" target=\"_parent\"><img src=\"https://colab.research.google.com/assets/colab-badge.svg\" alt=\"Open In Colab\"/></a>"
      ]
    },
    {
      "cell_type": "code",
      "metadata": {
        "id": "MuTm1CHYeMw2"
      },
      "source": [
        "#01 e 02\n",
        "quadrados = {}\n",
        "for i in range(1,11):\n",
        "  quadrados[i] = (i**2)\n",
        "\n",
        "for key, value in quadrados.items():\n",
        "  print(f'{key}: {value}')"
      ],
      "execution_count": null,
      "outputs": []
    },
    {
      "cell_type": "code",
      "metadata": {
        "id": "qiJ9HF7xmfGE"
      },
      "source": [
        "# 03\n",
        "notas = {}\n",
        "comprimento = int(input('Qual numero de alunos?: '))\n",
        "alunos = [input(f'Nome do {c} aluno: ') for c in range(1,comprimento+1)]\n",
        "\n",
        "for i in range(1,comprimento+1):\n",
        "  notas[i] = (int(input(f'Nota da {i}° matéria: ')))\n",
        "\n",
        "for each in notas.values():\n",
        "  if each > 7:\n",
        "    print(f'Com nota {each} o aluno foi: Aprovado') \n",
        "  elif (each >= 5 or each <= 6.9):\n",
        "9    print(f'Com nota {each} o aluno foi: Reprovado')"
      ],
      "execution_count": null,
      "outputs": []
    },
    {
      "cell_type": "code",
      "metadata": {
        "id": "7W74e_9yrQvG"
      },
      "source": [
        "# 03\n",
        "turma = int(input('Numero de alunos: '))\n",
        "avaliacoes = {}\n",
        "\n",
        "while len(avaliacoes) < turma:\n",
        "  nome = input('digite o nome do aluno: ')\n",
        "  nota = int(input('nota do aluno: '))\n",
        "  avaliacoes[nome] = nota\n",
        "\n",
        "for key, value in avaliacoes.items():\n",
        "  if value > 7:\n",
        "    print(f'{key}: Aprovado')\n",
        "  else:\n",
        "    print(f'{key}: Reprovado')"
      ],
      "execution_count": null,
      "outputs": []
    },
    {
      "cell_type": "code",
      "metadata": {
        "id": "FBQT8Glq3c2o"
      },
      "source": [
        "#04\n",
        "from random import randint\n",
        "from time import sleep\n",
        "\n",
        "cpo = 0\n",
        "jogo = {}\n",
        "\n",
        "while cpo < 4:\n",
        "  cpo +=1\n",
        "\n",
        "  nomes = input('Nome do jogador: ')\n",
        "  dado = randint(1,6)\n",
        "\n",
        "  jogo[nomes] = dado\n",
        "\n",
        "print()\n",
        "for key, value in jogo.items():\n",
        "  print(f'o jogador {key} jogou o valor {value}')\n",
        "  sleep(.5) \n",
        "\n",
        "\n",
        "print()\n",
        "\n",
        "ranking = 0\n",
        "for item in sorted(jogo, key = jogo.get, reserve = True):\n",
        "  ranking+=1\n",
        "  print(f'{ranking}° Lugar: jogador {item}: {jogo[item]}')\n",
        "  sleep(.5)"
      ],
      "execution_count": null,
      "outputs": []
    },
    {
      "cell_type": "code",
      "metadata": {
        "id": "0NCkD66jO9Ao"
      },
      "source": [
        "#05\n",
        "from datetime import date\n",
        "\n",
        "listaPerguntas = ['Nome','Ano de nascimento', 'Carteira de trabalho']\n",
        "listaRespostas = []\n",
        "cpo = 0\n",
        "\n",
        "while cpo < len(listaPerguntas):\n",
        "  cpo+=1\n",
        "\n",
        "  if cpo == 1:\n",
        "    n = cpo - 1\n",
        "\n",
        "  resposta = input(f'{listaPerguntas[n]}: ').lower().capitalize()\n",
        "  listaRespostas.append(resposta)\n",
        "  n+=1\n",
        "\n",
        "for c in range(1):\n",
        "  if 'True' not in listaRespostas:\n",
        "    break\n",
        "  else:\n",
        "    listaPerguntas.append('Salário')\n",
        "    listaPerguntas.append('Ano de contratação')\n",
        "    dic = dict(zip(listaPerguntas, listaRespostas))\n",
        "\n",
        "    for c in range(2):\n",
        "      resposta = input(f'{listaPerguntas[c+3]}: ')\n",
        "      listaRespostas.append(resposta)\n",
        "\n",
        "    anoAtual = date.today().year\n",
        "    aposentadoria = int(listaRespostas[4]) + 35\n",
        "    tempoContribuição = aposentadoria - anoAtual\n",
        "    idade = anoAtual - int(listaRespostas[1])\n",
        "    idadeAposentadoria = idade + 35\n",
        "\n",
        "    dic = dict(zip(listaPerguntas, listaRespostas))\n",
        "\n",
        "    dic['Idade'] = f'{idade} anos'\n",
        "    dic['Aposentadoria'] = f'{idadeAposentadoria} anos'\n",
        "\n",
        "    print()\n",
        "    for key, value in dic.items():\n",
        "      print(f'{key}: {value}')"
      ],
      "execution_count": null,
      "outputs": []
    },
    {
      "cell_type": "code",
      "metadata": {
        "id": "LabjXjyFyf4I"
      },
      "source": [
        "#06\n",
        "pessoas = {}\n",
        "\n",
        "while True: \n",
        "  nome = input('Nome: ')\n",
        "  idade = int(input('idade: '))\n",
        "  sexo = input('Sexo: ')  \n",
        "\n",
        "  pessoas[nome] = [idade,sexo]\n",
        "  if sexo == 'feminino':\n",
        "    lista = list(nome)\n",
        "  soma = 0\n",
        "  for value in pessoas.values():\n",
        "    soma+=value[0]\n",
        "\n",
        "  media = soma / len(pessoas)\n",
        "  print(f'Média da idade: {media}')\n",
        "  print()\n",
        "\n",
        "  if input('Quer continuar?:[s/n] ') in 'n':\n",
        "    break\n",
        "  else:\n",
        "    continue\n",
        "\n",
        "print(f'Temos: {len(pessoas)} pessoas cadastradas')\n",
        "print(pessoas)\n",
        "print(soma)\n",
        "print(lista)"
      ],
      "execution_count": null,
      "outputs": []
    },
    {
      "cell_type": "code",
      "metadata": {
        "id": "PrI651iO9fnF"
      },
      "source": [
        ""
      ],
      "execution_count": null,
      "outputs": []
    }
  ]
}