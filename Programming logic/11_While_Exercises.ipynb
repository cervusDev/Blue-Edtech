{
  "nbformat": 4,
  "nbformat_minor": 0,
  "metadata": {
    "colab": {
      "name": "11_While Exercises.ipynb",
      "private_outputs": true,
      "provenance": [],
      "authorship_tag": "ABX9TyPqk8OjSIZ7pPipxt3lhKPW",
      "include_colab_link": true
    },
    "kernelspec": {
      "name": "python3",
      "display_name": "Python 3"
    },
    "language_info": {
      "name": "python"
    },
    "accelerator": "GPU"
  },
  "cells": [
    {
      "cell_type": "markdown",
      "metadata": {
        "id": "view-in-github",
        "colab_type": "text"
      },
      "source": [
        "<a href=\"https://colab.research.google.com/github/gucervus/Blue-Edtech/blob/main/11_While_Exercises.ipynb\" target=\"_parent\"><img src=\"https://colab.research.google.com/assets/colab-badge.svg\" alt=\"Open In Colab\"/></a>"
      ]
    },
    {
      "cell_type": "markdown",
      "metadata": {
        "id": "N7HY4SJw3RHr"
      },
      "source": [
        "### Chalange 01"
      ]
    },
    {
      "cell_type": "code",
      "metadata": {
        "id": "o-7W-9efp_Ob"
      },
      "source": [
        "controlVariable = 0\n",
        "bigger = less = 0 \n",
        "studentsArray = []\n",
        "heightArray = []\n",
        "\n",
        "while controlVariable < 3:\n",
        "  controlVariable+=1\n",
        "\n",
        "  studentsNames = input('whats is the students name?: ').lower().capitalize()\n",
        "  studentsHeight = float(input('how tall is the student in meters: '))\n",
        "  print()\n",
        "\n",
        "  if controlVariable == 1:\n",
        "    bigger = less =  studentsHeight\n",
        "  else:\n",
        "    if studentsHeight > bigger:\n",
        "      bigger = studentsHeight\n",
        "    elif studentsHeight < less:\n",
        "      less = studentsHeight\n",
        "\n",
        "\n",
        "  studentsArray.append(studentsNames)\n",
        "  heightArray.append(studentsHeight)\n",
        "\n",
        "  studentIndexBigger = heightArray.index(bigger)\n",
        "  studentIndexLess = heightArray.index(less)\n",
        "\n",
        "  biggerStudent = studentsArray[studentIndexBigger]\n",
        "  lessStudent = studentsArray[studentIndexLess]\n",
        "\n",
        "print(f'the biggest student is {studentIndexBigger}:{biggerStudent} with {max(heightArray)} meters high')\n",
        "print(f'the smallest student is {studentIndexLess+1}:{lessStudent} with {min(heightArray)} meters high')"
      ],
      "execution_count": null,
      "outputs": []
    },
    {
      "cell_type": "markdown",
      "metadata": {
        "id": "8Cv4a6YY3VaX"
      },
      "source": [
        "### Chalange 02"
      ]
    },
    {
      "cell_type": "code",
      "metadata": {
        "id": "JXya-mD5yb9H"
      },
      "source": [
        "controlVariable = 2707\n",
        "password = 0\n",
        "\n",
        "while password != controlVariable:\n",
        "  password = int(input('what is your password?: '))\n",
        "  print()\n",
        "\n",
        "  if password != controlVariable:\n",
        "    print('incorrect password...')\n",
        "\n",
        "print('End program!')"
      ],
      "execution_count": null,
      "outputs": []
    },
    {
      "cell_type": "markdown",
      "metadata": {
        "id": "WW7tPQJ33YgM"
      },
      "source": [
        "### Chalange 03"
      ]
    },
    {
      "cell_type": "code",
      "metadata": {
        "id": "qXebh3NBzklp"
      },
      "source": [
        "print('''\n",
        "ballot box:\n",
        "\n",
        "[1] Venus\n",
        "[2] Maincon Kuster\n",
        "[3] Flow Podcast\n",
        "[4] Artur Petry\n",
        "[5] Voto Branco\n",
        "[6] Voto Nulo\n",
        "[0] Sair\n",
        "''')\n",
        "\n",
        "candidates = ['Venus', 'Maicon Kuster', 'Flow Podcast', 'Artur Petry', 'Voto Branco', 'Voto Nulo']\n",
        "count = [0,0,0,0,0,0,0]\n",
        "cpo = 0\n",
        "\n",
        "while cpo == 0:\n",
        "  vote = int(input('Enter your vote: '))\n",
        "\n",
        "  if vote != 0:\n",
        "    count[vote]+=1\n",
        "    print('Tanks for your vote...')\n",
        "    print()\n",
        "  else:\n",
        "    cpo = 1\n",
        "    del count[0]\n",
        "    print('='*30)\n",
        "  \n",
        "  totalVotes = sum(count)\n",
        "  withePercentage = (count[4] / totalVotes)*100\n",
        "  nullPercentage = (count[5] / totalVotes)*100\n",
        "  indexElected = count.index(max(count))\n",
        "  elected = candidates[indexElected]\n",
        "  electedPercentage = (max(count)/totalVotes*100\n",
        "\n",
        "print()\n",
        "for votePerCandidate, candidate in zip(count, candidates):\n",
        "  print(f'{candidate}: {votePerCandidate} votos')\n",
        "\n",
        "print()\n",
        "print(f'{withePercentage:.2f}% of with votes.\\n{nullPercentage:.2f}% of null votes.')\n",
        "print()\n",
        "print(f'the elected candidate is: {elected} with {electedPercentage:.2f}% of votes')"
      ],
      "execution_count": null,
      "outputs": []
    },
    {
      "cell_type": "code",
      "metadata": {
        "id": "go3vPlddpEqR"
      },
      "source": [
        "word = input('enter a word: ')\n",
        "result = []\n",
        "\n",
        "while True:\n",
        "\n",
        "  print()\n",
        "  secretWord = word\n",
        "  attempt = input('choice one letter: ')\n",
        "  print()\n",
        "\n",
        "  if attempt in word:\n",
        "    result.append(attempt)\n",
        "    print('Nice! next letter')\n",
        "    print(result)\n",
        "    print()\n",
        "  else:\n",
        "    print('the letter is not in the word, try again...')\n",
        "    print()\n",
        "\n",
        "  if len(result) == len(word):\n",
        "    break\n",
        "  else:\n",
        "    continue\n",
        "print(secretWord)\n",
        "print('end to program')"
      ],
      "execution_count": null,
      "outputs": []
    },
    {
      "cell_type": "code",
      "metadata": {
        "id": "1sI6Q8RqsB-L"
      },
      "source": [
        "import statistics as sts\n",
        "index = 0\n",
        "rights = 0\n",
        "numberOfStudents = 0\n",
        "notes = [0]\n",
        "template = ['A', 'B', 'D', 'C', 'E', 'A', 'C',' B', 'E', 'A']\n",
        "\n",
        "while True:\n",
        "\n",
        "  question = input(f'{index+1}° question, enter your answer: ').upper()\n",
        "\n",
        "  if question == template[index]:\n",
        "    rights +=1\n",
        "    notes[numberOfStudents] = rights\n",
        "    print(notes)\n",
        "  else:\n",
        "    print(notes)\n",
        "    \n",
        "  index+=1\n",
        "  if index == 10:\n",
        "    keep = input('want to continue?[s/n]: ').lower()\n",
        "    if keep == 's':\n",
        "      notes.append(0)\n",
        "      index = 0\n",
        "      rights = 0\n",
        "      numberOfStudents+=1\n",
        "    else:\n",
        "      numberOfStudents+=1\n",
        "      if numberOfStudents == 1:\n",
        "        print(f'your note is: {max(notes)}')\n",
        "        break\n",
        "      else:\n",
        "        print(f'bigger note: {max(notes)}\\nless note: {min(notes)}')\n",
        "        print(f'total students who used the system: {numberOfStudents}')\n",
        "        print(f'the class average was: {sts.mean(notas)}')\n",
        "        break"
      ],
      "execution_count": null,
      "outputs": []
    },
    {
      "cell_type": "code",
      "metadata": {
        "id": "gl2dEbWQSZRg"
      },
      "source": [
        ""
      ],
      "execution_count": null,
      "outputs": []
    }
  ]
}