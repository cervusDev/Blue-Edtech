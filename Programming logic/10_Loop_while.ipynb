{
  "nbformat": 4,
  "nbformat_minor": 0,
  "metadata": {
    "colab": {
      "name": "10_Loop while.ipynb",
      "private_outputs": true,
      "provenance": [],
      "authorship_tag": "ABX9TyOa7GY4s3kcgXYi6amvnr/P",
      "include_colab_link": true
    },
    "kernelspec": {
      "name": "python3",
      "display_name": "Python 3"
    },
    "language_info": {
      "name": "python"
    }
  },
  "cells": [
    {
      "cell_type": "markdown",
      "metadata": {
        "id": "view-in-github",
        "colab_type": "text"
      },
      "source": [
        "<a href=\"https://colab.research.google.com/github/gucervus/Blue-Edtech/blob/main/10_Loop_while.ipynb\" target=\"_parent\"><img src=\"https://colab.research.google.com/assets/colab-badge.svg\" alt=\"Open In Colab\"/></a>"
      ]
    },
    {
      "cell_type": "markdown",
      "metadata": {
        "id": "0H3F1GFTHsK9"
      },
      "source": [
        "### Structure loop while"
      ]
    },
    {
      "cell_type": "code",
      "metadata": {
        "id": "HtAC6UzJGNhJ"
      },
      "source": [
        "controlVariable = 1\n",
        "while controlVariable == 1:\n",
        "  number = float(input('type a number: '))\n",
        "\n",
        "  if number == 0:\n",
        "    print(f'the number typed is: {number}')\n",
        "  elif number > 0:\n",
        "    print(f'the number {number:.2f} is positive')\n",
        "  else:\n",
        "    print(f'the number {number:.2f} is negative')\n",
        "  answer = input('do you wish to continue?[yes/no] ').lower()\n",
        "  if answer == 'no':\n",
        "    controlVariable = 0"
      ],
      "execution_count": null,
      "outputs": []
    },
    {
      "cell_type": "markdown",
      "metadata": {
        "id": "bCUtHKtXpINF"
      },
      "source": [
        "### Challeng class"
      ]
    },
    {
      "cell_type": "code",
      "metadata": {
        "id": "P-BvQf5RdYvS"
      },
      "source": [
        "controlVariable= 0\n",
        "while controlVariable == 0:\n",
        "\n",
        "  number = 1\n",
        "  counter = 1\n",
        "  quantity = int(input('number of odd elements: '))\n",
        "  array = []\n",
        "\n",
        "  while counter <= quantity:\n",
        "    \n",
        "    array.append(number)\n",
        "    counter+=1\n",
        "    number+=2\n",
        "\n",
        "  print()\n",
        "  print(f'list of elements: {array}')\n",
        "\n",
        "  for eachNum in array:\n",
        "    reversed = sorted(array, reverse= True)\n",
        "  print(f'reversed list: {reversed}',end=' ')\n",
        "\n",
        "  print()\n",
        "  print()\n",
        "  answer = input('do you wish to continue?[yes/no]: ').lower()\n",
        "  print()\n",
        "\n",
        "  if answer == 'no':\n",
        "    controlVariable = 1\n",
        "  else:\n",
        "\n",
        "    while answer != 'yes' and answer != 'no':\n",
        "      print()\n",
        "      print('invalid response...')\n",
        "      answer = input('do you wish to continue?[yes/no]: ').lower()\n",
        "    \n",
        "      if answer == 'no':\n",
        "        controlVariable = 1\n",
        "\n",
        "print()\n",
        "print('end of program')"
      ],
      "execution_count": null,
      "outputs": []
    },
    {
      "cell_type": "code",
      "metadata": {
        "id": "mVfX24Iw1rfX"
      },
      "source": [
        ""
      ],
      "execution_count": null,
      "outputs": []
    }
  ]
}