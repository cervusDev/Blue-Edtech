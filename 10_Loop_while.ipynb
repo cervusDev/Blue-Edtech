{
  "nbformat": 4,
  "nbformat_minor": 0,
  "metadata": {
    "colab": {
      "name": "10_Loop while.ipynb",
      "private_outputs": true,
      "provenance": [],
      "authorship_tag": "ABX9TyNwFik9AqQgavBd/ELMk4e+",
      "include_colab_link": true
    },
    "kernelspec": {
      "name": "python3",
      "display_name": "Python 3"
    },
    "language_info": {
      "name": "python"
    }
  },
  "cells": [
    {
      "cell_type": "markdown",
      "metadata": {
        "id": "view-in-github",
        "colab_type": "text"
      },
      "source": [
        "<a href=\"https://colab.research.google.com/github/gucervus/Blue-Edtech/blob/main/10_Loop_while.ipynb\" target=\"_parent\"><img src=\"https://colab.research.google.com/assets/colab-badge.svg\" alt=\"Open In Colab\"/></a>"
      ]
    },
    {
      "cell_type": "markdown",
      "metadata": {
        "id": "0H3F1GFTHsK9"
      },
      "source": [
        "### Structure loop while"
      ]
    },
    {
      "cell_type": "code",
      "metadata": {
        "id": "HtAC6UzJGNhJ"
      },
      "source": [
        "opc = 1\n",
        "while opc == 1:\n",
        "  num = float(input('digite um numero'))\n",
        "\n",
        "  if num == 0:\n",
        "    print(f'o numero digitado é: {num}')\n",
        "  elif num > 0:\n",
        "    print(f'o numero {num:.2f} é positivo')\n",
        "  else:\n",
        "    print(f'o numero {num:2f} é negativo')\n",
        "  resp = input('você deseja continuar? ').lower().strip()[0]\n",
        "  if resp == 's':\n",
        "    opc = 1\n",
        "  else:\n",
        "    opc = 0"
      ],
      "execution_count": null,
      "outputs": []
    },
    {
      "cell_type": "markdown",
      "metadata": {
        "id": "bCUtHKtXpINF"
      },
      "source": [
        "### Challeng class"
      ]
    },
    {
      "cell_type": "code",
      "metadata": {
        "id": "P-BvQf5RdYvS"
      },
      "source": [
        "cpo = 0\n",
        "while cpo == 0:\n",
        "\n",
        "  num = 1\n",
        "  cont = 1\n",
        "  qtd = int(input('quantidade de elementos impares na lista: '))\n",
        "  array = []\n",
        "\n",
        "  while cont <= qtd:\n",
        "    \n",
        "    array.append(num)\n",
        "    cont+=1\n",
        "    num+=2\n",
        "\n",
        "  print()\n",
        "  print(f'lista de elementos: {array}')\n",
        "\n",
        "  for eachNum in array:\n",
        "    revertido = sorted(array, reverse= True)\n",
        "  print(f'lista invertida: {revertido}',end=' ')\n",
        "\n",
        "  resp = input('Deseja continuar?[s/n]: ').lower().strip()[0]\n",
        "\n",
        "  if resp == 's':\n",
        "    cpo = 0\n",
        "  elif resp == 'n':\n",
        "    cpo = 1\n",
        "  else:\n",
        "\n",
        "    while resp != 's' and resp != 'n':\n",
        "      print('resposta invalida...')\n",
        "      resp = input('Deseja continuar?[s/n]: ').lower().strip()[0]\n",
        "    \n",
        "      if resp == 'n':\n",
        "        cpo = 1\n",
        "\n",
        "print('fim do programa')"
      ],
      "execution_count": null,
      "outputs": []
    }
  ]
}