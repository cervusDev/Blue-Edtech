{
  "nbformat": 4,
  "nbformat_minor": 0,
  "metadata": {
    "colab": {
      "name": "12_Dictionary.ipynb",
      "private_outputs": true,
      "provenance": [],
      "authorship_tag": "ABX9TyNd+Wx5Lv9wnWWuj/1hwCfX",
      "include_colab_link": true
    },
    "kernelspec": {
      "name": "python3",
      "display_name": "Python 3"
    },
    "language_info": {
      "name": "python"
    },
    "accelerator": "GPU"
  },
  "cells": [
    {
      "cell_type": "markdown",
      "metadata": {
        "id": "view-in-github",
        "colab_type": "text"
      },
      "source": [
        "<a href=\"https://colab.research.google.com/github/gucervus/Blue-Edtech/blob/main/12_Dictionary.ipynb\" target=\"_parent\"><img src=\"https://colab.research.google.com/assets/colab-badge.svg\" alt=\"Open In Colab\"/></a>"
      ]
    },
    {
      "cell_type": "markdown",
      "metadata": {
        "id": "uQJHYDBnYi61"
      },
      "source": [
        "### Basic structure"
      ]
    },
    {
      "cell_type": "code",
      "metadata": {
        "id": "xpebCK2PXw0O"
      },
      "source": [
        "# key: string, value: number\n",
        "phone = {'Gustavo': 996285337,\n",
        "         'Breno': 996287654,\n",
        "         'Adwaita': 996287788}\n",
        "print(type(phone))\n",
        "print(phone)"
      ],
      "execution_count": null,
      "outputs": []
    },
    {
      "cell_type": "code",
      "metadata": {
        "id": "Q1n3jaqVj7jh"
      },
      "source": [
        "# key: number, value: number\n",
        "students = {0: 'Gustavo',\n",
        "            1: 'Adwaita',\n",
        "            2: 'Breno',}\n",
        "print(students)"
      ],
      "execution_count": null,
      "outputs": []
    },
    {
      "cell_type": "markdown",
      "metadata": {
        "id": "PU1M99JKf-V7"
      },
      "source": [
        "### Dictionary creation with dict function through lists"
      ]
    },
    {
      "cell_type": "code",
      "metadata": {
        "id": "9aoDfFE3aKuc"
      },
      "source": [
        "contacts = [('gustavo',123),('breno',456),('adwaita',459)]\n",
        "phones = dict(contacts)\n",
        "\n",
        "print(type(phones))\n",
        "print(phones)"
      ],
      "execution_count": null,
      "outputs": []
    },
    {
      "cell_type": "markdown",
      "metadata": {
        "id": "-f2eYEuAl3EN"
      },
      "source": [
        "### Dictionary creation with dict function through tuple"
      ]
    },
    {
      "cell_type": "code",
      "metadata": {
        "id": "bAhwDCdTl9if"
      },
      "source": [
        "animals = (('nook','birds'),('atlantis','sharks'),('forest','monkeys'))\n",
        "zoo = dict(animals)\n",
        "\n",
        "print(type(zoo))\n",
        "print(zoo)"
      ],
      "execution_count": null,
      "outputs": []
    },
    {
      "cell_type": "markdown",
      "metadata": {
        "id": "8a3PYCs0fx9d"
      },
      "source": [
        "### Acessing elements"
      ]
    },
    {
      "cell_type": "code",
      "metadata": {
        "id": "KBB6eedUeqm9"
      },
      "source": [
        "# slicing\n",
        "phone = {'Gustavo': '996285337',\n",
        "         'Breno': '996287654',\n",
        "         'Adwaita': '996287788'}\n",
        "\n",
        "adwaita = phone['Adwaita']\n",
        "print(adwaita)\n",
        "print()\n",
        "\n",
        "# method get: search dictionary value\n",
        "  # get(key: value)\n",
        "breno = phone.get('Breno')\n",
        "print(breno)\n",
        "print()\n",
        "\n",
        "# methodo get: if you don't find the value\n",
        "  # get(key: value, else: string, number)\n",
        "chukNoris = phone.get('chuck norris',0)\n",
        "print(chukNoris)"
      ],
      "execution_count": null,
      "outputs": []
    },
    {
      "cell_type": "markdown",
      "metadata": {
        "id": "-ObLvnYXgxCp"
      },
      "source": [
        "### Notice the errors\n",
        "\n"
      ]
    },
    {
      "cell_type": "code",
      "metadata": {
        "id": "4icj4T5UfYt3"
      },
      "source": [
        "# three elements in composite list\n",
        "contacts = [('gustavo','123','bad'),('breno','456','test'),('adwaita','459','wath')]\n",
        "phones = dict(contacts) # Value error: it is not possible to map the dictionary\n",
        "print(phones) "
      ],
      "execution_count": null,
      "outputs": []
    },
    {
      "cell_type": "code",
      "metadata": {
        "id": "TxlYmBJwgRaB"
      },
      "source": [
        "phone = {'Gustavo': '996285337',\n",
        "         'Breno': '996287654',\n",
        "         'Adwaita': '996287788'}\n",
        "\n",
        "govinda = phone['govinda'] # Key error: the key does not exist\n",
        "print(govinda) "
      ],
      "execution_count": null,
      "outputs": []
    },
    {
      "cell_type": "markdown",
      "metadata": {
        "id": "-IwGMQH1m1xA"
      },
      "source": [
        "### Avangers Cast"
      ]
    },
    {
      "cell_type": "code",
      "metadata": {
        "id": "heb0XZ68m9ou"
      },
      "source": [
        "avangers = {'iron man': 'Robert Downey Jr.',\n",
        "           'Captain Americ': 'Chris Evans',\n",
        "           'Black Widow': 'Scarlet Johanson',\n",
        "           'Thor': 'Chirs Hemsworth',\n",
        "           'Hulk': 'Mark Ruffalo',\n",
        "           'Nick Fury': 'Samuel L. Jackson',\n",
        "           'God': 'Stan Lee'}\n",
        "\n",
        "# browsing the dictionary with structure for and method items()\n",
        "for key,value in avangers.items():\n",
        "  print(f'{key} : {value}')"
      ],
      "execution_count": null,
      "outputs": []
    },
    {
      "cell_type": "code",
      "metadata": {
        "id": "b7PfQkOmr3bM"
      },
      "source": [
        ""
      ],
      "execution_count": null,
      "outputs": []
    }
  ]
}