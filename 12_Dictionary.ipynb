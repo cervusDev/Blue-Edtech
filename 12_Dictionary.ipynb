{
  "nbformat": 4,
  "nbformat_minor": 0,
  "metadata": {
    "colab": {
      "name": "12_Dictionary.ipynb",
      "private_outputs": true,
      "provenance": [],
      "authorship_tag": "ABX9TyP31qPwKmCuL+25biAx/GVp",
      "include_colab_link": true
    },
    "kernelspec": {
      "name": "python3",
      "display_name": "Python 3"
    },
    "language_info": {
      "name": "python"
    },
    "accelerator": "GPU"
  },
  "cells": [
    {
      "cell_type": "markdown",
      "metadata": {
        "id": "view-in-github",
        "colab_type": "text"
      },
      "source": [
        "<a href=\"https://colab.research.google.com/github/gucervus/Blue-Edtech/blob/main/12_Dictionary.ipynb\" target=\"_parent\"><img src=\"https://colab.research.google.com/assets/colab-badge.svg\" alt=\"Open In Colab\"/></a>"
      ]
    },
    {
      "cell_type": "markdown",
      "metadata": {
        "id": "uQJHYDBnYi61"
      },
      "source": [
        "### Basic structure"
      ]
    },
    {
      "cell_type": "code",
      "metadata": {
        "id": "xpebCK2PXw0O"
      },
      "source": [
        "# key: string, value: number\n",
        "phone = {'Gustavo': 996285337,\n",
        "         'Breno': 996287654,\n",
        "         'Adwaita': 996287788}\n",
        "print(type(phone))\n",
        "print(phone)"
      ],
      "execution_count": null,
      "outputs": []
    },
    {
      "cell_type": "code",
      "metadata": {
        "id": "Q1n3jaqVj7jh"
      },
      "source": [
        "# key: number, value: number\n",
        "students = {0: 'Gustavo',\n",
        "            1: 'Adwaita',\n",
        "            2: 'Breno',}\n",
        "print(students)"
      ],
      "execution_count": null,
      "outputs": []
    },
    {
      "cell_type": "markdown",
      "metadata": {
        "id": "PU1M99JKf-V7"
      },
      "source": [
        "### Dictionary creation with dict function through lists"
      ]
    },
    {
      "cell_type": "code",
      "metadata": {
        "id": "9aoDfFE3aKuc"
      },
      "source": [
        "contacts = [('gustavo',123),('breno',456),('adwaita',459)]\n",
        "phones = dict(contacts)\n",
        "\n",
        "print(type(phones))\n",
        "print(phones)"
      ],
      "execution_count": null,
      "outputs": []
    },
    {
      "cell_type": "markdown",
      "metadata": {
        "id": "-f2eYEuAl3EN"
      },
      "source": [
        "### Dictionary creation with dict function through tuple"
      ]
    },
    {
      "cell_type": "code",
      "metadata": {
        "id": "bAhwDCdTl9if"
      },
      "source": [
        "animals = (('nook','birds'),('atlantis','sharks'),('forest','monkeys'))\n",
        "zoo = dict(animals)\n",
        "\n",
        "print(type(zoo))\n",
        "print(zoo)"
      ],
      "execution_count": null,
      "outputs": []
    },
    {
      "cell_type": "markdown",
      "metadata": {
        "id": "8a3PYCs0fx9d"
      },
      "source": [
        "### Acessing elements"
      ]
    },
    {
      "cell_type": "code",
      "metadata": {
        "id": "KBB6eedUeqm9"
      },
      "source": [
        "# slicing\n",
        "phone = {'Gustavo': '996285337',\n",
        "         'Breno': '996287654',\n",
        "         'Adwaita': '996287788'}\n",
        "\n",
        "adwaita = phone['Adwaita']\n",
        "print(adwaita)\n",
        "print()\n",
        "\n",
        "# method get: search dictionary value\n",
        "  # get(key: value)\n",
        "breno = phone.get('Breno')\n",
        "print(breno)\n",
        "print()\n",
        "\n",
        "# methodo get: if you don't find the value\n",
        "  # get(key: value, else: string, number)\n",
        "chukNoris = phone.get('chuck norris',0)\n",
        "print(chukNoris)"
      ],
      "execution_count": null,
      "outputs": []
    },
    {
      "cell_type": "markdown",
      "metadata": {
        "id": "-ObLvnYXgxCp"
      },
      "source": [
        "### Notice the errors\n",
        "\n"
      ]
    },
    {
      "cell_type": "code",
      "metadata": {
        "id": "4icj4T5UfYt3"
      },
      "source": [
        "# three elements in composite list\n",
        "contacts = [('gustavo','123','bad'),('breno','456','test'),('adwaita','459','wath')]\n",
        "phones = dict(contacts) # Value error: it is not possible to map the dictionary\n",
        "print(phones) "
      ],
      "execution_count": null,
      "outputs": []
    },
    {
      "cell_type": "code",
      "metadata": {
        "id": "TxlYmBJwgRaB"
      },
      "source": [
        "phone = {'Gustavo': '996285337',\n",
        "         'Breno': '996287654',\n",
        "         'Adwaita': '996287788'}\n",
        "\n",
        "govinda = phone['govinda'] # Key error: the key does not exist\n",
        "print(govinda) "
      ],
      "execution_count": null,
      "outputs": []
    },
    {
      "cell_type": "markdown",
      "metadata": {
        "id": "-IwGMQH1m1xA"
      },
      "source": [
        "### Avangers Cast"
      ]
    },
    {
      "cell_type": "code",
      "metadata": {
        "id": "heb0XZ68m9ou"
      },
      "source": [
        "avangers = {'iron man': 'Robert Downey Jr.',\n",
        "           'Captain Americ': 'Chris Evans',\n",
        "           'Black Widow': 'Scarlet Johanson',\n",
        "           'Thor': 'Chirs Hemsworth',\n",
        "           'Hulk': 'Mark Ruffalo',\n",
        "           'Nick Fury': 'Samuel L. Jackson',\n",
        "           'God': 'Stan Lee'}\n",
        "\n",
        "# browsing the dictionary with structure for and method items()\n",
        "for key,value in avangers.items():\n",
        "  print(f'{key} : {value}')"
      ],
      "execution_count": null,
      "outputs": []
    },
    {
      "cell_type": "markdown",
      "metadata": {
        "id": "esER4ozk1_xE"
      },
      "source": [
        "### Accessing two dictionaries"
      ]
    },
    {
      "cell_type": "code",
      "metadata": {
        "id": "b7PfQkOmr3bM"
      },
      "source": [
        "# Incomplete understanding of outputs\n",
        "avangers = {'Hulk': 'Mark Ruffalo',\n",
        "               'strength': 2000}\n",
        "\n",
        "justiceLeague = {'Lex Luttor': 'Jesse Einsenberg',\n",
        "                'strength': 2500}\n",
        "\n",
        "for (avangersKey, avangersValue), (JLKey, JLValue) in zip(avangers.items(), justiceLeague.items()):\n",
        "  print(f'{avangersKey}: {avangersValue}'), print(f'{JLKey}: {JLValue}')"
      ],
      "execution_count": null,
      "outputs": []
    },
    {
      "cell_type": "markdown",
      "metadata": {
        "id": "k6jKiUEm2kdR"
      },
      "source": [
        "### check if the element exist in the dictionary"
      ]
    },
    {
      "cell_type": "code",
      "metadata": {
        "id": "3rr5akFjvCj_"
      },
      "source": [
        "avangers = {'iron man': 'Robert Downey Jr.',\n",
        "           'Captain Americ': 'Chris Evans',\n",
        "           'Black Widow': 'Scarlet Johanson',\n",
        "           'Thor': 'Chirs Hemsworth',\n",
        "           'Hulk': 'Mark Ruffalo',\n",
        "           'Nick Fury': 'Samuel L. Jackson',\n",
        "           'God': 'Stan Lee'}\n",
        "\n",
        "finding =  'Robert Downey Jr.' in avangers.values()\n",
        "print(finding) # return: true or false"
      ],
      "execution_count": null,
      "outputs": []
    },
    {
      "cell_type": "markdown",
      "metadata": {
        "id": "jGGW8Q4r385g"
      },
      "source": [
        "### Adding elements"
      ]
    },
    {
      "cell_type": "code",
      "metadata": {
        "id": "s8TcFa9l3Drk"
      },
      "source": [
        "avangers = {'Hulk': 2000}\n",
        "# note structure\n",
        "  # object[key] = value\n",
        "avangers['Thor'] = 2700\n",
        "\n",
        "print(avangers)\n",
        "print()\n",
        "\n",
        "# Adding with input out of the dictionary\n",
        "newHeroKey = input('Choose an avanger: ')\n",
        "yourStrength = int(input('what is your strength: '))\n",
        "avangers[newHeroKey] = yourStrength\n",
        "\n",
        "print()\n",
        "print(avangers)"
      ],
      "execution_count": null,
      "outputs": []
    },
    {
      "cell_type": "markdown",
      "metadata": {
        "id": "mIO5bX8M8Z_O"
      },
      "source": [
        "### Excludding elements"
      ]
    },
    {
      "cell_type": "code",
      "metadata": {
        "id": "JhK6ViDp5Z1h"
      },
      "source": [
        "# del command\n",
        "avangers = {'Iron Man': 'Robert Downey Jr.',\n",
        "           'Captain Americ': 'Chris Evans',\n",
        "           'Black Widow': 'Scarlet Johanson',\n",
        "           'Thor': 'Chirs Hemsworth',\n",
        "           'Hulk': 'Mark Ruffalo',\n",
        "           'Nick Fury': 'Samuel L. Jackson',\n",
        "           'God': 'Stan Lee'}\n",
        "\n",
        "del avangers['Iron Man'] # key as a parameter, ex: 'iron man'\n",
        "for key,value in avangers.items():\n",
        "  print(f'{key} : {value}')\n",
        "print()\n",
        "\n",
        "# method pop: I don't know if the element exists\n",
        "avangers.pop('Captain Americ', 'element not finding')\n",
        "for key,value in avangers.items():\n",
        "  print(f'{key} : {value}')\n",
        "\n",
        "# clear all dictionary\n",
        "avangers.clear()\n",
        "print()\n",
        "print(f'empty dictionary: {avangers}')\n",
        "\n",
        "# deleted dictionary\n",
        "del avangers\n",
        "print(avangers) #return \"name error\"\n"
      ],
      "execution_count": null,
      "outputs": []
    },
    {
      "cell_type": "markdown",
      "metadata": {
        "id": "a4-VmV6TAHxc"
      },
      "source": [
        "### Joining dictionaries with for"
      ]
    },
    {
      "cell_type": "code",
      "metadata": {
        "id": "Ec8tk8cX8phO"
      },
      "source": [
        "avangers = {'Hulk': 'Mark Ruffalo',\n",
        "               'hulkStrength': 2000}\n",
        "\n",
        "justiceLeague = {'Lex Luttor': 'Jesse Einsenberg',\n",
        "                'lexStrength': 2500}\n",
        "\n",
        "for hero in avangers:\n",
        "  justiceLeague[hero] = avangers[hero]\n",
        "\n",
        "print(justiceLeague)"
      ],
      "execution_count": null,
      "outputs": []
    },
    {
      "cell_type": "markdown",
      "metadata": {
        "id": "5JmlnjK2E9_9"
      },
      "source": [
        "### Joining dictionaries with update"
      ]
    },
    {
      "cell_type": "code",
      "metadata": {
        "id": "DaRARIwfBKxg"
      },
      "source": [
        "avangers = {'Hulk': 'Mark Ruffalo',\n",
        "               'hulkStrength': 2000}\n",
        "\n",
        "justiceLeague = {'Lex Luttor': 'Jesse Einsenberg',\n",
        "                'lexStrength': 2500}\n",
        "\n",
        "print(type(avangers.update(justiceLeague))) # the type of a method interaction is NoneType\n",
        "print(type(avangers)) #After the assignment, it resumes the \"class dict\"\n",
        "\n",
        "print()\n",
        "newLeague = avangers\n",
        "print(newLeague)"
      ],
      "execution_count": null,
      "outputs": []
    }
  ]
}