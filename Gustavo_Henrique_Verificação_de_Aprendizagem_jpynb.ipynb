{
  "nbformat": 4,
  "nbformat_minor": 0,
  "metadata": {
    "colab": {
      "name": "Gustavo Henrique Verificação de Aprendizagem.jpynb",
      "private_outputs": true,
      "provenance": [],
      "authorship_tag": "ABX9TyNei22Z1WpiN/IR68BIWq7f",
      "include_colab_link": true
    },
    "kernelspec": {
      "name": "python3",
      "display_name": "Python 3"
    },
    "language_info": {
      "name": "python"
    }
  },
  "cells": [
    {
      "cell_type": "markdown",
      "metadata": {
        "id": "view-in-github",
        "colab_type": "text"
      },
      "source": [
        "<a href=\"https://colab.research.google.com/github/gucervus/Blue-Edtech/blob/main/Gustavo_Henrique_Verifica%C3%A7%C3%A3o_de_Aprendizagem_jpynb.ipynb\" target=\"_parent\"><img src=\"https://colab.research.google.com/assets/colab-badge.svg\" alt=\"Open In Colab\"/></a>"
      ]
    },
    {
      "cell_type": "markdown",
      "metadata": {
        "id": "Mx94xCAuRzDl"
      },
      "source": [
        " - Utilizando estruturas condicionais faça um programa que pergunte ao usuário dois números e mostre:\n",
        "    • A soma deles;\n",
        "    • A multiplicação entre eles;\n",
        "    • A divisão  inteira deles;\n",
        "    • Mostre na tela qual é o maior;\n",
        "    • Verifique se o resultado da soma é par ou ímpar e mostre na tela;\n",
        "    • Se a multiplicação entre eles for maior que 40, divida pelo resultado da divisão inteira e mostre o resultado na tela. Se não, mostre que a multiplicação não foi maior que 40."
      ]
    },
    {
      "cell_type": "code",
      "metadata": {
        "id": "fPt6HkJ1CveX"
      },
      "source": [
        "#01\n",
        "primeiro = float(input('Entre com o primeiro número desejado: '))\n",
        "segundo =  float(input('Entre com o segunda número desejado: '))\n",
        "\n",
        "maior = primeiro\n",
        "sum = primeiro + segundo\n",
        "mult = primeiro * segundo\n",
        "inter = primeiro // segundo\n",
        "print()\n",
        "\n",
        "if segundo > maior:\n",
        "  maior = segundo\n",
        "  print(f'O maior é: {maior}')\n",
        "else:\n",
        "  print(f'O maior é o: {maior}')\n",
        "print()\n",
        "\n",
        "if sum % 2 == 0:\n",
        "  print(f'a soma é {sum} e o numero é par')\n",
        "else:\n",
        "  print(f'a soma é {sum} e o numero é impar')\n",
        "print()\n",
        "\n",
        "if mult > 40: \n",
        "  div = mult / inter \n",
        "  print(f'resultado da divisão: {div}')\n",
        "else:\n",
        "  print('multiplicação não foi maior que 40')\n"
      ],
      "execution_count": null,
      "outputs": []
    },
    {
      "cell_type": "markdown",
      "metadata": {
        "id": "Zq1b309fVg1a"
      },
      "source": [
        "Utilizando estruturas de repetição com variável de controle, faça um programa que receba uma string com uma frase informada pelo usuário e conte quantas vezes aparece as vogais a,e,i,o,u e mostre na tela. Depois mostre na tela essa mesma frase sem nenhuma vogal.\n"
      ]
    },
    {
      "cell_type": "code",
      "metadata": {
        "id": "7kQKCPIRTGrr"
      },
      "source": [
        "novaFrase = ''\n",
        "vogais = 'aeiou'\n",
        "totvogal = 0\n",
        "opc = 0\n",
        "\n",
        "while opc == 0: \n",
        "  frase = input('Digite uma frase: ').lower()\n",
        "\n",
        "  for letra in frase:\n",
        "    if letra in vogais:\n",
        "      totvogal+=1     \n",
        "    else:\n",
        "      novaFrase+=letra \n",
        "\n",
        "  if input('Deseja continuar?[S/N]: ') in 'n':\n",
        "    opc = 1\n",
        "  else:\n",
        "    continue\n",
        "\n",
        "print(frase)\n",
        "print(totvogal)\n",
        "print(novaFrase)"
      ],
      "execution_count": null,
      "outputs": []
    },
    {
      "cell_type": "code",
      "metadata": {
        "id": "kNIDb2XbV3-S"
      },
      "source": [
        "#03\n",
        "from random import randint\n",
        "from time import sleep\n",
        "senha = 'padrão'\n",
        "while True:\n",
        "  print()\n",
        "  usuario = input(\"Digite sua senha: \")  \n",
        "\n",
        "  if usuario != senha:\n",
        "    print('senha incorreta, tente novamente...')\n",
        "    usuario = input('Digite sua senha: ')\n",
        "  else:\n",
        "    print('bem vindo ao jogo de adivinhação: ')\n",
        "    print()\n",
        "    sleep(2)\n",
        "    print('estou pensando em um número...\\n')\n",
        "    computador = randint(0,10)\n",
        "    print('Pensei...Será que você acerta?')\n",
        "\n",
        "    tentativa = int(input(\"Escolha um número: \"))\n",
        "\n",
        "  if tentativa == computador: \n",
        "    print('Acertou miserávi')\n",
        "  elif tentativa > computador: \n",
        "    print('Menor')\n",
        "    tentativa = int(input(\"Escolha um número: \"))\n",
        "  elif tentativa < computador:\n",
        "    print('Maior')\n",
        "    tentativa = int(input(\"Escolha um número: \"))"
      ],
      "execution_count": null,
      "outputs": []
    },
    {
      "cell_type": "code",
      "metadata": {
        "id": "-W2tgjQaagsc"
      },
      "source": [
        "#04\n",
        "from random import randint\n",
        "\n",
        "computador = randint(1,10)\n",
        "jogador = 0\n",
        "senha = 'padrao'\n",
        "palpites = 1\n",
        "\n",
        "while jogador != computador:\n",
        "\n",
        "  usuario = input('Qual a senha')\n",
        "\n",
        "  if usuario == senha:\n",
        "    print('Vamos começar o jogo')\n",
        "\n",
        "  jogador = int(input('Tentativa: '))\n",
        "  while True:\n",
        "    \n",
        "    if jogador > computador:\n",
        "      print('Menor')\n",
        "      palpites+=1\n",
        "      jogador = int(input('Tentativa: '))\n",
        "    elif jogador < computador:\n",
        "      print('Maior')\n",
        "      palpites+=1\n",
        "      jogador = int(input('Tentativa: '))\n",
        "    else:\n",
        "      break\n",
        "  \n",
        "  else:\n",
        "    print('senha incorreta...')\n",
        "    usuario = input('Qual a senha')\n"
      ],
      "execution_count": null,
      "outputs": []
    },
    {
      "cell_type": "code",
      "metadata": {
        "id": "2V0jxLxliU6t"
      },
      "source": [
        "#05\n",
        "import unicodedata\n",
        "\n",
        "def processamento(frase):\n",
        "  processamento = unicodedata.normalize('NFD',frase)\n",
        "  processamento = processamento.encode('ascii','ignore')\n",
        "  processamento = str(processamento)\n",
        "\n",
        "  return processamento\n",
        "\n",
        "def vogal(processamento): \n",
        "\n",
        "  novaFrase = ''\n",
        "  totvogal = 0\n",
        "\n",
        "  for letra in processamento:\n",
        "    if letra in 'aeiou':\n",
        "      totvogal+=1     \n",
        "    else:\n",
        "      novaFrase+=letra \n",
        "\n",
        "  return novaFrase[2:], totvogal\n",
        "\n",
        "frase = input('Digite uma frase')\n",
        "vogal(processamento(frase))"
      ],
      "execution_count": null,
      "outputs": []
    },
    {
      "cell_type": "code",
      "metadata": {
        "id": "pwclaAKe6fmX"
      },
      "source": [
        "#06\n",
        "from datetime import date\n",
        "\n",
        "listaPerguntas = ['Nome','Ano de nascimento', 'Carteira de trabalho']\n",
        "listaRespostas = []\n",
        "cpo = 0\n",
        "\n",
        "while cpo < len(listaPerguntas):\n",
        "  cpo+=1\n",
        "\n",
        "  if cpo == 1:\n",
        "    n = cpo - 1\n",
        "\n",
        "  resposta = input(f'{listaPerguntas[n]}: ').lower().capitalize()\n",
        "  listaRespostas.append(resposta)\n",
        "  n+=1\n",
        "\n",
        "for c in range(1):\n",
        "  if 'True' not in listaRespostas:\n",
        "    break\n",
        "  else:\n",
        "    listaPerguntas.append('Salário')\n",
        "    listaPerguntas.append('Ano de contratação')\n",
        "    dic = dict(zip(listaPerguntas, listaRespostas))\n",
        "\n",
        "    for c in range(2):\n",
        "      resposta = input(f'{listaPerguntas[c+3]}: ')\n",
        "      listaRespostas.append(resposta)\n",
        "\n",
        "    anoAtual = date.today().year\n",
        "    aposentadoria = int(listaRespostas[4]) + 35\n",
        "    tempoContribuição = aposentadoria - anoAtual\n",
        "    idade = anoAtual - int(listaRespostas[1])\n",
        "    idadeAposentadoria = idade + 35\n",
        "\n",
        "    dic = dict(zip(listaPerguntas, listaRespostas))\n",
        "\n",
        "    dic['Idade'] = f'{idade} anos'\n",
        "    dic['Aposentadoria'] = f'{idadeAposentadoria} anos'\n",
        "\n",
        "    print()\n",
        "    for key, value in dic.items():\n",
        "      print(f'{key}: {value}')"
      ],
      "execution_count": null,
      "outputs": []
    },
    {
      "cell_type": "markdown",
      "metadata": {
        "id": "bFcrlRhQEG80"
      },
      "source": [
        "Crie um programa onde o usuário possa digitar sete valores numéricos  e cadastre-os em uma lista única que mantenha separados os valores par\tes e ímpares. No final, mostre os valores pares e ímpares  em ordem crescente."
      ]
    },
    {
      "cell_type": "code",
      "metadata": {
        "id": "Oh2ln2sODfD4"
      },
      "source": [
        "lista = list()\n",
        "y = 0\n",
        "\n",
        "for i in range(1,7+1):\n",
        "      \n",
        "  valores = int(input(f\"Digite o {i}° valor: \"))\n",
        "  \n",
        "  if valores % 2 == 0:\n",
        "        \n",
        "    y+=1\n",
        "    lista.insert(0,valores)\n",
        "    print(lista) \n",
        "    \n",
        "  else:\n",
        "\n",
        "    lista.insert(len(lista),valores)\n",
        "    print(lista)\n",
        "    \n",
        "ordenado = sorted(lista[:y]) + sorted(lista[y:])\n",
        "\n",
        "print()\n",
        "print(ordenado)"
      ],
      "execution_count": null,
      "outputs": []
    }
  ]
}