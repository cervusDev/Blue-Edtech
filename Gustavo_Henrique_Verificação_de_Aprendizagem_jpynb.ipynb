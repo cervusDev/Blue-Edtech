{
  "nbformat": 4,
  "nbformat_minor": 0,
  "metadata": {
    "colab": {
      "name": "Gustavo Henrique Verificação de Aprendizagem.jpynb",
      "private_outputs": true,
      "provenance": [],
      "authorship_tag": "ABX9TyNSnhDa2bv54jSmC+DmfpD8",
      "include_colab_link": true
    },
    "kernelspec": {
      "name": "python3",
      "display_name": "Python 3"
    },
    "language_info": {
      "name": "python"
    }
  },
  "cells": [
    {
      "cell_type": "markdown",
      "metadata": {
        "id": "view-in-github",
        "colab_type": "text"
      },
      "source": [
        "<a href=\"https://colab.research.google.com/github/gucervus/Blue-Edtech/blob/main/Gustavo_Henrique_Verifica%C3%A7%C3%A3o_de_Aprendizagem_jpynb.ipynb\" target=\"_parent\"><img src=\"https://colab.research.google.com/assets/colab-badge.svg\" alt=\"Open In Colab\"/></a>"
      ]
    },
    {
      "cell_type": "markdown",
      "metadata": {
        "id": "Mx94xCAuRzDl"
      },
      "source": [
        " - Utilizando estruturas condicionais faça um programa que pergunte ao usuário dois números e mostre:\n",
        "    • A soma deles;\n",
        "    • A multiplicação entre eles;\n",
        "    • A divisão  inteira deles;\n",
        "    • Mostre na tela qual é o maior;\n",
        "    • Verifique se o resultado da soma é par ou ímpar e mostre na tela;\n",
        "    • Se a multiplicação entre eles for maior que 40, divida pelo resultado da divisão inteira e mostre o resultado na tela. Se não, mostre que a multiplicação não foi maior que 40."
      ]
    },
    {
      "cell_type": "code",
      "metadata": {
        "id": "fPt6HkJ1CveX"
      },
      "source": [
        "primeiro = float(input('Entre com o primeiro número desejado: '))\n",
        "segundo =  float(input('Entre com o segunda número desejado: '))\n",
        "\n",
        "maior = primeiro\n",
        "sum = primeiro + segundo\n",
        "mult = primeiro * segundo\n",
        "inter = primeiro // segundo\n",
        "print()\n",
        "\n",
        "if segundo > maior:\n",
        "  maior = segundo\n",
        "  print(f'O maior é: {maior}')\n",
        "else:\n",
        "  print(f'O maior é o: {maior}')\n",
        "print()\n",
        "\n",
        "if sum % 2 == 0:\n",
        "  print(f'a soma é {sum} e o numero é par')\n",
        "else:\n",
        "  print(f'a soma é {sum} e o numero é impar')\n",
        "print()\n",
        "\n",
        "if mult > 40: \n",
        "  div = mult / inter \n",
        "  print(f'resultado da divisão: {div}')\n",
        "else:\n",
        "  print('multiplicação não foi maior que 40')\n"
      ],
      "execution_count": null,
      "outputs": []
    },
    {
      "cell_type": "markdown",
      "metadata": {
        "id": "Zq1b309fVg1a"
      },
      "source": [
        "Utilizando estruturas de repetição com variável de controle, faça um programa que receba uma string com uma frase informada pelo usuário e conte quantas vezes aparece as vogais a,e,i,o,u e mostre na tela. Depois mostre na tela essa mesma frase sem nenhuma vogal.\n"
      ]
    },
    {
      "cell_type": "code",
      "metadata": {
        "id": "7kQKCPIRTGrr"
      },
      "source": [
        "novaFrase = ''\n",
        "vogais = 'aeiou'\n",
        "totvogal = 0\n",
        "opc = 0\n",
        "\n",
        "while opc == 0: \n",
        "  frase = input('Digite uma frase: ').lower()\n",
        "\n",
        "  for letra in frase:\n",
        "    if letra in vogais:\n",
        "      totvogal+=1     \n",
        "    else:\n",
        "      novaFrase+=letra \n",
        "\n",
        "  if input('Deseja continuar?[S/N]: ') in 'n':\n",
        "    opc = 1\n",
        "  else:\n",
        "    continue\n",
        "\n",
        "print(frase)\n",
        "print(totvogal)\n",
        "print(novaFrase)"
      ],
      "execution_count": null,
      "outputs": []
    },
    {
      "cell_type": "code",
      "metadata": {
        "id": "kNIDb2XbV3-S"
      },
      "source": [
        "from random import randint\n",
        "from time import sleep\n",
        "senha = 'padrão'\n",
        "while True:\n",
        "  print()\n",
        "  usuario = input(\"Digite sua senha: \")  \n",
        "\n",
        "  if usuario != senha:\n",
        "    print('senha incorreta, tente novamente...')\n",
        "    usuario = input('Digite sua senha: ')\n",
        "  else:\n",
        "    print('bem vindo ao jogo de adivinhação: ')\n",
        "    print()\n",
        "    sleep(2)\n",
        "    print('estou pensando em um número...\\n')\n",
        "    computador = randint(0,10)\n",
        "    print('Pensei...Será que você acerta?')\n",
        "\n",
        "    tentativa = int(input(\"Escolha um número: \"))\n",
        "\n",
        "  if tentativa == computador: \n",
        "    print('Acertou miserávi')\n",
        "  elif tentativa > computador: \n",
        "    print('Menor')\n",
        "    tentativa = int(input(\"Escolha um número: \"))\n",
        "  elif tentativa < computador:\n",
        "    print('Maior')\n",
        "    tentativa = int(input(\"Escolha um número: \"))"
      ],
      "execution_count": null,
      "outputs": []
    },
    {
      "cell_type": "code",
      "metadata": {
        "id": "-W2tgjQaagsc"
      },
      "source": [
        "from random import randint\n",
        "\n",
        "computador = randint(1,10)\n",
        "jogador = 0\n",
        "senha = 'padrao'\n",
        "palpites = 1\n",
        "\n",
        "while jogador != computador:\n",
        "\n",
        "  usuario = input('Qual a senha')\n",
        "\n",
        "  if usuario == senha:\n",
        "    print('Vamos começar o jogo')\n",
        "\n",
        "  jogador = int(input('Tentativa: '))\n",
        "  while True:\n",
        "    \n",
        "    if jogador > computador:\n",
        "      print('Menor')\n",
        "      palpites+=1\n",
        "      jogador = int(input('Tentativa: '))\n",
        "    elif jogador < computador:\n",
        "      print('Maior')\n",
        "      palpites+=1\n",
        "      jogador = int(input('Tentativa: '))\n",
        "    else:\n",
        "      break\n",
        "  \n",
        "  else:\n",
        "    print('senha incorreta...')\n",
        "    usuario = input('Qual a senha')\n"
      ],
      "execution_count": null,
      "outputs": []
    },
    {
      "cell_type": "code",
      "metadata": {
        "id": "nhpDqWt_fVvj"
      },
      "source": [
        ""
      ],
      "execution_count": null,
      "outputs": []
    },
    {
      "cell_type": "code",
      "metadata": {
        "id": "2V0jxLxliU6t"
      },
      "source": [
        "#5\n",
        "def vogal(frase): \n",
        "\n",
        "  novaFrase = ''\n",
        "  totvogal = 0\n",
        "\n",
        "  for letra in frase:\n",
        "    if letra in 'aáàâãeéèêẽiìíoóòõôuúù':\n",
        "      totvogal+=1     \n",
        "    else:\n",
        "      novaFrase+=letra \n",
        "\n",
        "  return novaFrase, totvogal\n",
        "\n",
        "vogal('ola mundô')"
      ],
      "execution_count": null,
      "outputs": []
    },
    {
      "cell_type": "code",
      "metadata": {
        "id": "8Agzcg_QjG4e"
      },
      "source": [
        ""
      ],
      "execution_count": null,
      "outputs": []
    }
  ]
}