{
  "nbformat": 4,
  "nbformat_minor": 0,
  "metadata": {
    "colab": {
      "name": "Blue_01 PT 02.ipynb",
      "private_outputs": true,
      "provenance": [],
      "authorship_tag": "ABX9TyPlbvKOQL9YWuEMdUa6Xy0S",
      "include_colab_link": true
    },
    "kernelspec": {
      "name": "python3",
      "display_name": "Python 3"
    },
    "language_info": {
      "name": "python"
    }
  },
  "cells": [
    {
      "cell_type": "markdown",
      "metadata": {
        "id": "view-in-github",
        "colab_type": "text"
      },
      "source": [
        "<a href=\"https://colab.research.google.com/github/gucervus/Blue-Edtech/blob/main/Blue_01_PT_02.ipynb\" target=\"_parent\"><img src=\"https://colab.research.google.com/assets/colab-badge.svg\" alt=\"Open In Colab\"/></a>"
      ]
    },
    {
      "cell_type": "markdown",
      "metadata": {
        "id": "Uk2aouiMK-rF"
      },
      "source": [
        "## Exercício 01\n",
        "Elabore um programa que escreve seu nome completo na primeira linha, seu endereço na segunda e o CEP e telefone na terceira.  \n",
        "\n",
        "**Exemplo:**\n",
        "```\n",
        "Nome: Bruno Fabri\n",
        "Endereço: Rua ABC\n",
        "CEP: 002220-010\n",
        "```"
      ]
    },
    {
      "cell_type": "code",
      "metadata": {
        "id": "8KxiuLzFK-XV"
      },
      "source": [
        "nome = 'Nome: Gustavo Henrique'\n",
        "endereco = 'Endereço: Rua Odilon Prado Cassettari'\n",
        "cep = 'CEP: 18610-195'\n",
        "\n",
        "print(f\"{nome}\\n{endereco}\\n{cep}\")"
      ],
      "execution_count": null,
      "outputs": []
    },
    {
      "cell_type": "markdown",
      "metadata": {
        "id": "yB85ecvgLC-k"
      },
      "source": [
        "## Exercício 02\n",
        "Elabore um programa que recebe o nome de uma pessoa do terminal e mostra a seguinte mensagem: \n",
        "\n",
        "\n",
        "`Olá {nome}! Seja bem vindo ao fantástico mundo da programação`"
      ]
    },
    {
      "cell_type": "code",
      "metadata": {
        "id": "VOSXXJe4LMi2"
      },
      "source": [
        "meuNome = input('Qual o seu nome? ')\n",
        "print(f\"Olá {meuNome}! Seja bem vindo ao fantástico mundo da programação\")"
      ],
      "execution_count": null,
      "outputs": []
    },
    {
      "cell_type": "markdown",
      "metadata": {
        "id": "ZAPeU7cALOgN"
      },
      "source": [
        "## Exercício 03\n",
        "Elabore um programa que recebe dois valores inteiros e mostra a soma desses valores\n",
        "\n",
        "**Exemplo:**\n",
        "\n",
        "```\n",
        "Primeiro Valor = 2\n",
        "Segundo Valor = 3\n",
        "Soma = 5\n",
        "```"
      ]
    },
    {
      "cell_type": "code",
      "metadata": {
        "id": "YNtx8VZSLRyS"
      },
      "source": [
        "primeiroValor = int(input(\"Primeiro valor\"))\n",
        "segundoValor = int(input(\"Segundo valor\"))\n",
        "soma = primeiroValor + segundoValor\n",
        "\n",
        "print(f\"{primeiroValor} + {segundoValor} = {soma}\")"
      ],
      "execution_count": null,
      "outputs": []
    },
    {
      "cell_type": "markdown",
      "metadata": {
        "id": "H0f-XkWwLUKG"
      },
      "source": [
        "## Exercício 06\n",
        "Elabore um programa que recebe dois valores inteiros e mostra se o primeiro valor é maior ou igual ao segundo valor\n",
        "\n",
        "**Exemplo:**\n",
        "```\n",
        "Primeiro Valor = 3\n",
        "Segundo Valor = 2\n",
        "Resultado = True\n",
        "```"
      ]
    },
    {
      "cell_type": "code",
      "metadata": {
        "id": "fUGY5RNWLXUD"
      },
      "source": [
        "primeiroValor = float(input(\"Primeiro valor: \"))\n",
        "segundoValor = float(input('Segundo valor: '))\n",
        "resultado = primeiroValor >= segundoValor\n",
        "\n",
        "print(f\"Primeiro valor é maior ou igual ao segundo valor? {resultado}\")"
      ],
      "execution_count": null,
      "outputs": []
    },
    {
      "cell_type": "markdown",
      "metadata": {
        "id": "Cwxbc1IHLZlh"
      },
      "source": [
        "## Exercício 05\n",
        "Elabore um programa que recebe o seu nome, endereço e hobby e mostra cada uma das informações da seguinte forma:\n",
        "- Nome -> Letra maiúscula\n",
        "- Endereço -> Letra minúscula\n",
        "- Hobby -> Primeira letra maiúscula\n",
        "\n",
        "**Exemplo Entrada:**\n",
        "```\n",
        "Nome: bruno fabri\n",
        "Endereço: Rua ABC\n",
        "Hobby: jogar cs\n",
        "```\n",
        "\n",
        "**Exemplo Saída:**\n",
        "```\n",
        "Nome: BRUNO FABRI\n",
        "Endereço: rua abc\n",
        "Hobby: Jogar cs\n",
        "```"
      ]
    },
    {
      "cell_type": "code",
      "metadata": {
        "id": "s4HNImhfLc3r"
      },
      "source": [
        "nome = input('Digite seu nome: ').upper()\n",
        "endereco = input('Digite seu endereço: ').lower()\n",
        "hobby = input('Digite seu hobby: ').capitalize()\n",
        "\n",
        "print(f\"{nome}\\n{endereco}\\n{hobby}\")"
      ],
      "execution_count": null,
      "outputs": []
    },
    {
      "cell_type": "markdown",
      "metadata": {
        "id": "gNmvSOSPLfPj"
      },
      "source": [
        "# Mini Projetos"
      ]
    },
    {
      "cell_type": "markdown",
      "metadata": {
        "id": "S2zP1zxULiOC"
      },
      "source": [
        "## Mini Projeto 01 - Conversor de Moeda\n",
        "Vamos construir um programa que irá converter moedas do real para o dólar e do dólar para o real. Vamos considerar que `$ 1,00 = R$ 5,75`\n",
        "\n",
        "### Parte 1\n",
        "Faça o conversor de moeda receber o valor em real e mostrar o valor convertido para dólar no formato `$ XXXX.XX`\n",
        "\n",
        "**Exemplo:**\n",
        "\n",
        "```\n",
        "Valor em R$ = 1000\n",
        "Valor em $ = $ 173.91\n",
        "```\n",
        "\n",
        "### Parte 2\n",
        "Altere o conversor de moedas para receber o valor em dólar, converter para real e mostrar o resultado no formato `R$ XXXX.XX`\n",
        "\n",
        "**Exemplo:**\n",
        "```\n",
        "Valor em $ = 1000\n",
        "Valor em R$ = R$ 5750.00\n",
        "```"
      ]
    },
    {
      "cell_type": "code",
      "metadata": {
        "id": "lFtrVSV1LmEi"
      },
      "source": [
        "valorEmReal = float(input('Digite um valor: '))\n",
        "Dolar = 5.75\n",
        "valorConvertidoEmDolar = valorEmReal * Dolar\n",
        "\n",
        "print(f\"${valorConvertidoEmDolar:.2f}\")"
      ],
      "execution_count": null,
      "outputs": []
    },
    {
      "cell_type": "code",
      "metadata": {
        "id": "DqiGnizkLot6"
      },
      "source": [
        "valorEmDolar = float(input('Digite um valor: '))\n",
        "Dolar = 5.75\n",
        "valorConvertidoEmReal = valorEmDolar/Dolar\n",
        "\n",
        "print(f\"R${valorConvertidoEmReal:.2f}\")"
      ],
      "execution_count": null,
      "outputs": []
    },
    {
      "cell_type": "markdown",
      "metadata": {
        "id": "ByGvDwNdLqJT"
      },
      "source": [
        "## Mini Projeto 02 - Calculadora de aumento de aluguel\n",
        "Vamos construir um programa que irá calcular o aumento anual do seu aluguel em duas partes:\n",
        "\n",
        "### Parte 1\n",
        "A sua calculadora vai receber o `valor do aluguel` e calcular o aumento baseado no `IGPM de 31%`. A calculadora deve apresentar o aluguel reajustado no formato `R$ XXXX.XX`\n",
        "\n",
        "**Exemplo:**\n",
        "```\n",
        "Valor do aluguel = 1000\n",
        "Valor do aluguel reajustado = R$ 1310,00\n",
        "```\n",
        "\n",
        "### Parte 2\n",
        "Agora, altere sua calculadora para receber além do `valor do aluguel`, o percentual do reajuste no formato `XX%`.  \n",
        "\n",
        "**Dica:** Descubra uma forma de transformar o percentual recebido em um número para efetuar o cálculo.\n",
        "\n",
        "**Exemplo:**\n",
        "```\n",
        "Valor do aluguel = 1000\n",
        "Percentual do reajuste = 31%\n",
        "Valor do aluguel reajustado = R% 1310,00\n",
        "```"
      ]
    },
    {
      "cell_type": "code",
      "metadata": {
        "id": "UfUJFF3ILtNV"
      },
      "source": [
        "valorAluguel = float(input(\"Digite o valor do aluguel: \"))\n",
        "\n",
        "reajuste = 0.31\n",
        "aluguelReajustado = (valorAluguel*reajuste)+valorAluguel\n",
        "\n",
        "print(f\"Valor do aluguel = R${valorAluguel}\")\n",
        "print(f\"Valor do aluguel reajustado = R${aluguelReajustado}\")"
      ],
      "execution_count": null,
      "outputs": []
    },
    {
      "cell_type": "code",
      "metadata": {
        "id": "2fzLC9pULvGS"
      },
      "source": [
        "valorAluguel = float(input(\"Digite o valor do aluguel: \"))\n",
        "valorReajuste = float(input('Qual o valor do reajuste?: '))\n",
        "\n",
        "reajusteEmPercentual = valorReajuste/100\n",
        "aluguelReajustado = (valorAluguel*reajusteEmPercentual)+valorAluguel\n",
        "\n",
        "print(f\"Valor do aluguel = R${valorAluguel}\")\n",
        "print(f\"Valor do reajuste = R${valorReajuste}\")\n",
        "print(f\"Valor do aluguel reajusta = R${aluguelReajustado}\")"
      ],
      "execution_count": null,
      "outputs": []
    },
    {
      "cell_type": "markdown",
      "metadata": {
        "id": "Nr2MelyGLwpi"
      },
      "source": [
        "## Mini Projeto 03 - Calculadora de dano\n",
        "Vamos implementar a calculadora de dano de RPG!!\n",
        "\n",
        "### Parte 1\n",
        "O programa vai receber a `vida e um monstro (entre 10 e 50)` e o `valor do ataque do jogador por turno (entre 5 e 10)`\n",
        "\n",
        "Baseado nos valores, exiba a quantidade de turnos que o jogador irá demorar para conseguir derrotar o monstro.\n",
        "\n",
        "**Exemplo:**\n",
        "```\n",
        "Vida de um monstro (entre 10 e 50): 26\n",
        "Valor do ataque do jogador por turno (entre 5 e 10): 5\n",
        "Resultado: O jogador irá precisar de 6 turnos para derrotar o monstro.\n",
        "```\n",
        "\n",
        "### Parte 2\n",
        "Altere o programa para ao invés de receber a vida do monstro, gerar aleatoriamente um valor entre 10 e 50."
      ]
    },
    {
      "cell_type": "code",
      "metadata": {
        "id": "rhRmy0oiL0eC"
      },
      "source": [
        "#Sem bibliotecas\n",
        "\n",
        "lifeMonster = float(input('Qual a vida do monstro entre (10 e 50): '))\n",
        "atackValue = float(input('Qual o valor ataque entre (5 e 10): '))\n",
        "\n",
        "resultado = round((lifeMonster//atackValue)) \n",
        "\n",
        "print(f\"O jogador irá precisar de {resultado} turnos para derrotar o monstro\")"
      ],
      "execution_count": null,
      "outputs": []
    },
    {
      "cell_type": "code",
      "metadata": {
        "id": "QL4rFVkIL2Kh"
      },
      "source": [
        "import math as mt\n",
        "\n",
        "lifeMonster = float(input('Qual a vida do monstro entre (10 e 50): '))\n",
        "atackValue = float(input('Qual o valor ataque entre (5 e 10): '))\n",
        "\n",
        "resultado = mt.ceil((lifeMonster/atackValue)) \n",
        "print(f\"O jogador irá precisar de {resultado} turnos para derrotar o monstro\")"
      ],
      "execution_count": null,
      "outputs": []
    },
    {
      "cell_type": "code",
      "metadata": {
        "id": "YkMVW4bCL3lM"
      },
      "source": [
        "import random as rd \n",
        "import math as mt\n",
        "\n",
        "lifeMonster = rd.randint(10,50)\n",
        "atackValue = float(input('Qual o valor ataque entre (5 e 10): '))\n",
        "\n",
        "result = mt.ceil(lifeMonster/atackValue)\n",
        "print(f\"O jogador irá precisar de {result} turnos para derrotar o monstro\")"
      ],
      "execution_count": null,
      "outputs": []
    }
  ]
}