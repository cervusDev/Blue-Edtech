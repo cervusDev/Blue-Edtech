{
  "nbformat": 4,
  "nbformat_minor": 0,
  "metadata": {
    "colab": {
      "name": "Blue_01.ipynb",
      "provenance": [],
      "toc_visible": true,
      "authorship_tag": "ABX9TyNf0ATsmNa/ab9FoTcrTsFV",
      "include_colab_link": true
    },
    "kernelspec": {
      "name": "python3",
      "display_name": "Python 3"
    },
    "language_info": {
      "name": "python"
    },
    "accelerator": "GPU"
  },
  "cells": [
    {
      "cell_type": "markdown",
      "metadata": {
        "id": "view-in-github",
        "colab_type": "text"
      },
      "source": [
        "<a href=\"https://colab.research.google.com/github/gucervus/Blue-Edtech/blob/main/Blue_01.ipynb\" target=\"_parent\"><img src=\"https://colab.research.google.com/assets/colab-badge.svg\" alt=\"Open In Colab\"/></a>"
      ]
    },
    {
      "cell_type": "markdown",
      "metadata": {
        "id": "khX2ZDfjEZGu"
      },
      "source": [
        "### Write Function"
      ]
    },
    {
      "cell_type": "code",
      "metadata": {
        "colab": {
          "base_uri": "https://localhost:8080/"
        },
        "id": "WtpEGHgzEibP",
        "outputId": "5734f718-5b66-4af8-bac8-edffad272a4e"
      },
      "source": [
        "# With string operation\n",
        "print('Palmeiras não tem mundial')"
      ],
      "execution_count": null,
      "outputs": [
        {
          "output_type": "stream",
          "text": [
            "Palmeiras não tem mundial\n"
          ],
          "name": "stdout"
        }
      ]
    },
    {
      "cell_type": "code",
      "metadata": {
        "colab": {
          "base_uri": "https://localhost:8080/"
        },
        "id": "PLAO8TqqHAur",
        "outputId": "eeaf1a7c-e6b6-4825-ed3c-d0b5b92c0341"
      },
      "source": [
        "# With number operation\n",
        "print(8 + 29) "
      ],
      "execution_count": null,
      "outputs": [
        {
          "output_type": "stream",
          "text": [
            "37\n"
          ],
          "name": "stdout"
        }
      ]
    },
    {
      "cell_type": "code",
      "metadata": {
        "colab": {
          "base_uri": "https://localhost:8080/"
        },
        "id": "sINZYRJRIBvF",
        "outputId": "dd89a145-b9bf-4b43-c70e-dfa83bbd516f"
      },
      "source": [
        "# Interpreting number as a string\n",
        "print(\"8\" + \"29\")"
      ],
      "execution_count": null,
      "outputs": [
        {
          "output_type": "stream",
          "text": [
            "829\n"
          ],
          "name": "stdout"
        }
      ]
    },
    {
      "cell_type": "markdown",
      "metadata": {
        "id": "l94Y8n7tKFgC"
      },
      "source": [
        "### Arithmetic operators\n",
        "\n",
        "    • (+) sum\n",
        "    • (-) subtraction\n",
        "    • (/) division\n",
        "    • (*) multiplication\n",
        "    • (%) module\n",
        "    • (//) int part of the division\n",
        "    • (**) exponentitation \n",
        "\n",
        "\n",
        "\n"
      ]
    },
    {
      "cell_type": "code",
      "metadata": {
        "colab": {
          "base_uri": "https://localhost:8080/"
        },
        "id": "-v0ohufPKM5p",
        "outputId": "e373fc59-1222-4be6-e227-b1b27d46a91a"
      },
      "source": [
        "# Sum \n",
        "5 + 3"
      ],
      "execution_count": null,
      "outputs": [
        {
          "output_type": "execute_result",
          "data": {
            "text/plain": [
              "5"
            ]
          },
          "metadata": {
            "tags": []
          },
          "execution_count": 20
        }
      ]
    },
    {
      "cell_type": "code",
      "metadata": {
        "colab": {
          "base_uri": "https://localhost:8080/"
        },
        "id": "_1Yjg8GoK6YD",
        "outputId": "593aa773-12be-4f22-a558-243cbdb3fcb9"
      },
      "source": [
        "# Subtraction\n",
        "20 - 100"
      ],
      "execution_count": null,
      "outputs": [
        {
          "output_type": "execute_result",
          "data": {
            "text/plain": [
              "-80"
            ]
          },
          "metadata": {
            "tags": []
          },
          "execution_count": 21
        }
      ]
    },
    {
      "cell_type": "code",
      "metadata": {
        "colab": {
          "base_uri": "https://localhost:8080/"
        },
        "id": "-E3Rj62CM-1L",
        "outputId": "1393741e-96d3-4f14-a9a8-3471f600758d"
      },
      "source": [
        "# Division\n",
        "  # The division will always return a floating number\n",
        "\n",
        "print(type(10/2)) #return class float\n",
        "\n",
        "#Note that 5 is an int number\n",
        "print(10/2) "
      ],
      "execution_count": null,
      "outputs": [
        {
          "output_type": "stream",
          "text": [
            "<class 'float'>\n",
            "5.0\n"
          ],
          "name": "stdout"
        }
      ]
    },
    {
      "cell_type": "code",
      "metadata": {
        "colab": {
          "base_uri": "https://localhost:8080/"
        },
        "id": "PTwnTSUANB4G",
        "outputId": "98e02cff-c35a-4fa9-ed26-1ba7adb8cf06"
      },
      "source": [
        "# entire part of the division\n",
        "\n",
        "print(type(10//2)) # return class int\n",
        "\n",
        "print(10//2) "
      ],
      "execution_count": null,
      "outputs": [
        {
          "output_type": "stream",
          "text": [
            "<class 'int'>\n",
            "5\n"
          ],
          "name": "stdout"
        }
      ]
    },
    {
      "cell_type": "code",
      "metadata": {
        "id": "RaGVPKPSOamo",
        "colab": {
          "base_uri": "https://localhost:8080/"
        },
        "outputId": "56acfbbd-6510-43a4-86ef-245658e0f5dc"
      },
      "source": [
        "# Multiplication\n",
        "5*10"
      ],
      "execution_count": 1,
      "outputs": [
        {
          "output_type": "execute_result",
          "data": {
            "text/plain": [
              "50"
            ]
          },
          "metadata": {
            "tags": []
          },
          "execution_count": 1
        }
      ]
    },
    {
      "cell_type": "code",
      "metadata": {
        "id": "8fAY-8ZcO3CE",
        "colab": {
          "base_uri": "https://localhost:8080/"
        },
        "outputId": "9368553d-2756-4825-8294-953c8de39007"
      },
      "source": [
        "# Module\n",
        "10 % 2"
      ],
      "execution_count": 2,
      "outputs": [
        {
          "output_type": "execute_result",
          "data": {
            "text/plain": [
              "0"
            ]
          },
          "metadata": {
            "tags": []
          },
          "execution_count": 2
        }
      ]
    },
    {
      "cell_type": "code",
      "metadata": {
        "id": "vlC4AVlxO74y",
        "colab": {
          "base_uri": "https://localhost:8080/"
        },
        "outputId": "25ca04c6-bc9f-4abd-8dec-bf37caac86f9"
      },
      "source": [
        "# Exponentiation\n",
        "3**2"
      ],
      "execution_count": 3,
      "outputs": [
        {
          "output_type": "execute_result",
          "data": {
            "text/plain": [
              "9"
            ]
          },
          "metadata": {
            "tags": []
          },
          "execution_count": 3
        }
      ]
    },
    {
      "cell_type": "markdown",
      "metadata": {
        "id": "LOgSKs4rPLJJ"
      },
      "source": [
        "### Relational operator\n",
        "\n",
        "    • Bigger then (>)\n",
        "    • Less then (<)\n",
        "    • Equal to (==)\n",
        "    • Bigger than or equal to (>=)\n",
        "    • Less than or equal to (</)\n",
        "    • Differrent (>)\n"
      ]
    },
    {
      "cell_type": "code",
      "metadata": {
        "colab": {
          "base_uri": "https://localhost:8080/"
        },
        "id": "9A1s_e3PPQz1",
        "outputId": "e9ea1bb8-b562-4f9e-fe97-f14f50b56be7"
      },
      "source": [
        "# Bigger then\n",
        "print(5 > 3)\n",
        "print(3 > 5)"
      ],
      "execution_count": null,
      "outputs": [
        {
          "output_type": "stream",
          "text": [
            "True\n",
            "False\n"
          ],
          "name": "stdout"
        }
      ]
    },
    {
      "cell_type": "code",
      "metadata": {
        "id": "uBbFz_METeos",
        "colab": {
          "base_uri": "https://localhost:8080/"
        },
        "outputId": "c08b71bc-3d32-411a-d7c0-92c1b129b6ac"
      },
      "source": [
        "# less then\n",
        "\n",
        "primary = 10\n",
        "secundary = 5\n",
        "\n",
        "print(primary < secundary)\n",
        "print(secundary < primary)"
      ],
      "execution_count": 8,
      "outputs": [
        {
          "output_type": "stream",
          "text": [
            "False\n",
            "True\n"
          ],
          "name": "stdout"
        }
      ]
    },
    {
      "cell_type": "code",
      "metadata": {
        "id": "RJc8dvKTTecE",
        "colab": {
          "base_uri": "https://localhost:8080/"
        },
        "outputId": "c14bc2e3-fd67-4cd9-cfbb-f2f3208ee396"
      },
      "source": [
        "# equal to\n",
        "\n",
        "primary = 10\n",
        "secundary = 5\n",
        "\n",
        "print(primary == secundary)\n",
        "print(primary == primary)"
      ],
      "execution_count": 10,
      "outputs": [
        {
          "output_type": "stream",
          "text": [
            "False\n",
            "True\n"
          ],
          "name": "stdout"
        }
      ]
    },
    {
      "cell_type": "code",
      "metadata": {
        "id": "GU0fstEnTjJ2",
        "colab": {
          "base_uri": "https://localhost:8080/"
        },
        "outputId": "79e0de34-d2d6-411b-eb25-9490c5ef29b0"
      },
      "source": [
        "# Greater than or equal to\n",
        "\n",
        "primary = 11\n",
        "secundary = 5\n",
        "\n",
        "comparator = 10\n",
        "\n",
        "print(primary >= primary)\n",
        "print(primary >= comparator)\n",
        "print(secundary >= primary)"
      ],
      "execution_count": 15,
      "outputs": [
        {
          "output_type": "stream",
          "text": [
            "True\n",
            "True\n",
            "False\n"
          ],
          "name": "stdout"
        }
      ]
    },
    {
      "cell_type": "code",
      "metadata": {
        "id": "_M9trPlsTmG_",
        "colab": {
          "base_uri": "https://localhost:8080/"
        },
        "outputId": "de12d9d5-bfbd-4cf9-bfb6-3b94ca7c5ccf"
      },
      "source": [
        "# Less than or equal to\n",
        "\n",
        "primary = 11\n",
        "secundary = 5\n",
        "\n",
        "comparator = 10\n",
        "\n",
        "print(primary <= comparator)\n",
        "print(comparator <= primary)\n",
        "print(secundary <= primary)"
      ],
      "execution_count": 18,
      "outputs": [
        {
          "output_type": "stream",
          "text": [
            "False\n",
            "True\n",
            "True\n"
          ],
          "name": "stdout"
        }
      ]
    },
    {
      "cell_type": "code",
      "metadata": {
        "id": "ps4uysuxTqiw",
        "colab": {
          "base_uri": "https://localhost:8080/"
        },
        "outputId": "d5a2ef6c-21e7-4378-b987-8773d50b892b"
      },
      "source": [
        "# Different\n",
        "\n",
        "print(10 != 20)\n",
        "print(10 != 10)"
      ],
      "execution_count": 21,
      "outputs": [
        {
          "output_type": "stream",
          "text": [
            "True\n",
            "False\n"
          ],
          "name": "stdout"
        }
      ]
    },
    {
      "cell_type": "markdown",
      "metadata": {
        "id": "QsdmV6loQ_60"
      },
      "source": [
        ""
      ]
    },
    {
      "cell_type": "markdown",
      "metadata": {
        "id": "ipNZzwc-TGvv"
      },
      "source": [
        "### Logical operators\n",
        "\n",
        "    • and\n",
        "    • or\n",
        "    • not\n"
      ]
    },
    {
      "cell_type": "code",
      "metadata": {
        "id": "QlBzuJBrURUX",
        "colab": {
          "base_uri": "https://localhost:8080/"
        },
        "outputId": "f7c0663f-6103-4e72-c447-a0fb9ab6861f"
      },
      "source": [
        "# and (returns true when two conditions are true)\n",
        "\n",
        "string = 'word'\n",
        "number = 10\n",
        "\n",
        "print(string == 'word' and number == 10 ) #return true \n",
        "print(string == 'word' and number == 20) #return false"
      ],
      "execution_count": 23,
      "outputs": [
        {
          "output_type": "stream",
          "text": [
            "True\n",
            "False\n"
          ],
          "name": "stdout"
        }
      ]
    },
    {
      "cell_type": "code",
      "metadata": {
        "id": "0LmZoZokUTFh",
        "colab": {
          "base_uri": "https://localhost:8080/"
        },
        "outputId": "8e95e162-2d61-48ec-d6d4-884b2dc136c9"
      },
      "source": [
        "# or\n",
        "\n",
        "string = 'word'\n",
        "number = 10\n",
        "\n",
        "print(string == 'word' or number == 10) #return true\n",
        "print(string == 'word' or number == 20) #return true\n",
        "print(string == 'otherWord' or number == 20) #return false"
      ],
      "execution_count": 24,
      "outputs": [
        {
          "output_type": "stream",
          "text": [
            "True\n",
            "True\n",
            "False\n"
          ],
          "name": "stdout"
        }
      ]
    },
    {
      "cell_type": "code",
      "metadata": {
        "id": "L10j1R0zUUNc",
        "colab": {
          "base_uri": "https://localhost:8080/"
        },
        "outputId": "f1ec2249-7e87-4ca9-c229-db858befeac0"
      },
      "source": [
        "# not\n",
        "\n",
        "string = 'word'\n",
        "number = 10\n",
        "\n",
        "print('word' not in string) #return false \n",
        "print('otherWord' not in string) #return true"
      ],
      "execution_count": 27,
      "outputs": [
        {
          "output_type": "stream",
          "text": [
            "False\n",
            "True\n"
          ],
          "name": "stdout"
        }
      ]
    }
  ]
}