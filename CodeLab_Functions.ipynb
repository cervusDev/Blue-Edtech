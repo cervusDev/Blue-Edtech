{
  "nbformat": 4,
  "nbformat_minor": 0,
  "metadata": {
    "colab": {
      "name": "CodeLab_Functions.ipynb",
      "private_outputs": true,
      "provenance": [],
      "collapsed_sections": [],
      "authorship_tag": "ABX9TyPbRfgq9XIKZY08eMPiQT6y",
      "include_colab_link": true
    },
    "kernelspec": {
      "name": "python3",
      "display_name": "Python 3"
    },
    "language_info": {
      "name": "python"
    }
  },
  "cells": [
    {
      "cell_type": "markdown",
      "metadata": {
        "id": "view-in-github",
        "colab_type": "text"
      },
      "source": [
        "<a href=\"https://colab.research.google.com/github/gucervus/Blue-Edtech/blob/main/CodeLab_Functions.ipynb\" target=\"_parent\"><img src=\"https://colab.research.google.com/assets/colab-badge.svg\" alt=\"Open In Colab\"/></a>"
      ]
    },
    {
      "cell_type": "code",
      "metadata": {
        "id": "OfY8ojYtshTk"
      },
      "source": [
        "# Ex: 01\n",
        "\n",
        "def lowestNumber(firstNumber,secondNumber):\n",
        "  if (a > b):\n",
        "    print(f'{b}')\n",
        "  elif (a == b):\n",
        "    print('Identical')\n",
        "\n",
        "firstNumber = float(input('First number: '))\n",
        "secondNumber = float(input('Second number: '))\n",
        "\n",
        "lowestNumber(firstNumber, secondNumber)"
      ],
      "execution_count": null,
      "outputs": []
    },
    {
      "cell_type": "code",
      "metadata": {
        "id": "ZgvVSTypul70"
      },
      "source": [
        "# Ex: 02\n",
        "\n",
        "def sum(firstNumber, secondNumber):\n",
        "\n",
        "  limit = 10\n",
        "  if ( a+b > limit):\n",
        "    print('true')\n",
        "  else:\n",
        "    print('false')\n",
        "\n",
        "firstNumber = float(input('First number: '))\n",
        "secondNumber = float(input('Second number: '))\n",
        "\n",
        "sum(firstNumber, secondNumber)"
      ],
      "execution_count": null,
      "outputs": []
    },
    {
      "cell_type": "code",
      "metadata": {
        "id": "EigF62kMvNYd"
      },
      "source": [
        "#Ex: 03\n",
        "\n",
        "def capsLockWord(string):\n",
        "  upperString = string.upper()\n",
        "  return upperString\n",
        "\n",
        "string = input('write a word: ')\n",
        "\n",
        "capsLockWord(string)"
      ],
      "execution_count": null,
      "outputs": []
    },
    {
      "cell_type": "code",
      "metadata": {
        "id": "f4VJhyh7v0j4"
      },
      "source": [
        "#Ex: 04\n",
        "\n",
        "from datetime import date\n",
        "def votingAge(yearBirth):\n",
        "\n",
        "  currentDate = date.today().year\n",
        "  age = currentDate - yearBirth \n",
        "\n",
        "  if (age < 18): \n",
        "    print('you are not yet old to vote')\n",
        "  elif (age <= 18 and age >= 16) or (age > 70):\n",
        "    print('yout vote is optional')\n",
        "  else:\n",
        "    print('your vote is mandatory')\n",
        "\n",
        "yearBirth = int(input('When you were born?: '))\n",
        "votingAge(yearBirth)"
      ],
      "execution_count": null,
      "outputs": []
    },
    {
      "cell_type": "code",
      "metadata": {
        "id": "J_NJJj_r20iT"
      },
      "source": [
        "from datetime import date\n",
        "currentdate = date.today().year\n",
        "print(type(currentdate))\n",
        "print(currentdate)\n",
        "print(currentdate[:3])"
      ],
      "execution_count": null,
      "outputs": []
    },
    {
      "cell_type": "code",
      "metadata": {
        "id": "0X9TUriZwvvR"
      },
      "source": [
        "#Ex: 05\n",
        "\n",
        "def dataSheet(player, numberGoals):\n",
        "  print(f'Player: {player}\\nN° Goals: {numberGoals}')\n",
        "\n",
        "player = input('Players name: ')\n",
        "numberGoals = int(input('Number of goals: '))\n",
        "print()\n",
        "\n",
        "dataSheet(player, numberGoals)"
      ],
      "execution_count": null,
      "outputs": []
    },
    {
      "cell_type": "code",
      "metadata": {
        "id": "aRrMjAfAytag"
      },
      "source": [
        "# Ex: 06\n",
        "def mean(first,second,third): \n",
        "  # Média das três notas\n",
        "  generalMedia = (first+second+third)/3\n",
        "  print(f\"mean of the three notes: {generalMedia}\")\n",
        "\n",
        "# Média das duas mais altas\n",
        "  if (first > second and first + third) and (second >= third):\n",
        "    print(f'mean of the two highest grades: {(first+second)/2}') \n",
        "  elif (third >= second):\n",
        "    print(f'mean of the two highest grades:{(first+third)/2} ')\n",
        "  if (second > first and second > third) and (third >= first):\n",
        "    print(f'mean of the two highest grades: {(second+third)/2}')\n",
        "\n",
        "# Maior \n",
        "  bigger = first\n",
        "\n",
        "  if (second > bigger):\n",
        "    bigger = second\n",
        "  if (third > bigger):\n",
        "    bigger = third\n",
        "\n",
        "  print(f'highest grade: {bigger} ')\n",
        "\n",
        "# Menor\n",
        "  less = first\n",
        "\n",
        "  if (second < less):\n",
        "    less = second\n",
        "  if (third < less):\n",
        "    less = third\n",
        "\n",
        "  print(f'lowest grade: {less} ')\n",
        "\n",
        "first = float(input('enter the first note: '))\n",
        "second = float(input('enter the second note: '))\n",
        "third = float(input('enter the third note: '))\n",
        "print()\n",
        "\n",
        "mean(first, second, third)"
      ],
      "execution_count": null,
      "outputs": []
    },
    {
      "cell_type": "markdown",
      "metadata": {
        "id": "wPvAwh6-GwsY"
      },
      "source": [
        "# Projeto: Gastos com Viagem "
      ]
    },
    {
      "cell_type": "code",
      "metadata": {
        "id": "YBDlCc2EFnEW"
      },
      "source": [
        "# 01: Hospedagem\n",
        "def hospedagem(numeroDeNoites):\n",
        "\n",
        "  valorPorNoite = 140\n",
        "  valorTotalHospedagem = numeroDeNoites * valorPorNoite\n",
        "  print(f' O custo total com hospedagem é R${valorTotalHospedagem:.2f}')\n",
        "\n",
        "hospedagem(4)"
      ],
      "execution_count": null,
      "outputs": []
    },
    {
      "cell_type": "code",
      "metadata": {
        "id": "RYn6DuolGnan"
      },
      "source": [
        "# 02: Passagem\n",
        "def custoAviao(cidade):\n",
        "  valorPassagem = 0\n",
        "\n",
        "  if (cidade == 'São Paulo'):\n",
        "    valorPassagem = 312\n",
        "  elif (cidade == 'Porto Alegre'):\n",
        "    valorPassagem = 447\n",
        "  elif (cidade == 'Recife'):\n",
        "    valorPassagem = 831\n",
        "  elif (cidade == 'Manaus'):\n",
        "    valorPassagem = 986\n",
        "  \n",
        "  print(f'R${valorPassagem:.2f}')\n",
        "\n",
        "custoAviao('Manaus')"
      ],
      "execution_count": null,
      "outputs": []
    },
    {
      "cell_type": "code",
      "metadata": {
        "id": "IBC7QM03IGwy"
      },
      "source": [
        "# 03: Aluguel de carro\n",
        "def custo_carro(dias):\n",
        "\n",
        "  valorCarroDia = 40\n",
        "  aluguelCarro = valorCarroDia*dias\n",
        "\n",
        "  if (dias >= 7):\n",
        "    aluguelCarro -= 50\n",
        "  elif (dias >= 3):\n",
        "    alugelCarro -= 30\n",
        "  print(f\"O alguel do carro ficou em: R${aluguelCarro:.2f}\")\n",
        "\n",
        "custo_carro(10)  "
      ],
      "execution_count": null,
      "outputs": []
    },
    {
      "cell_type": "code",
      "metadata": {
        "id": "_RhYqV8iJtbY"
      },
      "source": [
        "# 03: Calculo total\n",
        "def custoViagem(numeroNoites, cidade, diasCarro, gastoExtra):\n",
        "  #Custo de Hospedagem\n",
        "  valorPorNoite = 140\n",
        "  valorHospedagem = numeroNoites * valorPorNoite\n",
        "  print(f'O custo de hospedagem é: R${valorHospedagem:.2f}')\n",
        "\n",
        "  #Custo de Passagem\n",
        "  valorPassagem = 0\n",
        "\n",
        "  if (cidade == 'São Paulo'):\n",
        "    valorPassagem = 312\n",
        "  elif (cidade == 'Porto Alegre'):\n",
        "    valorPassagem = 447\n",
        "  elif (cidade == 'Recife'):\n",
        "    valorPassagem = 831\n",
        "  elif (cidade == 'Manaus'):\n",
        "    valorPassagem = 986\n",
        "  \n",
        "  print(f'O valor da passagem é: R${valorPassagem:.2f}')\n",
        "\n",
        "  #Aluguel de Carro\n",
        "  valorCarroDia = 40\n",
        "  aluguelCarro = valorCarroDia*diasCarro\n",
        "\n",
        "  if (diasCarro >= 7):\n",
        "    aluguelCarro -= 50\n",
        "  elif (diasCarro >= 3):\n",
        "    alugelCarro -= 30\n",
        "  print(f\"O alguel do carro ficou em: R${aluguelCarro:.2f}\")\n",
        "\n",
        "  # Gasto Extra\n",
        "  print(f\"O custo adicional é: R${gastoExtra:.2f}\")\n",
        "\n",
        "  #Total da viagem\n",
        "  custoTotal =  (valorHospedagem + valorPassagem + aluguelCarro)+ gastoExtra\n",
        "  \n",
        "  print(f\"O custo total da viagem é: R${custoTotal:.2f}\")\n",
        "\n",
        "custoViagem(12,'Manaus',12,800)"
      ],
      "execution_count": null,
      "outputs": []
    }
  ]
}