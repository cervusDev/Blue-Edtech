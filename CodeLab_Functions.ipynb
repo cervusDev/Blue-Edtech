{
  "nbformat": 4,
  "nbformat_minor": 0,
  "metadata": {
    "colab": {
      "name": "CodeLab_Functions.ipynb",
      "private_outputs": true,
      "provenance": [],
      "collapsed_sections": [],
      "authorship_tag": "ABX9TyN1XIAhAAJjz/i4QZF52ir8",
      "include_colab_link": true
    },
    "kernelspec": {
      "name": "python3",
      "display_name": "Python 3"
    },
    "language_info": {
      "name": "python"
    }
  },
  "cells": [
    {
      "cell_type": "markdown",
      "metadata": {
        "id": "view-in-github",
        "colab_type": "text"
      },
      "source": [
        "<a href=\"https://colab.research.google.com/github/gucervus/Blue-Edtech/blob/main/CodeLab_Functions.ipynb\" target=\"_parent\"><img src=\"https://colab.research.google.com/assets/colab-badge.svg\" alt=\"Open In Colab\"/></a>"
      ]
    },
    {
      "cell_type": "code",
      "metadata": {
        "id": "OfY8ojYtshTk"
      },
      "source": [
        "# Ex: 01\n",
        "def lowestNumber(a,b):\n",
        "  if (a > b):\n",
        "    print(f'{b}')\n",
        "  elif (a == b):\n",
        "    print('Idênticos')"
      ],
      "execution_count": null,
      "outputs": []
    },
    {
      "cell_type": "code",
      "metadata": {
        "id": "ZgvVSTypul70"
      },
      "source": [
        "# Ex: 02\n",
        "def sum(a,b):\n",
        "  limit = 10\n",
        "  if (a+b > limit):\n",
        "    print('true')\n",
        "  else:\n",
        "    print('false')\n",
        "\n",
        "sum(5,0)"
      ],
      "execution_count": null,
      "outputs": []
    },
    {
      "cell_type": "code",
      "metadata": {
        "id": "EigF62kMvNYd"
      },
      "source": [
        "#Ex: 03\n",
        "\n",
        "def upper(string):\n",
        "  upperString = string.upper()\n",
        "  return upperString\n",
        "\n",
        "upper('nome')"
      ],
      "execution_count": null,
      "outputs": []
    },
    {
      "cell_type": "code",
      "metadata": {
        "id": "f4VJhyh7v0j4"
      },
      "source": [
        "#Ex: 04\n",
        "from datetime import date\n",
        "def voto(anoNascimento):\n",
        "\n",
        "  data_atual = date.today()\n",
        "  idade = anoNascimento - data_atual\n",
        "\n",
        "  if (idade < 18): \n",
        "    print('Voto negado')\n",
        "  elif (idade =< 18 and idade >= 16) or (idade > 70):\n",
        "    print('Voto opcional')\n",
        "  else:\n",
        "    print('Voto obrigatório')\n",
        "\n"
      ],
      "execution_count": null,
      "outputs": []
    },
    {
      "cell_type": "code",
      "metadata": {
        "id": "0X9TUriZwvvR"
      },
      "source": [
        "#Ex: 05\n",
        "\n",
        "def ficha(jogador, numeroGols):\n",
        "  print(f'Jogador: {jogador}\\nN° Gols: {numeroGols}')\n",
        "\n",
        "ficha('elieser', 10)"
      ],
      "execution_count": null,
      "outputs": []
    },
    {
      "cell_type": "code",
      "metadata": {
        "id": "aRrMjAfAytag"
      },
      "source": [
        "# Ex: 06\n",
        "\n",
        "def media(a,b,c): \n",
        "  # Média das três notas\n",
        "  media_total = (a+b+c)/3\n",
        "  print(f\"Média 3 notas: {media_total}\")\n",
        "\n",
        "# Média das duas mais altas\n",
        "  if (a > b and a + c) and (b >= c):\n",
        "    print(f'Média duas maiores: {(a+b)/2}') \n",
        "  elif (c >= b):\n",
        "    print(f'Média duas maiores: {(a+c)/2} ')\n",
        "  if (b > a and b > c) and (c >= a):\n",
        "    print(f'Média duas maiores: {(b+c)/2}')\n",
        "\n",
        "# Maior \n",
        "  maior = a\n",
        "\n",
        "  if (b > maior):\n",
        "    maior = b\n",
        "  if (c > maior):\n",
        "    maior = c\n",
        "\n",
        "  print(f'Maior nota: {maior} ')\n",
        "\n",
        "# Menor\n",
        "  menor = a\n",
        "\n",
        "  if (b < menor):\n",
        "    menor = b\n",
        "  if (c < menor):\n",
        "    menor = c\n",
        "\n",
        "  print(f'Menor nota: {menor} ')\n",
        "\n",
        "media(10,7,10)"
      ],
      "execution_count": null,
      "outputs": []
    },
    {
      "cell_type": "markdown",
      "metadata": {
        "id": "wPvAwh6-GwsY"
      },
      "source": [
        "# Projeto: Gastos com Viagem "
      ]
    },
    {
      "cell_type": "code",
      "metadata": {
        "id": "YBDlCc2EFnEW"
      },
      "source": [
        "# 01: Hospedagem\n",
        "def hospedagem(numeroDeNoites):\n",
        "\n",
        "  valorPorNoite = 140\n",
        "  valorTotalHospedagem = numeroDeNoites * valorPorNoite\n",
        "  print(f' O custo total com hospedagem é R${valorTotalHospedagem:.2f}')\n",
        "\n",
        "hospedagem(4)"
      ],
      "execution_count": null,
      "outputs": []
    },
    {
      "cell_type": "code",
      "metadata": {
        "id": "RYn6DuolGnan"
      },
      "source": [
        "# 02: Passagem\n",
        "def custoAviao(cidade):\n",
        "  valorPassagem = 0\n",
        "\n",
        "  if (cidade == 'São Paulo'):\n",
        "    valorPassagem = 312\n",
        "  elif (cidade == 'Porto Alegre'):\n",
        "    valorPassagem = 447\n",
        "  elif (cidade == 'Recife'):\n",
        "    valorPassagem = 831\n",
        "  elif (cidade == 'Manaus'):\n",
        "    valorPassagem = 986\n",
        "  \n",
        "  print(f'R${valorPassagem:.2f}')\n",
        "\n",
        "custoAviao('Manaus')"
      ],
      "execution_count": null,
      "outputs": []
    },
    {
      "cell_type": "code",
      "metadata": {
        "id": "IBC7QM03IGwy"
      },
      "source": [
        "# 03: Aluguel de carro\n",
        "def custo_carro(dias):\n",
        "\n",
        "  valorCarroDia = 40\n",
        "  aluguelCarro = valorCarroDia*dias\n",
        "\n",
        "  if (dias >= 7):\n",
        "    aluguelCarro -= 50\n",
        "  elif (dias >= 3):\n",
        "    alugelCarro -= 30\n",
        "  print(f\"O alguel do carro ficou em: R${aluguelCarro:.2f}\")\n",
        "\n",
        "custo_carro(10)  "
      ],
      "execution_count": null,
      "outputs": []
    },
    {
      "cell_type": "code",
      "metadata": {
        "id": "_RhYqV8iJtbY"
      },
      "source": [
        "# 03: Calculo total\n",
        "def custoViagem(numeroNoites, cidade, diasCarro, gastoExtra):\n",
        "  #Custo de Hospedagem\n",
        "  valorPorNoite = 140\n",
        "  valorHospedagem = numeroNoites * valorPorNoite\n",
        "  print(f'O custo de hospedagem é: R${valorHospedagem:.2f}')\n",
        "\n",
        "  #Custo de Passagem\n",
        "  valorPassagem = 0\n",
        "\n",
        "  if (cidade == 'São Paulo'):\n",
        "    valorPassagem = 312\n",
        "  elif (cidade == 'Porto Alegre'):\n",
        "    valorPassagem = 447\n",
        "  elif (cidade == 'Recife'):\n",
        "    valorPassagem = 831\n",
        "  elif (cidade == 'Manaus'):\n",
        "    valorPassagem = 986\n",
        "  \n",
        "  print(f'O valor da passagem é: R${valorPassagem:.2f}')\n",
        "\n",
        "  #Aluguel de Carro\n",
        "  valorCarroDia = 40\n",
        "  aluguelCarro = valorCarroDia*diasCarro\n",
        "\n",
        "  if (diasCarro >= 7):\n",
        "    aluguelCarro -= 50\n",
        "  elif (diasCarro >= 3):\n",
        "    alugelCarro -= 30\n",
        "  print(f\"O alguel do carro ficou em: R${aluguelCarro:.2f}\")\n",
        "\n",
        "  # Gasto Extra\n",
        "  print(f\"O custo adicional é: R${gastoExtra:.2f}\")\n",
        "\n",
        "  #Total da viagem\n",
        "  custoTotal =  (valorHospedagem + valorPassagem + aluguelCarro)+ gastoExtra\n",
        "  \n",
        "  print(f\"O custo total da viagem é: R${custoTotal:.2f}\")\n",
        "\n",
        "custoViagem(12,'Manaus',12,800)"
      ],
      "execution_count": null,
      "outputs": []
    },
    {
      "cell_type": "code",
      "metadata": {
        "id": "5BRnjYazJ588"
      },
      "source": [
        "desa"
      ],
      "execution_count": null,
      "outputs": []
    },
    {
      "cell_type": "code",
      "metadata": {
        "id": "IqUvhbyZKud-"
      },
      "source": [
        ""
      ],
      "execution_count": null,
      "outputs": []
    }
  ]
}