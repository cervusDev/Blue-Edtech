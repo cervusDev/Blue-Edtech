{
  "nbformat": 4,
  "nbformat_minor": 0,
  "metadata": {
    "colab": {
      "name": "CodeLab_Functions.ipynb",
      "private_outputs": true,
      "provenance": [],
      "collapsed_sections": [],
      "authorship_tag": "ABX9TyNwrPitI51DBEG+0VRlqt1I",
      "include_colab_link": true
    },
    "kernelspec": {
      "name": "python3",
      "display_name": "Python 3"
    },
    "language_info": {
      "name": "python"
    }
  },
  "cells": [
    {
      "cell_type": "markdown",
      "metadata": {
        "id": "view-in-github",
        "colab_type": "text"
      },
      "source": [
        "<a href=\"https://colab.research.google.com/github/gucervus/Blue-Edtech/blob/main/CodeLab_Functions.ipynb\" target=\"_parent\"><img src=\"https://colab.research.google.com/assets/colab-badge.svg\" alt=\"Open In Colab\"/></a>"
      ]
    },
    {
      "cell_type": "markdown",
      "metadata": {
        "id": "69GOl9dAjiC9"
      },
      "source": [
        "      #01: Escreva uma função que recebe dois parâmetros (números) e imprime o menor dos dois.\n",
        "      Se eles forem iguais, imprima que são valores idênticos."
      ]
    },
    {
      "cell_type": "code",
      "metadata": {
        "id": "OfY8ojYtshTk"
      },
      "source": [
        "# Ex: 01\n",
        "\n",
        "def lowestNumber(firstNumber,secondNumber):\n",
        "  if (a > b):\n",
        "    print(f'{b}')\n",
        "  elif (a == b):\n",
        "    print('Identical')\n",
        "\n",
        "firstNumber = float(input('First number: '))\n",
        "secondNumber = float(input('Second number: '))\n",
        "\n",
        "lowestNumber(firstNumber, secondNumber)"
      ],
      "execution_count": null,
      "outputs": []
    },
    {
      "cell_type": "markdown",
      "metadata": {
        "id": "nwr2pJZKj8GC"
      },
      "source": [
        "      #02: Escreva uma função que recebe dois números (a e b) como parâmetro\n",
        "      e retorna True cao a soma dos dois seja maior que um terceiro parâmetro, chamado limite."
      ]
    },
    {
      "cell_type": "code",
      "metadata": {
        "id": "ZgvVSTypul70"
      },
      "source": [
        "# Ex: 02\n",
        "\n",
        "def sum(firstNumber, secondNumber):\n",
        "\n",
        "  limit = 10\n",
        "  if ( a+b > limit):\n",
        "    print('true')\n",
        "  else:\n",
        "    print('false')\n",
        "\n",
        "firstNumber = float(input('First number: '))\n",
        "secondNumber = float(input('Second number: '))\n",
        "\n",
        "sum(firstNumber, secondNumber)"
      ],
      "execution_count": null,
      "outputs": []
    },
    {
      "cell_type": "markdown",
      "metadata": {
        "id": "e-DLVs5VkD62"
      },
      "source": [
        "      #03: Crie uma função que receba uma string como argumento e retorne a mesma string em letras maiúsculas. \n",
        "      Faça uma chamada à função, passando como parâmetro uma string."
      ]
    },
    {
      "cell_type": "code",
      "metadata": {
        "id": "EigF62kMvNYd"
      },
      "source": [
        "#Ex: 03\n",
        "\n",
        "def capsLockWord(string):\n",
        "  upperString = string.upper()\n",
        "  return upperString\n",
        "\n",
        "string = input('write a word: ')\n",
        "\n",
        "capsLockWord(string)"
      ],
      "execution_count": null,
      "outputs": []
    },
    {
      "cell_type": "markdown",
      "metadata": {
        "id": "jS5O1dktkP5f"
      },
      "source": [
        "      #04: Crie um programa que tenha uma função chamada voto () que vai receber como parâmetro o ano de nascimento de uma pessoa,\n",
        "      retornando um valor literal indicando se uma pessoa tem voto NEGADO, OPCIONAL ou OBRIGATORIO nas eleições.\n",
        "      Para resolver esse exercício, pesquise sobre a função date da biblioteca Datetime."
      ]
    },
    {
      "cell_type": "code",
      "metadata": {
        "id": "f4VJhyh7v0j4"
      },
      "source": [
        "#Ex: 04\n",
        "\n",
        "from datetime import date\n",
        "def votingAge(yearBirth):\n",
        "\n",
        "  currentDate = date.today().year\n",
        "  age = currentDate - yearBirth \n",
        "\n",
        "  if (age < 18): \n",
        "    print('you are not yet old to vote')\n",
        "  elif (age <= 18 and age >= 16) or (age > 70):\n",
        "    print('yout vote is optional')\n",
        "  else:\n",
        "    print('your vote is mandatory')\n",
        "\n",
        "yearBirth = int(input('When you were born?: '))\n",
        "votingAge(yearBirth)"
      ],
      "execution_count": null,
      "outputs": []
    },
    {
      "cell_type": "markdown",
      "metadata": {
        "id": "bK_XUye_kdur"
      },
      "source": [
        "      #05: Faça um programa que tenha uma função chamada ficha(), que receba dois parâmetros: \n",
        "      o nome de um jogador e quantos gols ele marcou.\n",
        "      \n",
        "      O programa deverá ser capaz de mostrar a ficha do jogador,\n",
        "      mesmo que algum dado não tenha sido informado corretamente."
      ]
    },
    {
      "cell_type": "code",
      "metadata": {
        "id": "0X9TUriZwvvR"
      },
      "source": [
        "#Ex: 05\n",
        "\n",
        "def dataSheet(player, numberGoals):\n",
        "  print(f'Player: {player}\\nN° Goals: {numberGoals}')\n",
        "\n",
        "player = input('Players name: ')\n",
        "numberGoals = int(input('Number of goals: '))\n",
        "print()\n",
        "\n",
        "dataSheet(player, numberGoals)"
      ],
      "execution_count": null,
      "outputs": []
    },
    {
      "cell_type": "markdown",
      "metadata": {
        "id": "IVPBST5Zk1oF"
      },
      "source": [
        "      #06: Um professor, muito legal, fez 3 provas durante um semestre,\n",
        "      mas só vai levar em conta as duas notas mais altas para calcular a média.\n",
        "\n",
        "      Faça uma aplicação que peça o valor das 3 notas, mostre como seria a média com essas 3 provas,\n",
        "      a média com as 2 notas mais altas, bem como sua nota mais alta e sua nota mais baixa.\n"
      ]
    },
    {
      "cell_type": "code",
      "metadata": {
        "id": "aRrMjAfAytag"
      },
      "source": [
        "# Ex: 06\n",
        "def mean(first,second,third): \n",
        "  # Média das três notas\n",
        "  generalMedia = (first+second+third)/3\n",
        "  print(f\"mean of the three notes: {generalMedia}\")\n",
        "\n",
        "# Média das duas mais altas\n",
        "  if (first > second and first + third) and (second >= third):\n",
        "    print(f'mean of the two highest grades: {(first+second)/2}') \n",
        "  elif (third >= second):\n",
        "    print(f'mean of the two highest grades:{(first+third)/2} ')\n",
        "  if (second > first and second > third) and (third >= first):\n",
        "    print(f'mean of the two highest grades: {(second+third)/2}')\n",
        "\n",
        "# Maior \n",
        "  bigger = first\n",
        "\n",
        "  if (second > bigger):\n",
        "    bigger = second\n",
        "  if (third > bigger):\n",
        "    bigger = third\n",
        "\n",
        "  print(f'highest grade: {bigger} ')\n",
        "\n",
        "# Menor\n",
        "  less = first\n",
        "\n",
        "  if (second < less):\n",
        "    less = second\n",
        "  if (third < less):\n",
        "    less = third\n",
        "\n",
        "  print(f'lowest grade: {less} ')\n",
        "\n",
        "first = float(input('enter the first note: '))\n",
        "second = float(input('enter the second note: '))\n",
        "third = float(input('enter the third note: '))\n",
        "print()\n",
        "\n",
        "mean(first, second, third)"
      ],
      "execution_count": null,
      "outputs": []
    },
    {
      "cell_type": "markdown",
      "metadata": {
        "id": "wPvAwh6-GwsY"
      },
      "source": [
        "# Projeto: Gastos com Viagem \n",
        "\n",
        "    • Escreva uma aplicação utilizando funções que calcule os gastos com \n",
        "      passagem, hospedagem, aluguel de carro e gastos extras de uma viagem\n",
        "      para uma determinada cidade.\n",
        "    \n",
        "    • 1. Hospedagem:\n",
        "      Crie uma função chamada 'custo_hotel' que receba um parâmetro (argumento)\n",
        "      chamado 'noites' e retorne o custo total do hotel, sendo que 1 noite custa R$ 140,00\n",
        "    \n",
        "    • 2. Passagem:\n",
        "      Crie uma função chamada 'custo_aviao' que receba o nome da cidade\n",
        "      e retorne o custo da passagem de avião, sendo que passagem para:\n",
        "\n",
        "      - São Paulo custa R$ 312,00;\n",
        "      - Porto Alegre custa R$ 447,00;\n",
        "      - Recife custa R$ 831,00;\n",
        "      - Manaus custa R$ 986,00.\n",
        "\n",
        "    • 3. Aluguel de carro:\n",
        "      Crie uma função chamada 'custo_carro' que receba um parâmetro chamado 'dias'.\n",
        "\n",
        "      - Calcule o custo do aluguel do carro sendo que:\n",
        "      - A cada dia o carro custa R$ 40,00;\n",
        "      - Alugando 7 dias ou +: R$ 50,00 de desconto;\n",
        "      - Alugando 3 dias ou +: R$ 20,00 de desconto;\n",
        "      - Você pode receber apenas um desconto;\n",
        "      - Retorne o custo.\n",
        "\n",
        "    • 4. Custo Total: \n",
        "      Agora com essas três funções criadas, declare uma função que receba a cidade \n",
        "      e quantidade de dias e retorne o custo total da viagem.\n",
        "\n",
        "      - Reutilize as funções já criadas.\n",
        "      - Exiba o total da viagem chamando apenas a nova função declarada!\n",
        "\n",
        "    • 5. Gasto extra:\n",
        "      Modifique essa nova função criada e adicione um terceiro argumento: 'gastos_extras'\n",
        "      e some esse valor ao total da viagem.\n",
        "\n",
        "      - Exiba no console o custo total de uma viagem de 12 dias para 'Manaus'\n",
        "     gastando R$ 800,00 adicionais."
      ]
    },
    {
      "cell_type": "code",
      "metadata": {
        "id": "YBDlCc2EFnEW"
      },
      "source": [
        "# 01: Hospedagem\n",
        "def hostingCost(numberOfNights):\n",
        "\n",
        "  valuePerNight = 140\n",
        "  hostingValue = numberOfNights * valuePerNight\n",
        "  print(f'the total cost of hosting is: R${hostingValue:.2f}')\n",
        "\n",
        "numberOfNights = int(input(\"how many nights will you be staying?: \"))\n",
        "hostingCost(numberOfNights)"
      ],
      "execution_count": null,
      "outputs": []
    },
    {
      "cell_type": "code",
      "metadata": {
        "id": "RYn6DuolGnan"
      },
      "source": [
        "# 02: Passagem\n",
        "def ticketCost(city):\n",
        "  city = city.lower().strip()\n",
        "  valueByCity = 0\n",
        "\n",
        "  if (city == 'são paulo') or (city == 'sao paulo'):\n",
        "    valueByCity = 312\n",
        "  elif (city == 'porto alegre'):\n",
        "    valueByCity = 447\n",
        "  elif (city == 'recife'):\n",
        "    valueByCity = 831\n",
        "  elif (city == 'manaus'):\n",
        "    valueByCity = 986\n",
        "  \n",
        "  print(f'the total cost of ticket is: R${valueByCity:.2f}')\n",
        "\n",
        "city = input('what is the destination city?: ')\n",
        "ticketCost(city)"
      ],
      "execution_count": null,
      "outputs": []
    },
    {
      "cell_type": "code",
      "metadata": {
        "id": "IBC7QM03IGwy"
      },
      "source": [
        "# 03: Aluguel de carro\n",
        "def rentCar(rentalDays):\n",
        "\n",
        "  valuePerDay = 40\n",
        "  discountSevenDays = 50\n",
        "  discountThreeDays = 20\n",
        "\n",
        "  carCost = valuePerDay*rentalDays\n",
        "\n",
        "  if (rentalDays >= 7):\n",
        "    carCost -= discountSevenDays\n",
        "  elif (rentalDays >= 3):\n",
        "  carCost -= discountThreeDays\n",
        "  print(f\"the car rental is: R${carCost:.2f}\")\n",
        "\n",
        "rentalDays = int(input('how many days do you want to rent?: '))\n",
        "rentCar(rentalDays)  "
      ],
      "execution_count": null,
      "outputs": []
    },
    {
      "cell_type": "code",
      "metadata": {
        "id": "_RhYqV8iJtbY"
      },
      "source": [
        "# 04: Custo total\n",
        "def travelCost(numberOfNights, city, rentalDays, extraExpense):\n",
        "\n",
        "  #Custo de Hospedagem\n",
        "  valuePerNight = 140\n",
        "  hostingValue = numberOfNights * valuePerNight\n",
        "\n",
        "  print(f'the total cost of hosting is: R${hostingValue:.2f}')\n",
        "\n",
        "  #Custo de Passagem\n",
        "  city = city.lower().strip()\n",
        "  valueByCity = 0\n",
        "\n",
        "  if (city == 'são paulo') or (city == 'sao paulo'):\n",
        "    valueByCity = 312\n",
        "  elif (city == 'porto alegre'):\n",
        "    valueByCity = 447\n",
        "  elif (city == 'recife'):\n",
        "    valueByCity = 831\n",
        "  elif (city == 'manaus'):\n",
        "    valueByCity = 986\n",
        "  \n",
        "  print(f'the total cost of ticket is: R${valueByCity:.2f}')\n",
        "\n",
        "  #Aluguel de Carro\n",
        "  valuePerDay = 40\n",
        "  discountSevenDays = 50\n",
        "  discountThreeDays = 20\n",
        "\n",
        "  carCost = valuePerDay*rentalDays\n",
        "\n",
        "  if (rentalDays >= 7):\n",
        "    carCost -= discountSevenDays\n",
        "  elif (rentalDays >= 3):\n",
        "    carCost -= discountThreeDays\n",
        "  print(f\"the car rental is: R${carCost:.2f}\")\n",
        "\n",
        "  # Gasto Extra\n",
        "  print(f\"the additional cost is: R${extraExpense:.2f}\")\n",
        "\n",
        "  #Total da viagem\n",
        "  totalCost =  (hostingValue + valueByCity + carCost)+ extraExpense\n",
        "  \n",
        "  print()\n",
        "  print(f\"the total cost of travel is: R${totalCost:.2f}\")\n",
        "\n",
        "\n",
        "numberOfNights = int(input(\"how many nights will you be staying?: \"))\n",
        "city = input('what is the destination city?: ')\n",
        "rentalDays = int(input('how many days do you want to rent?: '))\n",
        "extraExpense = float(input('how much extra money do you want to take? R$'))\n",
        "\n",
        "print()\n",
        "\n",
        "travelCost(numberOfNights, city, rentalDays, extraExpense)"
      ],
      "execution_count": null,
      "outputs": []
    }
  ]
}