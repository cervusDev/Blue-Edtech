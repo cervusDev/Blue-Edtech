{
  "nbformat": 4,
  "nbformat_minor": 0,
  "metadata": {
    "colab": {
      "name": "Blue_03.ipynb",
      "provenance": [],
      "collapsed_sections": [],
      "authorship_tag": "ABX9TyPCXPw1OErNU/x0eV3GgI4K",
      "include_colab_link": true
    },
    "kernelspec": {
      "name": "python3",
      "display_name": "Python 3"
    },
    "language_info": {
      "name": "python"
    },
    "accelerator": "GPU"
  },
  "cells": [
    {
      "cell_type": "markdown",
      "metadata": {
        "id": "view-in-github",
        "colab_type": "text"
      },
      "source": [
        "<a href=\"https://colab.research.google.com/github/gucervus/Blue-Edtech/blob/main/Blue_03.ipynb\" target=\"_parent\"><img src=\"https://colab.research.google.com/assets/colab-badge.svg\" alt=\"Open In Colab\"/></a>"
      ]
    },
    {
      "cell_type": "markdown",
      "metadata": {
        "id": "VRtTpenrLp-2"
      },
      "source": [
        "### Praticando estruturas de repetição"
      ]
    },
    {
      "cell_type": "markdown",
      "metadata": {
        "id": "cwV7tCZBNqXb"
      },
      "source": [
        "### 01. Faça um Programa que leia três números inteiros\n",
        "### e mostre o maior e o menor deles."
      ]
    },
    {
      "cell_type": "code",
      "metadata": {
        "id": "uMJva3NhJkx9",
        "colab": {
          "base_uri": "https://localhost:8080/"
        },
        "outputId": "e91ed4a9-f4f3-4ff2-f900-25c216839a10"
      },
      "source": [
        "primeiro = int(input(\"Primeiro número: \"))\n",
        "segundo = int(input(\"Segundo número: \"))\n",
        "terceiro = int(input('Terceiro número: '))\n",
        "\n",
        "maior = primeiro\n",
        "menor = primeiro\n",
        "\n",
        "# Maior\n",
        "if (primeiro > segundo and primeiro > terceiro):\n",
        "  print(f\"O maior foi o primeiro: {primeiro}\")\n",
        "elif (segundo > primeiro and segundo > terceiro):\n",
        "  print(f\"O maior foi o segundo: {segundo}\")\n",
        "else: \n",
        "  print(f\"O maior foi o terceiro: {terceiro}\")\n",
        "\n",
        "# Menor\n",
        "\n",
        "if (primeiro < segundo and primeiro < terceiro):\n",
        "  print(f\"O menor foi o primeiro: {primeiro}\")\n",
        "elif (segundo < primeiro and segundo < terceiro):\n",
        "  print(f\"O menor foi o segundo: {segundo}\")\n",
        "else: \n",
        "  print(f\"O menor foi o terceiro: {terceiro}\")"
      ],
      "execution_count": 12,
      "outputs": [
        {
          "output_type": "stream",
          "text": [
            "Primeiro número: 5\n",
            "Segundo número: 4\n",
            "Terceiro número: 3\n",
            "O maior foi o primeiro: 5\n"
          ],
          "name": "stdout"
        }
      ]
    },
    {
      "cell_type": "markdown",
      "metadata": {
        "id": "qPjj0eLaN5XP"
      },
      "source": [
        "### 02. Faça um programa que peça dois números e imprima o maior deles"
      ]
    },
    {
      "cell_type": "code",
      "metadata": {
        "id": "z7Xs2TuIK5q-"
      },
      "source": [
        "primeiro = float(input(\"Escolha um número: \"))\n",
        "segundo = float(input(\"Escolha outro número: \"))\n",
        "\n",
        "if (primeiro > segundo):\n",
        "  print(f\"O maior número foi o primeiro: {primeiro}\")\n",
        "else:\n",
        "  print(f\"O maior número foi o segundo: {segundo}\")"
      ],
      "execution_count": null,
      "outputs": []
    },
    {
      "cell_type": "markdown",
      "metadata": {
        "id": "qtQVuSZlN_Qg"
      },
      "source": [
        "### 03. Faça um script que peça um valor e mostre na tela\n",
        "### se o valor é positivo ou negativo. "
      ]
    },
    {
      "cell_type": "code",
      "metadata": {
        "id": "f_mdH2MeOdLD"
      },
      "source": [
        "value = float(input(\"Digite um número: \"))\n",
        "\n",
        "if (value >= 0):\n",
        "  print(f\"{value} é positivo!\")\n",
        "else:\n",
        "  print(f\"{value} é negativo!\")"
      ],
      "execution_count": null,
      "outputs": []
    },
    {
      "cell_type": "markdown",
      "metadata": {
        "id": "jCn8bDlUOEvR"
      },
      "source": [
        "### 04. Crie um programa que verifique se uma letra digitada é \n",
        "### \"F\" ou \"M\". Conforme a letra escrever: F - Feminino, M - Masculino, Sexo Inválido"
      ]
    },
    {
      "cell_type": "code",
      "metadata": {
        "id": "ylhhKD_RO6Qm"
      },
      "source": [
        "gender = input(\"Qual o seu sexo?: \").upper().strip()[0]\n",
        "\n",
        "if (gender == \"M\"):\n",
        "  print(\"Masculino\")\n",
        "elif (gender == \"F\"):\n",
        "  print(\"Feminino\")\n",
        "else:\n",
        "  print(\"Sexo inválido\")"
      ],
      "execution_count": null,
      "outputs": []
    },
    {
      "cell_type": "markdown",
      "metadata": {
        "id": "zdYBk44vOPLm"
      },
      "source": [
        "### 05. Crie um programa em Python que peça a nota do aluno, que deve ser um float entre 0.00 e 10.0 • Se a nota for menor que 6.0, deve exibir a nota F. • Se a nota for de 6.0 até 7.0, deve exibir a nota D. • Se a nota for entre 7.0 e 8.0, deve exibir a nota C. • Se a nota for entre 8.0 e 9.0, deve exibir a nota B. • Por fim, se for entre 9.0 e 10.0, deve exibir um belo de um A. Exercício"
      ]
    },
    {
      "cell_type": "code",
      "metadata": {
        "id": "wLEVnT1EP7Zv"
      },
      "source": [
        "studentGrade = float(input(\"Digite sua nota: \"))\n",
        "\n",
        "if (studentGrade < 6):\n",
        "  print(\"F\")\n",
        "elif (studentGrade >= 6 and studant<= 7):\n",
        "  print(\"D\")\n",
        "elif (studentGrade >=)"
      ],
      "execution_count": null,
      "outputs": []
    },
    {
      "cell_type": "markdown",
      "metadata": {
        "id": "o0IdCrQrOVs4"
      },
      "source": [
        "### 06. Faça um Programa que verifique se uma letra digitada é vogal ou consoante."
      ]
    },
    {
      "cell_type": "code",
      "metadata": {
        "id": "jB2qAPKcYIb6"
      },
      "source": [
        "letra = input(\"Letra\").upper()\n",
        "\n",
        "if (letra == 'a' or letra == 'e' or letra == 'i' or letra == 'o' or letra == 'u' ):\n",
        "  print(\"vogal\")\n",
        "else:\n",
        "  print('Consoante')"
      ],
      "execution_count": null,
      "outputs": []
    },
    {
      "cell_type": "markdown",
      "metadata": {
        "id": "0A4BhdQ3YjOq"
      },
      "source": [
        "#Projeto 1\n",
        "\n",
        "    • Escreva um programa que receba uma string digitada pelo usuário;\n",
        "    • Caso a string seja \"medieval\", exiba no console \"espada\";\n",
        "    • Caso contrário, se a string for \"futurista\", exiba no console \"sabre de luz\";\n",
        "    • Caso contrário, exiba no console \"Tente novamente\""
      ]
    },
    {
      "cell_type": "code",
      "metadata": {
        "colab": {
          "base_uri": "https://localhost:8080/"
        },
        "id": "5ZGX44kWYrVD",
        "outputId": "80d53b13-f317-475f-87e0-e4c029b56437"
      },
      "source": [
        "stringValue = input(\"Qual a sua escolha?\").upper()\n",
        "\n",
        "if (stringValue == \"MEDIEVAL\"):\n",
        "  print(\"Espada\")\n",
        "elif (stringValue == \"FUTURISTA\"):\n",
        "  print(\"Sabre de luz\")\n",
        "else:\n",
        "  print(\"Tente novamente\")"
      ],
      "execution_count": 23,
      "outputs": [
        {
          "output_type": "stream",
          "text": [
            "Qual a sua escolha?medieval\n",
            "Espada\n"
          ],
          "name": "stdout"
        }
      ]
    },
    {
      "cell_type": "markdown",
      "metadata": {
        "id": "1aUUUprAZLn4"
      },
      "source": [
        "# Continuação \n",
        "    • Escreva um programa que receba um ataque de espada ou sabre digitada pelo usuário;\n",
        "    • Caso o ataque seja \"espada\", exiba no console \"VOCÊ AINDA NÃO MATOU O CHEFÃO\";\n",
        "    • Caso contrário, se o ataque for \"sabre\", exiba no console \"VOCÊ DERROTOU O CHEFÃO COM O SABRE DE LUZ\";\n",
        "    • Caso contrário, exiba no console \"ATAQUE NOVAMENTE\"\n"
      ]
    },
    {
      "cell_type": "code",
      "metadata": {
        "id": "bD3njZkYZHAY"
      },
      "source": [
        "weaponType = input(\"Qual o tipo do ataque?\").upper()\n",
        "\n",
        "if (weaponType == \"ESPADA\"): \n",
        "  print(\"Você ainda não matou o chefão\")\n",
        "elif (weaponType == \"SABRE DE LUZ\"):\n",
        "  print(\"Você derrotou o chefão com o sabre de luz\")\n",
        "else:\n",
        "  print(\"Ataque novamente\")"
      ],
      "execution_count": null,
      "outputs": []
    },
    {
      "cell_type": "markdown",
      "metadata": {
        "id": "GtGVzofvaiCU"
      },
      "source": [
        "# Projeto 02\n",
        "\n",
        "### As empresas @.com resolveram dar um aumento de salário aos seus\n",
        "### colaboradores e lhe contrataram para desenvolver o programa que calculará os reajustes.\n",
        "---\n",
        "### Faça um programa que recebe o salário de um colaborador e o reajuste segundo o seguinte critério, baseado no salário atual:\n",
        "    • salários até R$ 280,00 (incluindo) : aumento de 20%\n",
        "    • salários entre R$ 280,00 e R$ 700,00 : aumento de 15%\n",
        "    • salários entre R$ 700,00 e R$ 1500,00 : aumento de 10%\n",
        "    • salários de R$ 1500,00 em diante : aumento de 5%\n",
        "### Após o aumento ser realizado, informe na tela:\n",
        "    • o salário antes do reajuste;\n",
        "    • o percentual de aumento aplicado;\n",
        "    • o valor do aumento;\n",
        "    • o novo salário, após o aument"
      ]
    },
    {
      "cell_type": "code",
      "metadata": {
        "colab": {
          "base_uri": "https://localhost:8080/"
        },
        "id": "IlmCukeQa0Hw",
        "outputId": "da214182-3fcf-4764-8ec8-bca5d65a0e4c"
      },
      "source": [
        "currentWage = float(input('Qual o seu Salário?: R$'))\n",
        "print(\"=\"*30)\n",
        "\n",
        "if (currentWage <= 280):\n",
        "  readjustment = 0.20\n",
        "elif (currentWage > 280 and currentWage < 700):\n",
        "  readjustment = 0.15\n",
        "elif (currentWage >= 700 and currentWage < 1500):\n",
        "  readjustment = 0.10\n",
        "elif (currentWage >= 1500):\n",
        "  readjustment = 0.05\n",
        "\n",
        "print(f\"Antes do reajuste: R${currentWage}\")\n",
        "print(f\"Percentual aplicado: {readjustment*100}%\")\n",
        "print(f\"O valor do aumento: R${currentWage*readjustment}\")\n",
        "print(f\"O valor após o aumento: R${(currentWage*readjustment)+currentWage} \")"
      ],
      "execution_count": 33,
      "outputs": [
        {
          "output_type": "stream",
          "text": [
            "Qual o seu Salário?: R$1600\n",
            "==============================\n",
            "Antes do reajuste: R$1600.0\n",
            "Percentual aplicado: 5.0%\n",
            "O valor do aumento: R$80.0\n",
            "O valor após o aumento: R$1680.0 \n"
          ],
          "name": "stdout"
        }
      ]
    },
    {
      "cell_type": "markdown",
      "metadata": {
        "id": "hEQLGUUfdgHR"
      },
      "source": [
        "# Desafio 3\n",
        "\n",
        "Faça um Programa para um caixa eletrônico. O programa deverá perguntar ao usuário a valor do saque e depois informar quantas notas de cada valor serão fornecidas. As notas disponíveis serão as de 1, 5, 10, 50 e 100 reais. O valor mínimo é de 10 reais e o máximo de 600 reais. O programa não deve se preocupar com a quantidade de notas existentes na máquina.\n",
        "\n",
        "    • Exemplo 1: Para sacar a quantia de 256 reais, o programa fornece duas notas de 100, uma nota de 50, uma nota de 5 e uma nota de 1;\n",
        "    • Exemplo 2: Para sacar a quantia de 399 reais, o programa fornece três notas de 100, uma nota de 50, quatro notas de 10,\n",
        "    uma nota de 5 e quatro notas de 1.\n",
        " "
      ]
    },
    {
      "cell_type": "code",
      "metadata": {
        "id": "Lgv3l8INmNRF"
      },
      "source": [
        "withdrawMoney = float(input(\"Qual o valor que deseja sacar? min: R$10, max: R$600: R$\"))\n",
        "\n",
        "hundredBills = int(withdrawMoney/100)\n",
        "withdrawMoney = withdrawMoney - (hundredBills*100)\n",
        "\n",
        "fiftyNotes = int(withdrawMoney/50)\n",
        "withdrawMoney = withdrawMoney - (fiftyNotes*50)\n",
        "\n",
        "tenNotes = int(withdrawMoney/10)\n",
        "withdrawMoney = withdrawMoney - (tenNotes*10)\n",
        "\n",
        "\n",
        "fiveNotes = int(withdrawMoney/5)\n",
        "withdrawMoney = withdrawMoney - (fiveNotes*5)\n",
        "\n",
        "one = int(withdrawMoney)\n",
        "\n",
        "if (hundredBills > 0):\n",
        "  print(f'Você receberá {hundredBills} notas de R$100,00')\n",
        "if (fiftyNotes > 0):\n",
        "  print(f'Você receberá {fiftyNotes} notas de R$ 50,00')\n",
        "if (tenNotes > 0):\n",
        "  print(f'Você receberá {tenNotes} notas R$ 10,00')\n",
        "if (fiveNotes > 0):\n",
        "  print(f'Você receberá {fiveNotes} notas R$  5,00')\n",
        "if (one > 0):\n",
        "  print(f'Você receberá {one} notas de R$  1,00')"
      ],
      "execution_count": null,
      "outputs": []
    }
  ]
}