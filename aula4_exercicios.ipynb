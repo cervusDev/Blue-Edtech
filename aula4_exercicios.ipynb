{
  "nbformat": 4,
  "nbformat_minor": 0,
  "metadata": {
    "colab": {
      "name": "aula4_exercicios.ipynb",
      "provenance": [],
      "collapsed_sections": [],
      "include_colab_link": true
    },
    "kernelspec": {
      "name": "python3",
      "display_name": "Python 3"
    },
    "language_info": {
      "name": "python"
    },
    "accelerator": "GPU"
  },
  "cells": [
    {
      "cell_type": "markdown",
      "metadata": {
        "id": "view-in-github",
        "colab_type": "text"
      },
      "source": [
        "<a href=\"https://colab.research.google.com/github/gucervus/Blue-Edtech/blob/main/aula4_exercicios.ipynb\" target=\"_parent\"><img src=\"https://colab.research.google.com/assets/colab-badge.svg\" alt=\"Open In Colab\"/></a>"
      ]
    },
    {
      "cell_type": "markdown",
      "metadata": {
        "id": "DptQTkwqN7v9"
      },
      "source": [
        "# Exercícios de Aquecimento\n",
        "\n",
        "## Exercício 01\n",
        "Elabore um programa que imprima na tela a seguinte frase `Olá Mundo! Esse é o meu primeiro programa`"
      ]
    },
    {
      "cell_type": "code",
      "metadata": {
        "id": "fu-Hvxg7OT64",
        "colab": {
          "base_uri": "https://localhost:8080/"
        },
        "outputId": "58110bbf-e470-4b67-871b-f87e591c7235"
      },
      "source": [
        "print(\"Olá mundo! Esse é o primeiro programa\")"
      ],
      "execution_count": 1,
      "outputs": [
        {
          "output_type": "stream",
          "text": [
            "Olá mundo! Esse é o primeiro programa\n"
          ],
          "name": "stdout"
        }
      ]
    },
    {
      "cell_type": "markdown",
      "metadata": {
        "id": "HYnPLbl2OfuE"
      },
      "source": [
        "## Exercício 02\n",
        "Elabore um programa que escreve seu nome completo na primeira linha, seu endereço na segunda e o CEP e telefone na terceira.  \n",
        "\n",
        "**Exemplo:**\n",
        "```\n",
        "Nome: Bruno Fabri\n",
        "Endereço: Rua ABC\n",
        "CEP: 002220-010\n",
        "```"
      ]
    },
    {
      "cell_type": "code",
      "metadata": {
        "id": "sUrmuOzbO5Cd",
        "colab": {
          "base_uri": "https://localhost:8080/"
        },
        "outputId": "3cd941ff-0800-4ebd-9e34-4965a669df53"
      },
      "source": [
        "nome = 'Nome: Gustavo Henrique'\n",
        "endereco = 'Endereço: Rua Odilon Prado Cassettari'\n",
        "cep = 'CEP: 18610-195'\n",
        "\n",
        "print(f\"{nome}\\n{endereco}\\n{cep}\")"
      ],
      "execution_count": 5,
      "outputs": [
        {
          "output_type": "stream",
          "text": [
            "Nome: Gustavo Henrique\n",
            "Endereço: Rua Odilon Prado Cassettari\n",
            "CEP: 18610-195\n"
          ],
          "name": "stdout"
        }
      ]
    },
    {
      "cell_type": "markdown",
      "metadata": {
        "id": "5XVY0cvwP1WX"
      },
      "source": [
        "## Exercício 03\n",
        "Elabore um programa que recebe o nome de uma pessoa do terminal e mostra a seguinte mensagem: `Olá {nome}! Seja bem vindo ao fantástico mundo da programação`"
      ]
    },
    {
      "cell_type": "code",
      "metadata": {
        "id": "VDfwe6OSQM0M",
        "colab": {
          "base_uri": "https://localhost:8080/"
        },
        "outputId": "4b907b18-a82f-4660-f1a0-d0381dba47e3"
      },
      "source": [
        "meuNome = input('Qual o seu nome? ')\n",
        "print(f\"Olá {meuNome}! Seja bem vindo ao fantástico mundo da programação\")"
      ],
      "execution_count": 7,
      "outputs": [
        {
          "output_type": "stream",
          "text": [
            "Qual o seu nome? Gustavo\n",
            "Olá Gustavo! Seja bem vindo ao fantástico mundo da programação\n"
          ],
          "name": "stdout"
        }
      ]
    },
    {
      "cell_type": "markdown",
      "metadata": {
        "id": "1Nb29agVQc3k"
      },
      "source": [
        "## Exercício 04\n",
        "Elabore um programa que recebe dois valores inteiros e mostra a soma desses valores\n",
        "\n",
        "**Exemplo:**\n",
        "\n",
        "```\n",
        "Primeiro Valor = 2\n",
        "Segundo Valor = 3\n",
        "Soma = 5\n",
        "```"
      ]
    },
    {
      "cell_type": "code",
      "metadata": {
        "id": "a6_BwVwRROmH",
        "colab": {
          "base_uri": "https://localhost:8080/"
        },
        "outputId": "f6c5ff88-7cdf-4535-aa0b-09e8312b41cb"
      },
      "source": [
        "primeiroValor = int(input(\"Primeiro valor\"))\n",
        "segundoValor = int(input(\"Segundo valor\"))\n",
        "soma = primeiroValor + segundoValor\n",
        "\n",
        "print(f\"{primeiroValor} + {segundoValor} = {soma}\")"
      ],
      "execution_count": 8,
      "outputs": [
        {
          "output_type": "stream",
          "text": [
            "Primeiro valor2\n",
            "Segundo valor3\n",
            "2 + 3 = 5\n"
          ],
          "name": "stdout"
        }
      ]
    },
    {
      "cell_type": "markdown",
      "metadata": {
        "id": "4HQxR3FTTbSr"
      },
      "source": [
        "## Exercício 05\n",
        "Elabore um programa que recebe dois valores inteiros e mostra se o primeiro valor é maior ou igual ao segundo valor\n",
        "\n",
        "**Exemplo:**\n",
        "```\n",
        "Primeiro Valor = 3\n",
        "Segundo Valor = 2\n",
        "Resultado = True\n",
        "```"
      ]
    },
    {
      "cell_type": "code",
      "metadata": {
        "id": "OXISQASdTeSW",
        "colab": {
          "base_uri": "https://localhost:8080/"
        },
        "outputId": "1ff7950a-36db-4aa5-daf1-550854cbeaf8"
      },
      "source": [
        "primeiroValor = float(input(\"Primeiro valor: \"))\n",
        "segundoValor = float(input('Segundo valor: '))\n",
        "resultado = primeiroValor >= segundoValor\n",
        "\n",
        "print(f\"Primeiro valor é maior ou igual ao segundo valor? {resultado}\")"
      ],
      "execution_count": 10,
      "outputs": [
        {
          "output_type": "stream",
          "text": [
            "Primeiro valor: 7\n",
            "Segundo valor: 9\n",
            "Primeiro valor é maior que o segundo? False\n"
          ],
          "name": "stdout"
        }
      ]
    },
    {
      "cell_type": "markdown",
      "metadata": {
        "id": "Gn8rHPn3UCnc"
      },
      "source": [
        "## Exercício 06\n",
        "Elabore um programa que recebe o seu nome, endereço e hobby e mostra cada uma das informações da seguinte forma:\n",
        "- Nome -> Letra maiúscula\n",
        "- Endereço -> Letra minúscula\n",
        "- Hobby -> Primeira letra maiúscula\n",
        "\n",
        "**Exemplo Entrada:**\n",
        "```\n",
        "Nome: bruno fabri\n",
        "Endereço: Rua ABC\n",
        "Hobby: jogar cs\n",
        "```\n",
        "\n",
        "**Exemplo Saída:**\n",
        "```\n",
        "Nome: BRUNO FABRI\n",
        "Endereço: rua abc\n",
        "Hobby: Jogar cs\n",
        "```"
      ]
    },
    {
      "cell_type": "code",
      "metadata": {
        "id": "ZIj-PGVZVVP6",
        "colab": {
          "base_uri": "https://localhost:8080/"
        },
        "outputId": "cd70705f-102b-4afc-a878-789d3bf53636"
      },
      "source": [
        "nome = input('Digite seu nome: ').upper()\n",
        "endereco = input('Digite seu endereço: ').lower()\n",
        "hobby = input('Digite seu hobby: ').capitalize()\n",
        "\n",
        "print(f\"{nome}\\n{endereco}\\n{hobby}\")"
      ],
      "execution_count": 16,
      "outputs": [
        {
          "output_type": "stream",
          "text": [
            "Digite seu nome: adhuahsds\n",
            "Digite seu endereço: hdsadh\n",
            "Digite seu hobby: ahsduiah\n",
            "ADHUAHSDS\n",
            "hdsadh\n",
            "Ahsduiah\n"
          ],
          "name": "stdout"
        }
      ]
    },
    {
      "cell_type": "code",
      "metadata": {
        "id": "0OgDX1ZDQRJ0"
      },
      "source": [
        ""
      ],
      "execution_count": null,
      "outputs": []
    },
    {
      "cell_type": "markdown",
      "metadata": {
        "id": "wlvmEAPQNrcL"
      },
      "source": [
        "# Mini Projetos"
      ]
    },
    {
      "cell_type": "markdown",
      "metadata": {
        "id": "W8zwueNBKh4B"
      },
      "source": [
        "## Mini Projeto 01 - Conversor de Moeda\n",
        "Vamos construir um programa que irá converter moedas do real para o dólar e do dólar para o real. Vamos considerar que `$ 1,00 = R$ 5,75`\n",
        "\n",
        "### Parte 1\n",
        "Faça o conversor de moeda receber o valor em real e mostrar o valor convertido para dólar no formato `$ XXXX.XX`\n",
        "\n",
        "**Exemplo:**\n",
        "\n",
        "```\n",
        "Valor em R$ = 1000\n",
        "Valor em $ = $ 173.91\n",
        "```\n",
        "\n",
        "### Parte 2\n",
        "Altere o conversor de moedas para receber o valor em dólar, converter para real e mostrar o resultado no formato `R$ XXXX.XX`\n",
        "\n",
        "**Exemplo:**\n",
        "```\n",
        "Valor em $ = 1000\n",
        "Valor em R$ = R$ 5750.00\n",
        "```"
      ]
    },
    {
      "cell_type": "code",
      "metadata": {
        "id": "mRQ9fpIgMp5Z",
        "colab": {
          "base_uri": "https://localhost:8080/"
        },
        "outputId": "d5b8a758-39a1-4403-fd47-8186c8877516"
      },
      "source": [
        "valorEmReal = float(input('Digite um valor: '))\n",
        "Dolar = 5.75\n",
        "valorConvertidoEmDolar = valorEmReal * Dolar\n",
        "\n",
        "print(f\"${valorConvertidoEmDolar:.2f}\")"
      ],
      "execution_count": 28,
      "outputs": [
        {
          "output_type": "stream",
          "text": [
            "Digite um valor: 4.56\n",
            "$26.22\n"
          ],
          "name": "stdout"
        }
      ]
    },
    {
      "cell_type": "code",
      "metadata": {
        "colab": {
          "base_uri": "https://localhost:8080/"
        },
        "id": "b8O26Ce1Rr5X",
        "outputId": "e46b643c-f7a9-47df-f502-b1778f0c061c"
      },
      "source": [
        "valorEmDolar = float(input('Digite um valor: '))\n",
        "Dolar = 5.75\n",
        "valorConvertidoEmReal = valorEmDolar/Dolar\n",
        "\n",
        "print(f\"R${valorConvertidoEmReal:.2f}\")"
      ],
      "execution_count": 25,
      "outputs": [
        {
          "output_type": "stream",
          "text": [
            "Digite um valor: 34.54\n",
            "R$6.01:\n"
          ],
          "name": "stdout"
        }
      ]
    },
    {
      "cell_type": "markdown",
      "metadata": {
        "id": "0NmAiF2DV_ju"
      },
      "source": [
        "## Mini Projeto 02 - Calculadora de aumento de aluguel\n",
        "Vamos construir um programa que irá calcular o aumento anual do seu aluguel em duas partes:\n",
        "\n",
        "### Parte 1\n",
        "A sua calculadora vai receber o `valor do aluguel` e calcular o aumento baseado no `IGPM de 31%`. A calculadora deve apresentar o aluguel reajustado no formato `R$ XXXX.XX`\n",
        "\n",
        "**Exemplo:**\n",
        "```\n",
        "Valor do aluguel = 1000\n",
        "Valor do aluguel reajustado = R$ 1310,00\n",
        "```\n",
        "\n",
        "### Parte 2\n",
        "Agora, altere sua calculadora para receber além do `valor do aluguel`, o percentual do reajuste no formato `XX%`.  \n",
        "\n",
        "**Dica:** Descubra uma forma de transformar o percentual recebido em um número para efetuar o cálculo.\n",
        "\n",
        "**Exemplo:**\n",
        "```\n",
        "Valor do aluguel = 1000\n",
        "Percentual do reajuste = 31%\n",
        "Valor do aluguel reajustado = R% 1310,00\n",
        "```"
      ]
    },
    {
      "cell_type": "code",
      "metadata": {
        "id": "0eHzSCyaGkYJ",
        "colab": {
          "base_uri": "https://localhost:8080/"
        },
        "outputId": "b0a08320-cf70-4b3f-a20f-ce5039ec4e7f"
      },
      "source": [
        "valorAluguel = float(input(\"Digite o valor do aluguel: \"))\n",
        "\n",
        "reajuste = 0.31\n",
        "aluguelReajustado = (valorAluguel*reajuste)+valorAluguel\n",
        "\n",
        "print(f\"Valor do aluguel = R${valorAluguel}\")\n",
        "print(f\"Valor do aluguel reajustado = R${aluguelReajustado}\")"
      ],
      "execution_count": 33,
      "outputs": [
        {
          "output_type": "stream",
          "text": [
            "Digite o valor do aluguel: 1000\n",
            "Valor do aluguel = R$1000.0\n",
            "Valor do aluguel reajustado = R$1310.0\n"
          ],
          "name": "stdout"
        }
      ]
    },
    {
      "cell_type": "code",
      "metadata": {
        "colab": {
          "base_uri": "https://localhost:8080/"
        },
        "id": "F2Ri-BXJWcQT",
        "outputId": "1237d3a7-9213-4a73-b22e-0b876254c250"
      },
      "source": [
        "valorAluguel = float(input(\"Digite o valor do aluguel: \"))\n",
        "valorReajuste = float(input('Qual o valor do reajuste?: '))\n",
        "\n",
        "reajusteEmPercentual = valorReajuste/100\n",
        "aluguelReajustado = (valorAluguel*reajusteEmPercentual)+valorAluguel\n",
        "\n",
        "print(f\"Valor do aluguel = R${valorAluguel}\")\n",
        "print(f\"Valor do reajuste = R${valorReajuste}\")\n",
        "print(f\"Valor do aluguel reajusta = R${aluguelReajustado}\")"
      ],
      "execution_count": 32,
      "outputs": [
        {
          "output_type": "stream",
          "text": [
            "Digite o valor do aluguel: 1000\n",
            "Qual o valor do reajuste?: 31\n",
            "Valor do aluguel = R$1000.0\n",
            "Valor do reajuste = 31.0%\n",
            "Valor do aluguel reajustado = R$1310.0\n"
          ],
          "name": "stdout"
        }
      ]
    },
    {
      "cell_type": "markdown",
      "metadata": {
        "id": "xN88sUuMOG46"
      },
      "source": [
        "\n",
        "\n",
        "## Mini Projeto 03 - Calculadora de dano\n",
        "Vamos implementar a calculadora de dano de RPG!!\n",
        "\n",
        "### Parte 1\n",
        "O programa vai receber a `vida e um monstro (entre 10 e 50)` e o `valor do ataque do jogador por turno (entre 5 e 10)`\n",
        "\n",
        "Baseado nos valores, exiba a quantidade de turnos que o jogador irá demorar para conseguir derrotar o monstro.\n",
        "\n",
        "**Exemplo:**\n",
        "```\n",
        "Vida de um monstro (entre 10 e 50): 26\n",
        "Valor do ataque do jogador por turno (entre 5 e 10): 5\n",
        "Resultado: O jogador irá precisar de 6 turnos para derrotar o monstro.\n",
        "```\n",
        "\n",
        "### Parte 2\n",
        "Altere o programa para ao invés de receber a vida do monstro, gerar aleatoriamente um valor entre 10 e 50."
      ]
    },
    {
      "cell_type": "code",
      "metadata": {
        "id": "Mrpz9UomQH2P",
        "colab": {
          "base_uri": "https://localhost:8080/"
        },
        "outputId": "5a390d92-3350-461f-efda-4190c6e868a9"
      },
      "source": [
        "import math as mt\n",
        "\n",
        "lifeMonster = float(input('Qual a vida do monstro entre (10 e 50): '))\n",
        "atackValue = float(input('Qual o valor ataque entre (5 e 10): '))\n",
        "\n",
        "resultado = mt.ceil((lifeMonster/atackValue)) \n",
        "print(f\"O jogador irá precisar de {resultado} turnos para derrotar o monstro\")"
      ],
      "execution_count": 41,
      "outputs": [
        {
          "output_type": "stream",
          "text": [
            "Qual a vida do monstro entre (10 e 50): 26\n",
            "Qual o valor ataque entre (5 e 10): 5\n",
            "6\n"
          ],
          "name": "stdout"
        }
      ]
    },
    {
      "cell_type": "code",
      "metadata": {
        "colab": {
          "base_uri": "https://localhost:8080/"
        },
        "id": "HVgOPjebaIiP",
        "outputId": "bfeea166-9b61-4eb4-aaba-dfc392fd0541"
      },
      "source": [
        "import random as rd \n",
        "import math as mt\n",
        "\n",
        "lifeMonster = rd.randint(10,50)\n",
        "atackValue = float(input('Qual o valor ataque entre (5 e 10): '))\n",
        "\n",
        "result = mt.ceil(lifeMonster/atackValue)\n",
        "print(f\"O jogador irá precisar de {result} turnos para derrotar o monstro\")"
      ],
      "execution_count": 49,
      "outputs": [
        {
          "output_type": "stream",
          "text": [
            "Qual o valor ataque entre (5 e 10): 10\n",
            "O jogador irá precisar de 4 turnos para derrotar o monstro\n"
          ],
          "name": "stdout"
        }
      ]
    }
  ]
}