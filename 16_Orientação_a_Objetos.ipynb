{
  "nbformat": 4,
  "nbformat_minor": 0,
  "metadata": {
    "colab": {
      "name": "16_Orientação a Objetos.ipynb",
      "private_outputs": true,
      "provenance": [],
      "authorship_tag": "ABX9TyOl256raz+/FtxNilwAGQ1P",
      "include_colab_link": true
    },
    "kernelspec": {
      "name": "python3",
      "display_name": "Python 3"
    },
    "language_info": {
      "name": "python"
    }
  },
  "cells": [
    {
      "cell_type": "markdown",
      "metadata": {
        "id": "view-in-github",
        "colab_type": "text"
      },
      "source": [
        "<a href=\"https://colab.research.google.com/github/gucervus/Blue-Edtech/blob/main/16_Orienta%C3%A7%C3%A3o_a_Objetos.ipynb\" target=\"_parent\"><img src=\"https://colab.research.google.com/assets/colab-badge.svg\" alt=\"Open In Colab\"/></a>"
      ]
    },
    {
      "cell_type": "markdown",
      "metadata": {
        "id": "e8traeHrkmPN"
      },
      "source": [
        "      Classe: É um tipo (\"molde\") que possui uma representação que contém, atributos\n",
        "      e métodos.\n",
        "\n",
        "      Objeto: Instância de uma classe e a croncretização real de suas \n",
        "      funcionalidades.\n",
        "\n",
        "      Atributos: São as caracteristicas do nosso objeto\n",
        "\n",
        "      Métodos: Ação que os objetos podem executar \n"
      ]
    },
    {
      "cell_type": "markdown",
      "metadata": {
        "id": "6Hc6NEIzlzWm"
      },
      "source": [
        "Estrutura de uma classe"
      ]
    },
    {
      "cell_type": "code",
      "metadata": {
        "id": "UHiroVtAj0ls"
      },
      "source": [
        "# class: Palavra reservada para a criação de uma classe\n",
        "      # Heroi: Nomeação da classe\n",
        "class Heroi():\n",
        "  # def __init__ (self): é uma autoreferência, como quem diz, eu existo?\n",
        "                    #Atributos do objeto\n",
        "  def __init__(self, nome, idade, peso, altura):\n",
        "    self.nome = nome\n",
        "    self.idade = idade\n",
        "    self.peso = peso\n",
        "    self.altura = altura\n",
        "\n",
        "    #declarar os métodos no infinitivo\n",
        "                  #Parametros do método\n",
        "  def engordar(self, peso):\n",
        "    self.peso += peso\n",
        "\n",
        "# Crianção do objeto ou uma instância da classe\n",
        "            # Valores correlacionados aos atributos\n",
        "heroi = Heroi('Capitão America', 30, 92, 1.90)\n",
        "\n",
        "# Acessando o objeto\n",
        "print(vars(heroi)) #Printa por ordem de declaração\n",
        "vars(heroi) # Printa por ordem alfabética das chaves\n",
        "\n",
        "# Acrescentando valores no objeto\n",
        "print()\n",
        "heroi.engordar(10) # Acrescimo de 10 kg no objeto\n",
        "print(vars(heroi))"
      ],
      "execution_count": null,
      "outputs": []
    },
    {
      "cell_type": "markdown",
      "metadata": {
        "id": "R-rKyCsnuA45"
      },
      "source": [
        "Percorrendo um objeto"
      ]
    },
    {
      "cell_type": "code",
      "metadata": {
        "id": "rHBDBEu3qa79"
      },
      "source": [
        "class Heroi():\n",
        "\n",
        "  def __init__(self, nome, idade, peso, altura):\n",
        "    self.nome = nome\n",
        "    self.idade = idade\n",
        "    self.peso = peso\n",
        "    self.altura = altura\n",
        "\n",
        "  def engordar(self, peso):\n",
        "    self.peso += peso\n",
        "\n",
        "# Criando o objeto Heroi\n",
        "heroi = Heroi('Capitão America', 30, 92, 1.90)\n",
        "print(f'type do objeto antes da mudança: {type(heroi)}')\n",
        "# Mudando o type do objeto, para que seja possível torná-lo iterável\n",
        "atributos = dict(vars(heroi))\n",
        "print(f'type do objeto após a sua mudança: {type(atributos)}')\n",
        "\n",
        "print()\n",
        "for atributo in atributos:\n",
        "  print(f'{atributo}: {atributos[atributo]}') "
      ],
      "execution_count": null,
      "outputs": []
    },
    {
      "cell_type": "markdown",
      "metadata": {
        "id": "SmWTZgXlx97H"
      },
      "source": [
        "Interagindo com mais um método"
      ]
    },
    {
      "cell_type": "code",
      "metadata": {
        "id": "58hfBAoluMF3"
      },
      "source": [
        "class Heroi():\n",
        "\n",
        "  def __init__(self, nome, idade, peso, altura):\n",
        "    self.nome = nome\n",
        "    self.idade = idade\n",
        "    self.peso = peso\n",
        "    self.altura = altura\n",
        "\n",
        "  # método engordar\n",
        "  def engordar(self, peso):\n",
        "    self.peso += peso\n",
        "  # método envelhecer\n",
        "  def envelhecer(self, idade):\n",
        "    self.idade += idade\n",
        "\n",
        "heroi = Heroi('Capitão America', 30, 92, 1.90)\n",
        "# interagir com mais um método\n",
        "heroi.envelhecer(20) #Nonetype\n",
        "print(vars(heroi))"
      ],
      "execution_count": null,
      "outputs": []
    },
    {
      "cell_type": "markdown",
      "metadata": {
        "id": "CX6D6leLzu7s"
      },
      "source": [
        "Setando valores para o objeto"
      ]
    },
    {
      "cell_type": "code",
      "metadata": {
        "id": "nbcmJ08gxQE0"
      },
      "source": [
        "class Pessoa():\n",
        "  def __init__(self, nome = 'Gustavo', idade = 20, peso = 1.90, altura = 2.0):\n",
        "    self.nome = nome\n",
        "    self.idade = idade\n",
        "    self.peso = peso\n",
        "    self.altura = altura\n",
        "\n",
        "  # método engordar\n",
        "  def engordar(self, peso):\n",
        "    self.peso += peso\n",
        "  # método envelhecer\n",
        "  def envelhecer(self, idade):\n",
        "    self.idade += idade\n",
        "\n",
        "pessoa = Pessoa()\n",
        "print(type(vars(pessoa)))\n",
        "print(vars(pessoa))"
      ],
      "execution_count": null,
      "outputs": []
    },
    {
      "cell_type": "markdown",
      "metadata": {
        "id": "YCkqixbb1dQG"
      },
      "source": [
        "Criando mais de 1 objeto"
      ]
    },
    {
      "cell_type": "code",
      "metadata": {
        "id": "liULz0PuzKHI"
      },
      "source": [
        "class Heroi():\n",
        "\n",
        "  def __init__(self, nome, idade, peso, altura):\n",
        "    self.nome = nome\n",
        "    self.idade = idade\n",
        "    self.peso = peso\n",
        "    self.altura = altura\n",
        "\n",
        "  # método engordar\n",
        "  def engordar(self, peso):\n",
        "    self.peso += peso\n",
        "  # método envelhecer\n",
        "  def envelhecer(self, idade):\n",
        "    self.idade += idade\n",
        "\n",
        "primeiroHeroi = Heroi('Capitão America', 30, 92, 1.90)\n",
        "segundoHeroi = Heroi('Hulk', 60, 200, 3.90)\n",
        "\n",
        "print(vars(primeiroHeroi))\n",
        "print(vars(segundoHeroi))\n",
        "\n",
        "type(primeiroHeroi)"
      ],
      "execution_count": null,
      "outputs": []
    },
    {
      "cell_type": "markdown",
      "metadata": {
        "id": "NzLmDUCbAKD5"
      },
      "source": [
        "Inicializando objeto para aplicar as condicionais"
      ]
    },
    {
      "cell_type": "code",
      "metadata": {
        "id": "5HqBQB0_8ycb"
      },
      "source": [
        "class Heroi():\n",
        "\n",
        "  def __init__(self, nome, idade, peso, altura):\n",
        "    self.nome = nome\n",
        "    self.idade = idade\n",
        "    self.peso = peso\n",
        "    self.altura = altura\n",
        "\n",
        "  # método engordar\n",
        "  def engordar(self, peso):\n",
        "    self.peso += peso\n",
        "  # método envelhecer\n",
        "  def envelhecer(self, idade):\n",
        "    self.idade += idade\n",
        "\n",
        "# __name__ == '__main__' é um protocolo de execuçao\n",
        "# utilizado para explicitar de qual arquivo extraimos o objeto\n",
        "# que será interagido\n",
        "if __name__ == '__main__':\n",
        "  heroi = Heroi('Hulk', 40, 90, 2)\n",
        "\n",
        "  while True:\n",
        "    if heroi.peso > 100:\n",
        "      print('Emagrece Hulk')\n",
        "    else:\n",
        "      print('Continue assim Hulk')\n",
        "      break"
      ],
      "execution_count": null,
      "outputs": []
    },
    {
      "cell_type": "markdown",
      "metadata": {
        "id": "QR68Ce2jEUGh"
      },
      "source": [
        "      Sem utilizar o __name__ == __main__"
      ]
    },
    {
      "cell_type": "code",
      "metadata": {
        "id": "-k1rmu9VAzFR"
      },
      "source": [
        "class Heroi():\n",
        "\n",
        "  def __init__(self, nome, idade, peso, altura):\n",
        "    self.nome = nome\n",
        "    self.idade = idade\n",
        "    self.peso = peso\n",
        "    self.altura = altura\n",
        "\n",
        "  # método engordar\n",
        "  def engordar(self, peso):\n",
        "    self.peso += peso\n",
        "  # método envelhecer\n",
        "  def envelhecer(self, idade):\n",
        "    self.idade += idade\n",
        "\n",
        "  heroi = Heroi('Hulk', 40, 200, 2)\n",
        "\n",
        "  if heroi.peso > 100:\n",
        "  print('Heroi acima do peso')"
      ],
      "execution_count": null,
      "outputs": []
    },
    {
      "cell_type": "code",
      "metadata": {
        "id": "2ErRtNV0ESSj"
      },
      "source": [
        ""
      ],
      "execution_count": null,
      "outputs": []
    }
  ]
}