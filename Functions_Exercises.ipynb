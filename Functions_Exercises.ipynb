{
  "nbformat": 4,
  "nbformat_minor": 0,
  "metadata": {
    "colab": {
      "name": "Functions_Exercises.ipynb",
      "private_outputs": true,
      "provenance": [],
      "authorship_tag": "ABX9TyPrK2jQ1wqFuEkk0Eo5+Xl7",
      "include_colab_link": true
    },
    "kernelspec": {
      "name": "python3",
      "display_name": "Python 3"
    },
    "language_info": {
      "name": "python"
    }
  },
  "cells": [
    {
      "cell_type": "markdown",
      "metadata": {
        "id": "view-in-github",
        "colab_type": "text"
      },
      "source": [
        "<a href=\"https://colab.research.google.com/github/gucervus/Blue-Edtech/blob/main/Functions_Exercises.ipynb\" target=\"_parent\"><img src=\"https://colab.research.google.com/assets/colab-badge.svg\" alt=\"Open In Colab\"/></a>"
      ]
    },
    {
      "cell_type": "markdown",
      "metadata": {
        "id": "S-igxW0_4E9h"
      },
      "source": [
        "1. Faça um programa, com uma função que necessite de três argumentos, e que forneça a soma desses três argumentos."
      ]
    },
    {
      "cell_type": "code",
      "metadata": {
        "id": "c1oNXtID1s2p"
      },
      "source": [
        "def sum(x,y,z): \n",
        "  sum = x+y+z\n",
        "  return sum \n",
        "\n",
        "sum (2,4,5)"
      ],
      "execution_count": null,
      "outputs": []
    },
    {
      "cell_type": "markdown",
      "metadata": {
        "id": "vgvmo_zE4BuU"
      },
      "source": [
        "2. Faça um programa, com uma função que necessite de um argumento. A função retorna o valor de caractere ‘P’, se seu argumento for positivo, ‘N’, se seu argumento for negativo e ‘0’ se for 0."
      ]
    },
    {
      "cell_type": "code",
      "metadata": {
        "id": "5BmvAtsc2vB_"
      },
      "source": [
        "def compare(value):\n",
        "  if (value > 0):\n",
        "    return print('P')\n",
        "  else:\n",
        "    return print('N')\n",
        "\n",
        "compare(-8)"
      ],
      "execution_count": null,
      "outputs": []
    },
    {
      "cell_type": "markdown",
      "metadata": {
        "id": "wpmXVSqf4Mkr"
      },
      "source": [
        "3.  Faça um programa com uma função chamada soma Imposto. A função possui dois parâmetros formais: taxaImposto, que é a quantia de imposto sobre vendas expressa em porcentagem e custo, que é o custo de um item antes do imposto. A função “altera” o valor de custo para incluir o imposto sobre vendas.\n"
      ]
    },
    {
      "cell_type": "code",
      "metadata": {
        "id": "FGhRBFwM3xx9"
      },
      "source": [
        "def sumTax(taxRate, previousCost): \n",
        "  costWithTax = (previousCost * (1 + taxRate))\n",
        "  return print(f'R${costWithTax:.2f}')\n",
        "\n",
        "sumTax(0.25,99)\n"
      ],
      "execution_count": null,
      "outputs": []
    },
    {
      "cell_type": "markdown",
      "metadata": {
        "id": "mUY6jvsMepHR"
      },
      "source": [
        "\n",
        "  4. Faça um programa que calcule o salário de um colaborador na empresa XYZ. O salário é pago conforme a quantidade de horas trabalhadas. Quando um funcionário trabalha mais de 40 horas ele recebe um adicional de 1.5 nas horas extras trabalhadas."
      ]
    },
    {
      "cell_type": "code",
      "metadata": {
        "id": "yIJL_slZ5_1U"
      },
      "source": [
        "def aditionalCalculator(salario_por_hora, horas_trabalhadas):\n",
        "\n",
        "  horas_extra = horas_trabalhadas - 40\n",
        "  salario = (horas_trabalhadas*salario_por_hora )+(horas_extra * salario_por_hora*1.5)\n",
        "\n",
        "  if (horas_trabalhadas > 40 ):\n",
        "    return salario\n",
        "  else:\n",
        "    salario = (horas_trabalhadas * salario_por_hora)\n",
        "    return salario \n",
        "\n",
        "salario_por_hora = float(input(\"Digite o seu salário/hora\"))\n",
        "horas_trabalhadas = float(input(\"Digite as horas trabalhadas\"))\n",
        "\n",
        "aditionalCalculator(salario_por_hora, horas_trabalhadas)"
      ],
      "execution_count": null,
      "outputs": []
    },
    {
      "cell_type": "markdown",
      "metadata": {
        "id": "xQNuwIOyeuVu"
      },
      "source": [
        "\n",
        "  5. Faça um programa que calcule através de uma função o IMC de uma pessoa que tenha 1,68 e pese 75kg.\n"
      ]
    },
    {
      "cell_type": "code",
      "metadata": {
        "id": "VeRaAYqe8eDg"
      },
      "source": [
        "def imc (peso, altura):\n",
        "  value = print(f\"seu imc é de {(peso/altura**2):.2f}\")\n",
        "  return \n",
        "\n",
        "imc(82, 1.72)"
      ],
      "execution_count": null,
      "outputs": []
    },
    {
      "cell_type": "markdown",
      "metadata": {
        "id": "A0RdYt_SeyJl"
      },
      "source": [
        "\n",
        "\n",
        "  6. Escreva uma função que, dado um número nota representando a nota de um estudante, converte o valor de nota para um conceito (A, B, C, D, E e F)."
      ]
    },
    {
      "cell_type": "code",
      "metadata": {
        "id": "8LYUBiS0_TwC"
      },
      "source": [
        "def avaliacao(nota):\n",
        "  if (nota < 0 and nota > 10):\n",
        "    print('Nota errada')\n",
        "  elif (nota <= 4):\n",
        "    print(f\"F\") \n",
        "  elif (nota <=6):\n",
        "    print(f\"D\") \n",
        "  elif (nota >= 7):\n",
        "    print(f\"C\") \n",
        "  elif (nota >= 8):\n",
        "    print(f\"B\") \n",
        "  elif (nota >=9):\n",
        "    print(f\"A\")\n",
        "\n",
        "avaliacao(5.5)"
      ],
      "execution_count": null,
      "outputs": []
    },
    {
      "cell_type": "markdown",
      "metadata": {
        "id": "z7OGYk1Ee8Xb"
      },
      "source": [
        "\n",
        "  7. Escreva uma função que recebe dois parâmetros e imprime o menor dos dois. Se eles forem iguais, imprima que eles são iguais."
      ]
    },
    {
      "cell_type": "code",
      "metadata": {
        "id": "gF7V1rLaCJqR"
      },
      "source": [
        "def comparator (a,b):\n",
        "  if (a > b):\n",
        "    print(f\"O maior número é: {a}\")\n",
        "  else:\n",
        "    print(f\"o maior número é: {b}\")\n",
        "\n",
        "comparator(10,2)"
      ],
      "execution_count": null,
      "outputs": []
    },
    {
      "cell_type": "code",
      "metadata": {
        "id": "CqAth6-Knv_M"
      },
      "source": [
        "data = input('Escreva uma data no formato (dia/mês/ano): ')\n",
        "\n",
        "if (data[1] in meses):\n",
        "  print('ok')\n",
        "\n",
        "meses = (\n",
        "      'janeiro', 'fevereiro',\n",
        "      'março','abril',\n",
        "      'maio','junho',\n",
        "      'julho','agosto',\n",
        "      'setembro', 'outubro',\n",
        "      'novembro', 'dezembro'\n",
        "      )\n",
        "unidades = (\n",
        "  'um', 'dois', \n",
        "  'três','quatro',\n",
        "  'cinco', 'seis',\n",
        "  'sete', 'oito',\n",
        "  'nove', 'dez'\n",
        "  )\n",
        "regulares = (\n",
        "    'onze', 'doze',\n",
        "    'treze', 'quatorze',\n",
        "    'quinze', 'dezesseis',\n",
        "    'dezessete', 'dezoito',\n",
        "    'dezenove'\n",
        ")\n",
        "dezenas = (\n",
        "    'dez','vinte',\n",
        "    'trinta','quarenta',\n",
        "    'cinquenta','sessenta',\n",
        "    'oitenta','noventa'\n",
        "    )"
      ],
      "execution_count": null,
      "outputs": []
    }
  ]
}