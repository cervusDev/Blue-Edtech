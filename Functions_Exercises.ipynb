{
  "nbformat": 4,
  "nbformat_minor": 0,
  "metadata": {
    "colab": {
      "name": "Functions_Exercises.ipynb",
      "private_outputs": true,
      "provenance": [],
      "authorship_tag": "ABX9TyNkBBUwJWAxGlZFm7nfvwsU",
      "include_colab_link": true
    },
    "kernelspec": {
      "name": "python3",
      "display_name": "Python 3"
    },
    "language_info": {
      "name": "python"
    }
  },
  "cells": [
    {
      "cell_type": "markdown",
      "metadata": {
        "id": "view-in-github",
        "colab_type": "text"
      },
      "source": [
        "<a href=\"https://colab.research.google.com/github/gucervus/Blue-Edtech/blob/main/Functions_Exercises.ipynb\" target=\"_parent\"><img src=\"https://colab.research.google.com/assets/colab-badge.svg\" alt=\"Open In Colab\"/></a>"
      ]
    },
    {
      "cell_type": "markdown",
      "metadata": {
        "id": "S-igxW0_4E9h"
      },
      "source": [
        "1. Faça um programa, com uma função que necessite de três argumentos, e que forneça a soma desses três argumentos."
      ]
    },
    {
      "cell_type": "code",
      "metadata": {
        "id": "c1oNXtID1s2p"
      },
      "source": [
        "def sum(x,y,z): \n",
        "  sum = x+y+z\n",
        "  return sum \n",
        "\n",
        "sum (2,4,5)"
      ],
      "execution_count": null,
      "outputs": []
    },
    {
      "cell_type": "markdown",
      "metadata": {
        "id": "vgvmo_zE4BuU"
      },
      "source": [
        "2. Faça um programa, com uma função que necessite de um argumento. A função retorna o valor de caractere ‘P’, se seu argumento for positivo, ‘N’, se seu argumento for negativo e ‘0’ se for 0."
      ]
    },
    {
      "cell_type": "code",
      "metadata": {
        "id": "5BmvAtsc2vB_"
      },
      "source": [
        "def compare(value):\n",
        "  if (value > 0):\n",
        "    return print('P')\n",
        "  else:\n",
        "    return print('N')\n",
        "\n",
        "compare(-8)"
      ],
      "execution_count": null,
      "outputs": []
    },
    {
      "cell_type": "markdown",
      "metadata": {
        "id": "wpmXVSqf4Mkr"
      },
      "source": [
        "3.  Faça um programa com uma função chamada soma Imposto. A função possui dois parâmetros formais: taxaImposto, que é a quantia de imposto sobre vendas expressa em porcentagem e custo, que é o custo de um item antes do imposto. A função “altera” o valor de custo para incluir o imposto sobre vendas.\n"
      ]
    },
    {
      "cell_type": "code",
      "metadata": {
        "id": "FGhRBFwM3xx9"
      },
      "source": [
        "def sumTax(taxRate, previousCost): \n",
        "  costWithTax = (previousCost * (1 + taxRate))\n",
        "  return print(f'R${costWithTax:.2f}')\n",
        "\n",
        "sumTax(0.25,99)\n"
      ],
      "execution_count": null,
      "outputs": []
    },
    {
      "cell_type": "code",
      "metadata": {
        "id": "yIJL_slZ5_1U"
      },
      "source": [
        "def aditionalCalculator(salario_por_hora, horas_trabalhadas):\n",
        "\n",
        "  horas_extra = horas_trabalhadas - 40\n",
        "  salario = (horas_trabalhadas*salario_por_hora )+(horas_extras * salario_por_hora*1.5)\n",
        "\n",
        "  if (horas_trabalhadas > 40 ):\n",
        "    return salario\n",
        "  else:\n",
        "    salario = (horas_trabalhadas * salario_por_hora)\n",
        "    return salario \n",
        "\n",
        "salario_por_hora = float(input(\"Digite o seu salário/hora\"))\n",
        "horas_trabalhadas = float(input(\"Digite as horas trabalhadas\"))\n",
        "\n",
        "aditionalCalculator(salario_por_hora, horas_trabalhadas)"
      ],
      "execution_count": null,
      "outputs": []
    },
    {
      "cell_type": "code",
      "metadata": {
        "id": "VeRaAYqe8eDg"
      },
      "source": [
        "def imc (peso, altura):\n",
        "  value = print(f\"seu imc é de {(peso/altura**2):.2f}\")\n",
        "  return \n",
        "\n",
        "imc(82, 1.72)"
      ],
      "execution_count": null,
      "outputs": []
    },
    {
      "cell_type": "code",
      "metadata": {
        "id": "8LYUBiS0_TwC"
      },
      "source": [
        "def avaliacao(nota):\n",
        "  if (nota < 0 and nota > 10):\n",
        "    print('Nota errada')\n",
        "  elif (nota <= 4):\n",
        "    print(f\"F\") \n",
        "  elif (nota <=6):\n",
        "    print(f\"D\") \n",
        "  elif (nota >= 7):\n",
        "    print(f\"C\") \n",
        "  elif (nota >= 8):\n",
        "    print(f\"B\") \n",
        "  elif (nota >=9):\n",
        "    print(f\"A\")\n",
        "\n",
        "avaliacao(5.5)"
      ],
      "execution_count": null,
      "outputs": []
    },
    {
      "cell_type": "code",
      "metadata": {
        "id": "gF7V1rLaCJqR"
      },
      "source": [
        "def comparator (a,b):\n",
        "  if (a > b):\n",
        "    print(f\"O maior número é: {a}\")\n",
        "  else:\n",
        "    print(f\"o maior número é: {b}\")\n",
        "\n",
        "comparator(10,2)"
      ],
      "execution_count": null,
      "outputs": []
    },
    {
      "cell_type": "code",
      "metadata": {
        "id": "wc6YPXCpDl7k"
      },
      "source": [
        ""
      ],
      "execution_count": null,
      "outputs": []
    }
  ]
}