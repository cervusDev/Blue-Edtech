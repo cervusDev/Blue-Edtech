{
  "nbformat": 4,
  "nbformat_minor": 0,
  "metadata": {
    "colab": {
      "name": "Gustavo Henrique Verificação de Aprendizagem.jpynb",
      "private_outputs": true,
      "provenance": [],
      "authorship_tag": "ABX9TyOdj9GHdVTtsv2klxcY0EA9",
      "include_colab_link": true
    },
    "kernelspec": {
      "name": "python3",
      "display_name": "Python 3"
    },
    "language_info": {
      "name": "python"
    }
  },
  "cells": [
    {
      "cell_type": "markdown",
      "metadata": {
        "id": "view-in-github",
        "colab_type": "text"
      },
      "source": [
        "<a href=\"https://colab.research.google.com/github/gucervus/Blue-Edtech/blob/main/Gustavo_Henrique_Verifica%C3%A7%C3%A3o_de_Aprendizagem_jpynb.ipynb\" target=\"_parent\"><img src=\"https://colab.research.google.com/assets/colab-badge.svg\" alt=\"Open In Colab\"/></a>"
      ]
    },
    {
      "cell_type": "markdown",
      "metadata": {
        "id": "OSPcr0UWwyEG"
      },
      "source": [
        "01. Utilizando estruturas condicionais faça um programa que pergunte ao usuário dois números e mostre:\n",
        "\n",
        "\n",
        "    • A soma deles;\n",
        "    • A multiplicação entre eles;\n",
        "    • A divisão  inteira deles;\n",
        "    • Mostre na tela qual é o maior;\n",
        "    • Verifique se o resultado da soma é par ou ímpar e mostre na tela;\n",
        "    • Se a multiplicação entre eles for maior que 40, divida pelo resultado \n",
        "    da divisão inteira e mostre o resultado na tela. Se não, mostre que\n",
        "    a multiplicação não foi maior que 40.\n",
        "\n"
      ]
    },
    {
      "cell_type": "code",
      "metadata": {
        "id": "fPt6HkJ1CveX"
      },
      "source": [
        "#01\n",
        "primeiro = float(input('Entre com o primeiro número desejado: '))\n",
        "segundo =  float(input('Entre com o segunda número desejado: '))\n",
        "\n",
        "maior = primeiro\n",
        "sum = primeiro + segundo\n",
        "mult = primeiro * segundo\n",
        "inter = primeiro // segundo\n",
        "print()\n",
        "\n",
        "if segundo > maior:\n",
        "  maior = segundo\n",
        "  print(f'O maior é: {maior}')\n",
        "else:\n",
        "  print(f'O maior é o: {maior}')\n",
        "print()\n",
        "\n",
        "if sum % 2 == 0:\n",
        "  print(f'a soma é {sum} e o numero é par')\n",
        "else:\n",
        "  print(f'a soma é {sum} e o numero é impar')\n",
        "print()\n",
        "\n",
        "if mult > 40: \n",
        "  div = mult / inter \n",
        "  print(f'resultado da divisão: {div}')\n",
        "else:\n",
        "  print('multiplicação não foi maior que 40')\n"
      ],
      "execution_count": null,
      "outputs": []
    },
    {
      "cell_type": "markdown",
      "metadata": {
        "id": "Zq1b309fVg1a"
      },
      "source": [
        "    02. Utilizando estruturas de repetição com variável de controle, \n",
        "    faça um programa que receba uma string com uma frase informada pelo\n",
        "    usuário e conte quantas vezes aparece as vogais a,e,i,o,u e mostre na tela. \n",
        "    Depois mostre na tela essa mesma frase sem nenhuma vogal.\n"
      ]
    },
    {
      "cell_type": "code",
      "metadata": {
        "id": "7kQKCPIRTGrr"
      },
      "source": [
        "novaFrase = ''\n",
        "vogais = 'aeiou'\n",
        "totvogal = 0\n",
        "opc = 0\n",
        "\n",
        "while opc == 0: \n",
        "  frase = input('Digite uma frase: ').lower()\n",
        "\n",
        "  for letra in frase:\n",
        "    if letra in vogais:\n",
        "      totvogal+=1     \n",
        "    else:\n",
        "      novaFrase+=letra \n",
        "\n",
        "  if input('Deseja continuar?[S/N]: ') in 'n':\n",
        "    opc = 1\n",
        "  else:\n",
        "    continue\n",
        "\n",
        "print(frase)\n",
        "print(totvogal)\n",
        "print(novaFrase)"
      ],
      "execution_count": null,
      "outputs": []
    },
    {
      "cell_type": "markdown",
      "metadata": {
        "id": "uZRdrsCmxMVk"
      },
      "source": [
        "    03. Utilizando estruturas de repetição com teste lógico, faça um programa \n",
        "    que peça uma senha para iniciar seu processamento. Não deixe o usuário \n",
        "    continuar se a senha estiver incorreta, após entrar dê as boas-vindas a \n",
        "    seu usuário e apresente a ele o jogo da adivinhação, onde o computador \n",
        "    vai pensar em um número entre 0 e 10. O jogador vai tentar adivinhar \n",
        "    qual número foi escolhido até  acertar, a cada palpite do usuário  diga \n",
        "    a ele se o número escolhido pelo computador é maior ou menor ao que ele \n",
        "    palpitou. No final mostre quantos palpites foram necessários para vencer.\n"
      ]
    },
    {
      "cell_type": "code",
      "metadata": {
        "id": "kNIDb2XbV3-S"
      },
      "source": [
        "\n",
        "from random import randint\n",
        "computador = randint(1,10)\n",
        "jogador = 0\n",
        "senha = 'padrao'\n",
        "palpites = 1\n",
        "while jogador!= computador:\n",
        "  print()\n",
        "  usuario = input(\"Digite sua senha: \")  \n",
        "\n",
        "  if usuario == senha:\n",
        "    print()\n",
        "    print('Vamos começar o jogo, tente adivinhar o número que eu pensei!')\n",
        "    jogador = int(input('Tentativa: '))\n",
        "  while True:\n",
        "    if jogador > computador:\n",
        "      palpites+=1\n",
        "      print('Menor')\n",
        "      \n",
        "      jogador = int(input('Tentativa: '))\n",
        "    elif jogador < computador:\n",
        "      palpites+=1\n",
        "      print('Maior')\n",
        "      \n",
        "      jogador = int(input('Tentativa: '))\n",
        "    else:\n",
        "      break\n",
        "\n",
        "print()\n",
        "print(f'Parabéns!!!\\nForam necessários {palpites} para vencer!')"
      ],
      "execution_count": null,
      "outputs": []
    },
    {
      "cell_type": "markdown",
      "metadata": {
        "id": "URnvOMmKxXZZ"
      },
      "source": [
        "    04. Utilizando funções e listas faça um programa que receba uma data no \n",
        "    formato DD/MM/AAAA e devolva uma string no formato escrito por extenso. \n",
        "    Valide a data e retorne NULL caso a data seja inválida."
      ]
    },
    {
      "cell_type": "code",
      "metadata": {
        "id": "XgxjdroY17KK"
      },
      "source": [
        "#04\n",
        "def calendario(data):\n",
        "\n",
        "  while True:\n",
        "\n",
        "    indiceDia = int(data[:2]) - 1\n",
        "    indiceMes = int(data[3:5]) - 1\n",
        "    ano = int(data[6:10])\n",
        "    anoAtual = datetime.now().year\n",
        "\n",
        "    dia = ['um','dois','três','quatro','cinco','seis','sete','oito','nove','dez',\n",
        "          'onze','doze','treze','quatorze','quinze','dezesseis','dezessete','dezoito',\n",
        "          'dezenovo','vinte','vinte e um','vinte e dois','vinte e três','vinte e quatro',\n",
        "          'vinte e cinco','vinte e seis','vinte e sete','vinte e oito','vinte e nove',\n",
        "          'trinta', 'trinta e um']\n",
        "\n",
        "    mes = ['janeiro','fevereivo','março','abril','maio','junho','julho',\n",
        "          'agosto','setembro','outubro','novembro','dezembro']\n",
        "    \n",
        "    if len(data) < 10 or len(data) > 10:\n",
        "        print('null')\n",
        "        break\n",
        "    elif data[2] != '/' or data[5] != '/':\n",
        "      print('null')\n",
        "      break\n",
        "    else:\n",
        "      if mes[indiceMes] in mes and dia[indiceDia] in dia:\n",
        "        str(print(f'{dia[indiceDia]} de {mes[indiceMes]} de {ano}'))\n",
        "        break\n",
        "\n",
        "data = input('Digite a data no formato (dd/mm/aaaa): ')\n",
        "calendario(data)"
      ],
      "execution_count": null,
      "outputs": []
    },
    {
      "cell_type": "markdown",
      "metadata": {
        "id": "KsuZRHYUxpVH"
      },
      "source": [
        "    05. Refatore o exercício2, para que uma função receba a frase, faça todo o \n",
        "    tratamento necessário e retorne o resultado. Depois mostre na tela o \n",
        "    resultado e a quantidade de letras que foram retiradas da frase original.\n"
      ]
    },
    {
      "cell_type": "code",
      "metadata": {
        "id": "2V0jxLxliU6t"
      },
      "source": [
        "#05\n",
        "import unicodedata\n",
        "\n",
        "#Retirar acentuação da frase\n",
        "def processamento(frase):\n",
        "  processamento = unicodedata.normalize('NFD',frase)\n",
        "  processamento = processamento.encode('ascii','ignore')\n",
        "  processamento = str(processamento)\n",
        "\n",
        "  return processamento\n",
        "\n",
        "#contar as vogais da frase sem acentuação\n",
        "def vogal(processamento): \n",
        "\n",
        "  novaFrase = ''\n",
        "  totvogal = 0\n",
        "\n",
        "  for letra in processamento:\n",
        "    if letra in 'aeiou':\n",
        "      totvogal+=1     \n",
        "    else:\n",
        "      novaFrase+=letra \n",
        "\n",
        "  return novaFrase[2:], totvogal\n",
        "\n",
        "frase = input('Digite uma frase')\n",
        "vogal(processamento(frase))"
      ],
      "execution_count": null,
      "outputs": []
    },
    {
      "cell_type": "markdown",
      "metadata": {
        "id": "v76y9E7VxuUP"
      },
      "source": [
        "  06. Utilizando listas faça um programa que faça 5 perguntas para uma pessoa sobre um crime.\n",
        " As perguntas são:\n",
        "\n",
        " \n",
        "    \"Telefonou para a vítima?\"\n",
        "    \"Esteve no local do crime?\"\n",
        "    \"Mora perto da vítima?\"\n",
        "    \"Devia para a vítima?\"\n",
        "    \"Já trabalhou com a vítima?\"\n",
        " O programa deve no final emitir uma classificação sobre a participação da pessoa no crime. Se   a   pessoa   responder   positivamente   a   2   questões   ela   deve   ser   classificada   como \"Suspeita\",entre 3 e 4 como \"Cúmplice\" e 5 como \"Assassino\". Caso contrário, ele será classificado como \"Inocente\"."
      ]
    },
    {
      "cell_type": "code",
      "metadata": {
        "id": "pwclaAKe6fmX"
      },
      "source": [
        "#06\n",
        "perguntas = ['você telefonou para a vitima','esteve no local do crime',\n",
        "             'mora perto da vitima', 'devia para a vitima',\n",
        "             'já trabalhou com a vitima']\n",
        "\n",
        "countSim = 0\n",
        "countNao = 0\n",
        "resultado = ''\n",
        "\n",
        "print('responda as perguntas com [sim/nao]: ')\n",
        "for pergunta in perguntas:\n",
        "  respostaUsuario = input(f'{pergunta}?: ').lower().strip()[0]\n",
        "\n",
        "# Accaunting\n",
        "  if (respostaUsuario == 's'):\n",
        "    countSim+=1\n",
        "  elif (respostaUsuario == 'n'):\n",
        "    countNao+=1\n",
        "  else:\n",
        "    print('resposta inválida')\n",
        "  \n",
        "#evaluating suspicious\n",
        "  if (countSim == 2):\n",
        "    resultado = 'suspeito'\n",
        "  elif (countSim >= 3 and countSim <= 4):\n",
        "    resultado = 'cumplice'\n",
        "  elif (countSim == 5):\n",
        "    resultado = 'assasino'\n",
        "\n",
        "print()\n",
        "print(f'positivo: {countSim}')\n",
        "print(f'negativo: {countNao}')\n",
        "print(resultado)"
      ],
      "execution_count": null,
      "outputs": []
    },
    {
      "cell_type": "markdown",
      "metadata": {
        "id": "bFcrlRhQEG80"
      },
      "source": [
        "    07. Crie um programa onde o usuário possa digitar sete valores numéricos  e \n",
        "    cadastre-os em uma lista única que mantenha separados os valores pares e\n",
        "    ímpares. No final, mostre os valores pares e ímpares  em ordem crescente."
      ]
    },
    {
      "cell_type": "code",
      "metadata": {
        "id": "Oh2ln2sODfD4"
      },
      "source": [
        "#07\n",
        "array = list()\n",
        "y = 0\n",
        "\n",
        "for i in range(1,7+1):\n",
        "      \n",
        "  valores = int(input(f\"Digite o {i}° valor: \"))\n",
        "  \n",
        "  if valores % 2 == 0:\n",
        "    y+=1\n",
        "    array.insert(0,valores)  \n",
        "  else:\n",
        "    array.insert(len(array),valores)\n",
        "    \n",
        "ordenado = sorted(array[:y]) + sorted(array[y:])\n",
        "\n",
        "print()\n",
        "print(ordenado)"
      ],
      "execution_count": null,
      "outputs": []
    },
    {
      "cell_type": "markdown",
      "metadata": {
        "id": "wgSfg7upyAm8"
      },
      "source": [
        "    Crie um programa que leia nome, ano de nascimento e carteira de trabalho \n",
        "    e cadastre-os (com idade) em um dicionário. Se por acaso a CTPS for \n",
        "    diferente de 0, o dicionário receberá também o ano de contratação e o \n",
        "    salário. Calcule e acrescente , além da idade , com quantos anos a \n",
        "    pessoa vai se aposentar. Considere que o trabalhador deve contribuir por \n",
        "    35 anos para se aposentar.​​ "
      ]
    },
    {
      "cell_type": "code",
      "metadata": {
        "id": "wfquXPkXzbRz"
      },
      "source": [
        "#08\n",
        "from datetime import date\n",
        "\n",
        "listaPerguntas = ['Nome','Ano de nascimento', 'Carteira de trabalho']\n",
        "listaRespostas = []\n",
        "cpo = 0\n",
        "\n",
        "while cpo < len(listaPerguntas):\n",
        "  cpo+=1\n",
        "\n",
        "  if cpo == 1:\n",
        "    n = cpo - 1\n",
        "\n",
        "  resposta = input(f'{listaPerguntas[n]}: ').lower().capitalize()\n",
        "  listaRespostas.append(resposta)\n",
        "  n+=1\n",
        "\n",
        "for c in range(1):\n",
        "  if 'True' not in listaRespostas:\n",
        "    break\n",
        "  else:\n",
        "    listaPerguntas.append('Salário')\n",
        "    listaPerguntas.append('Ano de contratação')\n",
        "    dic = dict(zip(listaPerguntas, listaRespostas))\n",
        "\n",
        "    for c in range(2):\n",
        "      resposta = input(f'{listaPerguntas[c+3]}: ')\n",
        "      listaRespostas.append(resposta)\n",
        "\n",
        "    anoAtual = date.today().year\n",
        "    aposentadoria = int(listaRespostas[4]) + 35\n",
        "    tempoContribuição = aposentadoria - anoAtual\n",
        "    idade = anoAtual - int(listaRespostas[1])\n",
        "    idadeAposentadoria = idade + 35\n",
        "\n",
        "    dic = dict(zip(listaPerguntas, listaRespostas))\n",
        "\n",
        "    dic['Idade'] = f'{idade} anos'\n",
        "    dic['Aposentadoria'] = f'{idadeAposentadoria} anos'\n",
        "\n",
        "    print()\n",
        "    for key, value in dic.items():\n",
        "      print(f'{key}: {value}'"
      ],
      "execution_count": null,
      "outputs": []
    }
  ]
}