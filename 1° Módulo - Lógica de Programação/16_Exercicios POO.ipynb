{
  "nbformat": 4,
  "nbformat_minor": 0,
  "metadata": {
    "colab": {
      "name": "16.1_ Exercício (poo).ipynb",
      "private_outputs": true,
      "provenance": [],
      "authorship_tag": "ABX9TyPMQK92O8dyt2ynd5OG1jZ/",
      "include_colab_link": true
    },
    "kernelspec": {
      "name": "python3",
      "display_name": "Python 3"
    },
    "language_info": {
      "name": "python"
    }
  },
  "cells": [
    {
      "cell_type": "markdown",
      "metadata": {
        "id": "view-in-github",
        "colab_type": "text"
      },
      "source": [
        "<a href=\"https://colab.research.google.com/github/gucervus/Blue-Edtech/blob/main/16_1__Exerc%C3%ADcio_(poo).ipynb\" target=\"_parent\"><img src=\"https://colab.research.google.com/assets/colab-badge.svg\" alt=\"Open In Colab\"/></a>"
      ]
    },
    {
      "cell_type": "code",
      "metadata": {
        "id": "tAJ_DapJs3Rq"
      },
      "source": [
        "from random import getrandbits\n",
        "class Lancar():\n",
        "  def __init__(self):\n",
        "    self.moeda = bool(getrandbits(1))\n",
        "    self.dados = randint(0,6)\n",
        "  \n",
        "  def jogarMoeda(self):\n",
        "    if self.moeda == True:\n",
        "      print('Você acertou')\n",
        "    else:\n",
        "      print('Você errou')\n",
        "  \n",
        "  def jogarDados(self):\n",
        "    return self.dados\n",
        "\n",
        "objeto = Lancar()\n",
        "objeto.jogarDados()\n",
        "objeto.jogarMoeda()"
      ],
      "execution_count": null,
      "outputs": []
    },
    {
      "cell_type": "code",
      "metadata": {
        "id": "gl9vLGSVtrwf"
      },
      "source": [
        "class Pessoa():\n",
        "  def __init__(self, nome, idade, peso, altura):\n",
        "    self.nome = nome\n",
        "    self.idade = idade\n",
        "    self.peso = peso\n",
        "    self.altura = altura\n",
        "  \n",
        "  def envelhecer(self):\n",
        "    self.idade += idade\n",
        "\n",
        "  def engordar(self):\n",
        "    self.peso += peso\n",
        "\n",
        "  def emagrecer(self):\n",
        "    self.peso -= peso\n",
        "\n",
        "  def crescer(self):  \n",
        "    self.altura += 0.05\n",
        "\n",
        "idade = int(input(\"Qual sua idade: \"))\n",
        "if __name__ == '__main__':\n",
        "  pessoa = Pessoa('Gustavo', 26, 80, 1.72)\n",
        "\n",
        "if idade > 21:\n",
        "  pessoa.crescer()\n",
        "  print(pessoa.altura)\n"
      ],
      "execution_count": null,
      "outputs": []
    },
    {
      "cell_type": "code",
      "metadata": {
        "id": "0EaUMtxtzdvh"
      },
      "source": [
        ""
      ],
      "execution_count": null,
      "outputs": []
    }
  ]
}