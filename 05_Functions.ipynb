{
  "nbformat": 4,
  "nbformat_minor": 0,
  "metadata": {
    "colab": {
      "name": "05_Functions.ipynb",
      "private_outputs": true,
      "provenance": [],
      "authorship_tag": "ABX9TyN6oYi8QvgfLi7xekNjpPEL",
      "include_colab_link": true
    },
    "kernelspec": {
      "name": "python3",
      "display_name": "Python 3"
    },
    "language_info": {
      "name": "python"
    }
  },
  "cells": [
    {
      "cell_type": "markdown",
      "metadata": {
        "id": "view-in-github",
        "colab_type": "text"
      },
      "source": [
        "<a href=\"https://colab.research.google.com/github/gucervus/Blue-Edtech/blob/main/05_Functions.ipynb\" target=\"_parent\"><img src=\"https://colab.research.google.com/assets/colab-badge.svg\" alt=\"Open In Colab\"/></a>"
      ]
    },
    {
      "cell_type": "markdown",
      "metadata": {
        "id": "8hQE37QAaNBF"
      },
      "source": [
        "# Functions\n"
      ]
    },
    {
      "cell_type": "code",
      "metadata": {
        "id": "8rYKlDhOaLBz"
      },
      "source": [
        "def blue():\n",
        "  print(\"I'am a bluemer\")\n",
        "\n",
        "blue()"
      ],
      "execution_count": null,
      "outputs": []
    },
    {
      "cell_type": "markdown",
      "metadata": {
        "id": "fA5dc9OKaqPA"
      },
      "source": [
        "# Function with parameters"
      ]
    },
    {
      "cell_type": "code",
      "metadata": {
        "id": "hUHWhKToaw5b"
      },
      "source": [
        "def subtraction(a,b):\n",
        "  print(f\"the subtraction is: {a-b}\")\n",
        "\n",
        "subtraction(10,5)"
      ],
      "execution_count": null,
      "outputs": []
    },
    {
      "cell_type": "markdown",
      "metadata": {
        "id": "7lWsN-TucAIM"
      },
      "source": [
        "# Function with return"
      ]
    },
    {
      "cell_type": "code",
      "metadata": {
        "id": "Q4PllO9Da9eD"
      },
      "source": [
        "def sum(c,d):\n",
        "  return c+d\n",
        "\n",
        "sum(30,25)"
      ],
      "execution_count": null,
      "outputs": []
    },
    {
      "cell_type": "code",
      "metadata": {
        "id": "Vi-Otc3lb99d"
      },
      "source": [
        "def mult(a,b):\n",
        "  return print(f\"the multiplication is: {a*b}\")\n",
        "\n",
        "mult(-10.5,7) #type declaration is not required"
      ],
      "execution_count": null,
      "outputs": []
    },
    {
      "cell_type": "code",
      "metadata": {
        "id": "tZTdbBYAd8C2"
      },
      "source": [
        "def division(a,b):\n",
        "  print(f\"the division is: {a/b:.2f}\")\n",
        "\n",
        "division(10,45)"
      ],
      "execution_count": null,
      "outputs": []
    },
    {
      "cell_type": "markdown",
      "metadata": {
        "id": "wq59zTKogqYl"
      },
      "source": [
        "### Comparing two numbers"
      ]
    },
    {
      "cell_type": "code",
      "metadata": {
        "id": "QCcBlU4TfpDo"
      },
      "source": [
        "def comparator(a,b):\n",
        "  if (a == b):\n",
        "    print(f\"both are equal\")\n",
        "  else:\n",
        "    print(f\"are different from each other\")\n",
        "  \n",
        "n1 = int(input(\"enter a number: \"))\n",
        "n2 = int(input(\"enter another number: \"))\n",
        "\n",
        "comparator(n1,n2)"
      ],
      "execution_count": null,
      "outputs": []
    },
    {
      "cell_type": "markdown",
      "metadata": {
        "id": "ZZGuH2vMlbhO"
      },
      "source": [
        "# Variables in a function\n",
        "\n",
        "    • Global functions\n",
        "    • Local functions\n"
      ]
    },
    {
      "cell_type": "code",
      "metadata": {
        "id": "x2BYTR-shTie"
      },
      "source": [
        "def analyzerVariable(variable):\n",
        "  print(f\"the local value is : {variable}\")\n",
        "  variable = 10\n",
        "  print(f\"the new local value is: {variable}\")\n",
        "\n",
        "variable = 50\n",
        "analyzerFunction(2)\n",
        "print(f\"The outside (global) value is: {variable}\")"
      ],
      "execution_count": null,
      "outputs": []
    },
    {
      "cell_type": "code",
      "metadata": {
        "id": "ekSqPLVmmDAs"
      },
      "source": [
        "def analyzerVariable():\n",
        "  global x #call global x \n",
        "  x = 10 \n",
        "  y = x*3\n",
        "  print(f'global x exists within the valued function equal to {x}')\n",
        "  print()\n",
        "  print(f'local y exists within the valued function equal to {y}')\n",
        "\n",
        "print('program start!')\n",
        "print()\n",
        "\n",
        "x = 20\n",
        "print(f\"global x exists outside the function equal to {x}\")\n",
        "\n",
        "analyzerVariable()\n",
        "\n",
        "print(f'global x changed in function {x}')\n",
        "\n",
        "print()\n",
        "print('end of program')"
      ],
      "execution_count": null,
      "outputs": []
    }
  ]
}