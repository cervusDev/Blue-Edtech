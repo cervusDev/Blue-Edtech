{
  "nbformat": 4,
  "nbformat_minor": 0,
  "metadata": {
    "colab": {
      "name": "Blue_01.ipynb",
      "provenance": [],
      "authorship_tag": "ABX9TyO3tKeeYsKrGoNXh+4WH5nP",
      "include_colab_link": true
    },
    "kernelspec": {
      "name": "python3",
      "display_name": "Python 3"
    },
    "language_info": {
      "name": "python"
    },
    "accelerator": "GPU"
  },
  "cells": [
    {
      "cell_type": "markdown",
      "metadata": {
        "id": "view-in-github",
        "colab_type": "text"
      },
      "source": [
        "<a href=\"https://colab.research.google.com/github/gucervus/Blue-Edtech/blob/main/Blue_01.ipynb\" target=\"_parent\"><img src=\"https://colab.research.google.com/assets/colab-badge.svg\" alt=\"Open In Colab\"/></a>"
      ]
    },
    {
      "cell_type": "markdown",
      "metadata": {
        "id": "khX2ZDfjEZGu"
      },
      "source": [
        "### Função print( )"
      ]
    },
    {
      "cell_type": "code",
      "metadata": {
        "colab": {
          "base_uri": "https://localhost:8080/"
        },
        "id": "WtpEGHgzEibP",
        "outputId": "5734f718-5b66-4af8-bac8-edffad272a4e"
      },
      "source": [
        "# With string operation\n",
        "print('Palmeiras não tem mundial')"
      ],
      "execution_count": 7,
      "outputs": [
        {
          "output_type": "stream",
          "text": [
            "Palmeiras não tem mundial\n"
          ],
          "name": "stdout"
        }
      ]
    },
    {
      "cell_type": "code",
      "metadata": {
        "colab": {
          "base_uri": "https://localhost:8080/"
        },
        "id": "PLAO8TqqHAur",
        "outputId": "eeaf1a7c-e6b6-4825-ed3c-d0b5b92c0341"
      },
      "source": [
        "# With number operation\n",
        "print(8 + 29) "
      ],
      "execution_count": 10,
      "outputs": [
        {
          "output_type": "stream",
          "text": [
            "37\n"
          ],
          "name": "stdout"
        }
      ]
    },
    {
      "cell_type": "code",
      "metadata": {
        "colab": {
          "base_uri": "https://localhost:8080/"
        },
        "id": "sINZYRJRIBvF",
        "outputId": "dd89a145-b9bf-4b43-c70e-dfa83bbd516f"
      },
      "source": [
        "# Interpreting number as a string\n",
        "print(\"8\" + \"29\")"
      ],
      "execution_count": 11,
      "outputs": [
        {
          "output_type": "stream",
          "text": [
            "829\n"
          ],
          "name": "stdout"
        }
      ]
    },
    {
      "cell_type": "markdown",
      "metadata": {
        "id": "l94Y8n7tKFgC"
      },
      "source": [
        "### Operadores Aritméticos\n",
        "  (+) Soma / (**) Exponenciação\n",
        "\n",
        "*   (+) Soma\n",
        "*   (-) Subtração\n",
        "*   (/) Divisão\n",
        "*   (*) Multiplicação\n",
        "*   (%) Módulo\n",
        "*   (//) Parte inteira da divisão\n",
        "*   (**) Exponênciação\n",
        "\n",
        "\n",
        "\n"
      ]
    },
    {
      "cell_type": "code",
      "metadata": {
        "colab": {
          "base_uri": "https://localhost:8080/"
        },
        "id": "-v0ohufPKM5p",
        "outputId": "e373fc59-1222-4be6-e227-b1b27d46a91a"
      },
      "source": [
        "# Sum \n",
        "5 + 3"
      ],
      "execution_count": 20,
      "outputs": [
        {
          "output_type": "execute_result",
          "data": {
            "text/plain": [
              "5"
            ]
          },
          "metadata": {
            "tags": []
          },
          "execution_count": 20
        }
      ]
    },
    {
      "cell_type": "code",
      "metadata": {
        "colab": {
          "base_uri": "https://localhost:8080/"
        },
        "id": "_1Yjg8GoK6YD",
        "outputId": "593aa773-12be-4f22-a558-243cbdb3fcb9"
      },
      "source": [
        "# Subtraction\n",
        "20 - 100"
      ],
      "execution_count": 21,
      "outputs": [
        {
          "output_type": "execute_result",
          "data": {
            "text/plain": [
              "-80"
            ]
          },
          "metadata": {
            "tags": []
          },
          "execution_count": 21
        }
      ]
    },
    {
      "cell_type": "code",
      "metadata": {
        "colab": {
          "base_uri": "https://localhost:8080/"
        },
        "id": "-E3Rj62CM-1L",
        "outputId": "1393741e-96d3-4f14-a9a8-3471f600758d"
      },
      "source": [
        "# Division\n",
        "  # The division will always return a floating number\n",
        "\n",
        "print(type(10/2)) #return class float\n",
        "\n",
        "#Note that 5 is an int number\n",
        "print(10/2) "
      ],
      "execution_count": 28,
      "outputs": [
        {
          "output_type": "stream",
          "text": [
            "<class 'float'>\n",
            "5.0\n"
          ],
          "name": "stdout"
        }
      ]
    },
    {
      "cell_type": "code",
      "metadata": {
        "colab": {
          "base_uri": "https://localhost:8080/"
        },
        "id": "PTwnTSUANB4G",
        "outputId": "98e02cff-c35a-4fa9-ed26-1ba7adb8cf06"
      },
      "source": [
        "# entire part of the division\n",
        "\n",
        "print(type(10//2)) # return class int\n",
        "\n",
        "print(10//2) "
      ],
      "execution_count": 31,
      "outputs": [
        {
          "output_type": "stream",
          "text": [
            "<class 'int'>\n",
            "5\n"
          ],
          "name": "stdout"
        }
      ]
    },
    {
      "cell_type": "code",
      "metadata": {
        "id": "RaGVPKPSOamo"
      },
      "source": [
        "# Multiplication"
      ],
      "execution_count": 32,
      "outputs": []
    },
    {
      "cell_type": "code",
      "metadata": {
        "id": "8fAY-8ZcO3CE"
      },
      "source": [
        "# Module"
      ],
      "execution_count": 33,
      "outputs": []
    },
    {
      "cell_type": "code",
      "metadata": {
        "id": "vlC4AVlxO74y"
      },
      "source": [
        "# Exponentiation"
      ],
      "execution_count": null,
      "outputs": []
    },
    {
      "cell_type": "markdown",
      "metadata": {
        "id": "LOgSKs4rPLJJ"
      },
      "source": [
        "### Relational operator\n",
        "\n",
        "*   bigger then (>)\n",
        "*   less than (<)\n",
        "*   equal to (==)\n",
        "*   Greater than or equal to (>=)\n",
        "*   Less than or equal to (<=)\n",
        "*   Different (!=)"
      ]
    },
    {
      "cell_type": "code",
      "metadata": {
        "colab": {
          "base_uri": "https://localhost:8080/"
        },
        "id": "9A1s_e3PPQz1",
        "outputId": "e9ea1bb8-b562-4f9e-fe97-f14f50b56be7"
      },
      "source": [
        "# Bigger then\n",
        "print(5 > 3)\n",
        "print(3 > 5)"
      ],
      "execution_count": 47,
      "outputs": [
        {
          "output_type": "stream",
          "text": [
            "True\n",
            "False\n"
          ],
          "name": "stdout"
        }
      ]
    },
    {
      "cell_type": "code",
      "metadata": {
        "id": "uBbFz_METeos"
      },
      "source": [
        "# less than"
      ],
      "execution_count": null,
      "outputs": []
    },
    {
      "cell_type": "code",
      "metadata": {
        "id": "RJc8dvKTTecE"
      },
      "source": [
        "# equal to"
      ],
      "execution_count": 43,
      "outputs": []
    },
    {
      "cell_type": "code",
      "metadata": {
        "id": "GU0fstEnTjJ2"
      },
      "source": [
        "# Greater than or equal to"
      ],
      "execution_count": null,
      "outputs": []
    },
    {
      "cell_type": "code",
      "metadata": {
        "id": "_M9trPlsTmG_"
      },
      "source": [
        "# Less than or equal to"
      ],
      "execution_count": null,
      "outputs": []
    },
    {
      "cell_type": "code",
      "metadata": {
        "id": "ps4uysuxTqiw"
      },
      "source": [
        "# Different"
      ],
      "execution_count": null,
      "outputs": []
    },
    {
      "cell_type": "markdown",
      "metadata": {
        "id": "QsdmV6loQ_60"
      },
      "source": [
        ""
      ]
    },
    {
      "cell_type": "markdown",
      "metadata": {
        "id": "ipNZzwc-TGvv"
      },
      "source": [
        "### Logical operators\n",
        "\n",
        "* and\n",
        "* or \n",
        "* not"
      ]
    },
    {
      "cell_type": "code",
      "metadata": {
        "id": "QlBzuJBrURUX"
      },
      "source": [
        "# and "
      ],
      "execution_count": null,
      "outputs": []
    },
    {
      "cell_type": "code",
      "metadata": {
        "id": "0LmZoZokUTFh"
      },
      "source": [
        "# or"
      ],
      "execution_count": 44,
      "outputs": []
    },
    {
      "cell_type": "code",
      "metadata": {
        "id": "L10j1R0zUUNc"
      },
      "source": [
        "# not"
      ],
      "execution_count": 45,
      "outputs": []
    }
  ]
}