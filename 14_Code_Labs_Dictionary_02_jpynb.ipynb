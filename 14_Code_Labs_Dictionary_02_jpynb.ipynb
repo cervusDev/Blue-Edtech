{
  "nbformat": 4,
  "nbformat_minor": 0,
  "metadata": {
    "colab": {
      "name": "14_Code Labs_Dictionary 02.jpynb",
      "private_outputs": true,
      "provenance": [],
      "collapsed_sections": [],
      "authorship_tag": "ABX9TyO9QeDrER+N9r9chedai3zD",
      "include_colab_link": true
    },
    "kernelspec": {
      "name": "python3",
      "display_name": "Python 3"
    },
    "language_info": {
      "name": "python"
    }
  },
  "cells": [
    {
      "cell_type": "markdown",
      "metadata": {
        "id": "view-in-github",
        "colab_type": "text"
      },
      "source": [
        "<a href=\"https://colab.research.google.com/github/gucervus/Blue-Edtech/blob/main/14_Code_Labs_Dictionary_02_jpynb.ipynb\" target=\"_parent\"><img src=\"https://colab.research.google.com/assets/colab-badge.svg\" alt=\"Open In Colab\"/></a>"
      ]
    },
    {
      "cell_type": "markdown",
      "metadata": {
        "id": "y2768TOJG_Cn"
      },
      "source": [
        "Crie um programa, utilizando dicionário, que simule a baixa de estoque das vendas de um supermercado. Não esqueça de fazer as seguintes validações:\n",
        "\n",
        "\n",
        "Produto Indisponível\n",
        "Produto Inválido\n",
        "Quantidade solicitada não disponível \n",
        "O programa deverá mostrar para o cliente a quantidade de itens comprados e o total.\n"
      ]
    },
    {
      "cell_type": "code",
      "metadata": {
        "id": "ZlB1cAJpG9eN"
      },
      "source": [
        "estoque = {\n",
        "    'arroz': [2000, 0.5],\n",
        "    'feijao': [1000, 2],\n",
        "    'pao': [100, 3]\n",
        "}\n",
        "\n",
        "totalProdutos = 0\n",
        "totalValor = 0\n",
        "\n",
        "while True:\n",
        "  print()\n",
        "  produto = input('Qual o produto: ').lower()\n",
        "\n",
        "  if produto in estoque:\n",
        "    print('Em estoque')\n",
        "    qtd = int(input(\"Quantos produtos: \"))\n",
        "    print()\n",
        "    if estoque[produto][0] < qtd:\n",
        "      print('não tem')\n",
        "    else:\n",
        "      print(f'Voce comprou {qtd} unidades de {produto} = R${(estoque[produto][1] * qtd):.2f}')\n",
        "\n",
        "    estoque[produto][0]-=qtd\n",
        "    totalProdutos+=qtd\n",
        "    totalValor+= (estoque[produto][1]*qtd)\n",
        "\n",
        "  else:\n",
        "    print('Em falta')\n",
        "  \n",
        "  print()\n",
        "  \n",
        "  if input('Quer continuar comprando? [S/N]: ') in 'Nn':\n",
        "    break\n",
        "  else:\n",
        "    continue\n",
        "\n",
        "print()\n",
        "print(f'Você comprou {totalProdutos}, o valor da compra foi: R${totalValor:.2f}')"
      ],
      "execution_count": null,
      "outputs": []
    },
    {
      "cell_type": "markdown",
      "metadata": {
        "id": "qCywJgPIAD4-"
      },
      "source": [
        "Crie um programa que gerencie o aproveitamento de um jogador de futebol. O programa vai ler o nome do jogador e quantas partidas ele jogou. Depois vai ler a quantidade de gols feito em cada partida. No final tudo isso será guardado em um dicionário, incluindo o total de gols feitos durante o campeonat"
      ]
    },
    {
      "cell_type": "code",
      "metadata": {
        "id": "UAHzHaMcNONS"
      },
      "source": [
        "jogo = {}\n",
        "total = 0\n",
        "\n",
        "while True:\n",
        "  print()\n",
        "  jogador = input(\"Qual o nome do jogador: \")\n",
        "  partidas = int(input('Qual o número de partidas?: '))\n",
        "  \n",
        "  print()\n",
        "  qtdGols = [int(input(f'Quantidade de gols {c+1}° partida: ')) for c in range(partidas)]\n",
        "  jogo[jogador] = qtdGols\n",
        "  total+= sum(qtdGols)\n",
        "  \n",
        "  print()\n",
        "\n",
        "  v = 0\n",
        "  for c in range(len(qtdGols)):\n",
        "    v+=1\n",
        "    print(f'na {v}°partida o jogador {jogador} fez {qtdGols[c]} gols')\n",
        " \n",
        "  print()\n",
        "  if input('Deseja Continuar?[sim/não]: ').lower().strip()[0] in 'n':\n",
        "    break\n",
        "  else:\n",
        "    continue\n",
        "\n",
        "print()\n",
        "for key, value in jogo.items():\n",
        "  print(f'O jogador {key} fez {sum(value)} gols durante todo o campeonato')"
      ],
      "execution_count": null,
      "outputs": []
    },
    {
      "cell_type": "markdown",
      "metadata": {
        "id": "CnIB0mQ3ANVb"
      },
      "source": [
        "Uma escola te contratou para desenvolver um programa em Python para que o professor gerencie as notas de seus alunos. Seu programa deve apresentar o seguinte menu:​\n",
        "0. Sair​\n",
        "1. Exibir z aluno tem uma nota)​\n",
        "2. Inserir aluno e nota​\n",
        "3. Alterar a nota de um aluno​\n",
        "4. Consultar nota de um aluno específico ​\n",
        "5. Apagar um aluno da lista​\n",
        "6. Exibir a média da turma​\n",
        "As notas e os nomes dos alunos serão fornecidos pelo professor. Implemente a sua solução utilizando dicionário.​\n"
      ]
    },
    {
      "cell_type": "code",
      "metadata": {
        "id": "9c8fA-qAvClG"
      },
      "source": [
        "from time import sleep\n",
        "print('''\n",
        "[1] Exibir lista de alunos\n",
        "[2] Inserir aluno e nota\n",
        "[3] Alterar nota do aluno\n",
        "[4] Consultar nota do aluno\n",
        "[5] Apagar o aluno da lista\n",
        "[6] Exibir média da turma\n",
        "[0] Sair\n",
        "''')\n",
        "\n",
        "turma = {}\n",
        "\n",
        "while True:\n",
        "  print()\n",
        "  menu = input(\"Escolha uma opção: \")\n",
        "  \n",
        "  if menu in '0':\n",
        "    break\n",
        "\n",
        "  else:\n",
        "\n",
        "    if menu in '1' and len(turma) != 0:\n",
        "\n",
        "      print('Exibindo lista de alunos...')\n",
        "      print()\n",
        "\n",
        "      for key, value in turma.items():\n",
        "        sleep(1)\n",
        "        print(f'{key}: {value}')\n",
        "\n",
        "        print()\n",
        "\n",
        "    else:\n",
        "\n",
        "      print('Dicionário de alunos vazio')\n",
        "      print()\n",
        "\n",
        "    if menu in '2':\n",
        "      print()\n",
        "\n",
        "      aluno = input('Qual o nome do aluno?: ').lower().capitalize()\n",
        "      nota = float(input('Digite a nota do aluno: '))\n",
        "      turma[aluno] = nota\n",
        "\n",
        "    elif menu in '3':\n",
        "      print()\n",
        "      print('Essa é a lista de alunos...')\n",
        "\n",
        "      for key, value in turma.items():\n",
        "        print(f\"{key}: {value}\")\n",
        "          \n",
        "        print()\n",
        "\n",
        "        aluno = input('Qual o nome do aluno que deseja alterar a nota?: ').lower().capitalize()\n",
        "        nota = float(input('Digite a nota do aluno: '))\n",
        "        turma[aluno] = nota \n",
        "        print('Nota alterada com sucesso!')\n",
        "\n",
        "        print()\n",
        "\n",
        "    elif menu in '4': \n",
        "\n",
        "      aluno = input('Deseja consultar a nota de qual aluno?: ').lower().capitalize()\n",
        "      verifica = turma.get(aluno, 'O aluno não esta nessa turma')    \n",
        "      print(f'{aluno}: {verifica}')\n",
        "      \n",
        "      print()\n",
        "\n",
        "    elif menu in '5':\n",
        "\n",
        "      aluno = input('Nome do aluno que saiu da turma: ').lower().capitalize()\n",
        "      del turma[aluno]\n",
        "      print('Aluno deletado...')\n",
        "      \n",
        "      print()\n",
        "        \n",
        "    elif menu in '6':\n",
        "\n",
        "      soma = 0\n",
        "      for value in turma.values():\n",
        "        soma+=value\n",
        "\n",
        "      media = soma / len(turma)\n",
        "      print(f'Média da turma: {media}')\n",
        "\n",
        "print('Lista final de alunos...')\n",
        "for key, value in turma.items():\n",
        "  print(f'{key}: {value}')"
      ],
      "execution_count": null,
      "outputs": []
    },
    {
      "cell_type": "code",
      "metadata": {
        "id": "nIVoWANKAhx5"
      },
      "source": [
        "o4\n"
      ],
      "execution_count": null,
      "outputs": []
    }
  ]
}