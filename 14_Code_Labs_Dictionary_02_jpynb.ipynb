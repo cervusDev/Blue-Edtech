{
  "nbformat": 4,
  "nbformat_minor": 0,
  "metadata": {
    "colab": {
      "name": "14_Code Labs_Dictionary 02.jpynb",
      "private_outputs": true,
      "provenance": [],
      "collapsed_sections": [],
      "authorship_tag": "ABX9TyPcuPzHR0siFIbuhNgFLlMY",
      "include_colab_link": true
    },
    "kernelspec": {
      "name": "python3",
      "display_name": "Python 3"
    },
    "language_info": {
      "name": "python"
    }
  },
  "cells": [
    {
      "cell_type": "markdown",
      "metadata": {
        "id": "view-in-github",
        "colab_type": "text"
      },
      "source": [
        "<a href=\"https://colab.research.google.com/github/gucervus/Blue-Edtech/blob/main/14_Code_Labs_Dictionary_02_jpynb.ipynb\" target=\"_parent\"><img src=\"https://colab.research.google.com/assets/colab-badge.svg\" alt=\"Open In Colab\"/></a>"
      ]
    },
    {
      "cell_type": "markdown",
      "metadata": {
        "id": "y2768TOJG_Cn"
      },
      "source": [
        "Crie um programa, utilizando dicionário, que simule a baixa de estoque das vendas de um supermercado. Não esqueça de fazer as seguintes validações:\n",
        "\n",
        "\n",
        "Produto Indisponível\n",
        "Produto Inválido\n",
        "Quantidade solicitada não disponível \n",
        "O programa deverá mostrar para o cliente a quantidade de itens comprados e o total.\n"
      ]
    },
    {
      "cell_type": "code",
      "metadata": {
        "id": "ZlB1cAJpG9eN"
      },
      "source": [
        "estoque = {\n",
        "    'arroz': [2000, 0.5],\n",
        "    'feijao': [1000, 2],\n",
        "    'pao': [100, 3]\n",
        "}\n",
        "\n",
        "totalProdutos = 0\n",
        "totalValor = 0\n",
        "\n",
        "while True:\n",
        "  print()\n",
        "  produto = input('Qual o produto: ').lower()\n",
        "\n",
        "  if produto in estoque:\n",
        "    print('Em estoque')\n",
        "    qtd = int(input(\"Quantos produtos: \"))\n",
        "    print()\n",
        "    if estoque[produto][0] < qtd:\n",
        "      print('não tem')\n",
        "    else:\n",
        "      print(f'Voce comprou {qtd} unidades de {produto} = R${(estoque[produto][1] * qtd):.2f}')\n",
        "\n",
        "    estoque[produto][0]-=qtd\n",
        "    totalProdutos+=qtd\n",
        "    totalValor+= (estoque[produto][1]*qtd)\n",
        "\n",
        "  else:\n",
        "    print('Em falta')\n",
        "  \n",
        "  print()\n",
        "  \n",
        "  if input('[S/N]: ') in 'Nn':\n",
        "    break\n",
        "  else:\n",
        "    continue\n",
        "\n",
        "print()\n",
        "print(f'Você comprou {totalProdutos}, o valor da compra foi: R${totalValor:.2f}')"
      ],
      "execution_count": null,
      "outputs": []
    },
    {
      "cell_type": "code",
      "metadata": {
        "id": "UAHzHaMcNONS"
      },
      "source": [
        "estoque = {\n",
        "    'Arroz': [2000, 0.5],\n",
        "    'Feijao': [1000, 2],\n",
        "    'Pao': [100, 3]\n",
        "}\n",
        "estoque[1]"
      ],
      "execution_count": null,
      "outputs": []
    },
    {
      "cell_type": "code",
      "metadata": {
        "id": "AtJdo78dSE-H"
      },
      "source": [
        ""
      ],
      "execution_count": null,
      "outputs": []
    }
  ]
}