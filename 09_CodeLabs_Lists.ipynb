{
  "nbformat": 4,
  "nbformat_minor": 0,
  "metadata": {
    "colab": {
      "name": "09_CodeLabs Laços.ipynb",
      "private_outputs": true,
      "provenance": [],
      "authorship_tag": "ABX9TyNXzhBQafXnLVo/VdMlrhaB",
      "include_colab_link": true
    },
    "kernelspec": {
      "name": "python3",
      "display_name": "Python 3"
    },
    "language_info": {
      "name": "python"
    },
    "accelerator": "GPU"
  },
  "cells": [
    {
      "cell_type": "markdown",
      "metadata": {
        "id": "view-in-github",
        "colab_type": "text"
      },
      "source": [
        "<a href=\"https://colab.research.google.com/github/gucervus/Blue-Edtech/blob/main/09_CodeLabs_Lists.ipynb\" target=\"_parent\"><img src=\"https://colab.research.google.com/assets/colab-badge.svg\" alt=\"Open In Colab\"/></a>"
      ]
    },
    {
      "cell_type": "markdown",
      "metadata": {
        "id": "Nv4KGwQy8_TZ"
      },
      "source": [
        "### 1. Math multiplication table\n"
      ]
    },
    {
      "cell_type": "code",
      "metadata": {
        "id": "9PTcertb0MTj"
      },
      "source": [
        "def mathTable(number):\n",
        "  print()\n",
        "\n",
        "  for c in range(10+1):\n",
        "    print(f\"{c} x {number} = {c*number}\")\n",
        "\n",
        "number = int(input('choose a number for multiplication table: '))\n",
        "mathTable(number)"
      ],
      "execution_count": null,
      "outputs": []
    },
    {
      "cell_type": "markdown",
      "metadata": {
        "id": "Kh0ISljv9s4T"
      },
      "source": [
        "### 2. Decreasing order counter"
      ]
    },
    {
      "cell_type": "code",
      "metadata": {
        "id": "pc_GNtNe9Ycg"
      },
      "source": [
        "for c in range(10,0,-1):\n",
        "  print(c, end=' ')"
      ],
      "execution_count": null,
      "outputs": []
    },
    {
      "cell_type": "markdown",
      "metadata": {
        "id": "3DY62gzR-BRg"
      },
      "source": [
        "### 3. civil status accountant of 15 people, being them (single / married) "
      ]
    },
    {
      "cell_type": "code",
      "metadata": {
        "id": "WhAyEWk5901j"
      },
      "source": [
        "singleAccaunt = 0\n",
        "marriedAccaunt = 0\n",
        "wrongAnswer = 0\n",
        "\n",
        "for i in range(3):\n",
        "  maritalStatus = input('waths your marital status?[single/married]: ').lower()\n",
        "  if (maritalStatus == 'married'):\n",
        "    marriedAccaunt+=1\n",
        "  elif (maritalStatus == 'single'):\n",
        "    singleAccaunt+=1\n",
        "  # handling error\n",
        "  elif (maritalStatus != 'single' or maritalStatus!= 'married'):\n",
        "    print('invalid response, try again...')\n",
        "    wrongAnswer +=1\n",
        "    newAttempt = [input(f'waths your marital status? [single/married]: ') for i in range(wrongAnswer)]\n",
        "    \n",
        "    newAttemptMarried = 0\n",
        "    newAttemptSingle = 0\n",
        "\n",
        "    for c in newAttempt: \n",
        "      if ('married' in newAttempt):\n",
        "        newAttemptMarried+=1 \n",
        "      elif ('single' in newAttempt):\n",
        "        newAttemptSingle+=1\n",
        "\n",
        "    singleAccaunt += newAttemptSingle\n",
        "    marriedAccaunt += newAttemptMarried\n",
        "\n",
        "print() \n",
        "print(f'the number of singles is: {marriedAccaunt}.')\n",
        "print(f'the number of married is: {singleAccaunt}.')\n",
        "print(f'the wrong answers : {wrongAnswer}')\n",
        "\n"
      ],
      "execution_count": null,
      "outputs": []
    },
    {
      "cell_type": "code",
      "metadata": {
        "id": "px_1KQzHDMcr"
      },
      "source": [
        ""
      ],
      "execution_count": null,
      "outputs": []
    },
    {
      "cell_type": "code",
      "metadata": {
        "id": "TSLyyKBy9J89"
      },
      "source": [
        "s"
      ],
      "execution_count": null,
      "outputs": []
    },
    {
      "cell_type": "markdown",
      "metadata": {
        "id": "PoABZpvbAj_g"
      },
      "source": [
        "### 4. Print \"Go Blue\" ten times."
      ]
    },
    {
      "cell_type": "code",
      "metadata": {
        "id": "fN64HW43-RCh"
      },
      "source": [
        "for c in range(1,10+1):\n",
        "  print(f'{c}°: Go Blue')"
      ],
      "execution_count": null,
      "outputs": []
    },
    {
      "cell_type": "markdown",
      "metadata": {
        "id": "p7tmqIh9BvS3"
      },
      "source": [
        "### 5. Odd values ​​from 1 to 20"
      ]
    },
    {
      "cell_type": "code",
      "metadata": {
        "id": "pYoBvYgpBHwj"
      },
      "source": [
        "for c in range(0,20):\n",
        "  if (c % 2 == 1):\n",
        "    print(c, end=' ')"
      ],
      "execution_count": null,
      "outputs": []
    },
    {
      "cell_type": "markdown",
      "metadata": {
        "id": "Cp7PpHB-Byoh"
      },
      "source": [
        "### 6. Price list for 50 breads"
      ]
    },
    {
      "cell_type": "code",
      "metadata": {
        "id": "UYDFRlcLBTHi"
      },
      "source": [
        "def priceTable(valueBread):\n",
        "  print()\n",
        "\n",
        "  print('yesterday bakery bread - Price Table')\n",
        "\n",
        "  for c in range(1, 50+1):\n",
        "    print(f\"{c} - {c*valueBread:.2f}\")\n",
        "\n",
        "valueBread = float(input('enter the value of the bread '))\n",
        "priceTable(valueBread) "
      ],
      "execution_count": null,
      "outputs": []
    },
    {
      "cell_type": "markdown",
      "metadata": {
        "id": "kVbWfbCWLFxA"
      },
      "source": [
        "### 7. Using lists, make a program that asks a person 5 questions about a crime. The questions are:\n",
        "\n",
        "    . \"Did you call the victim?\"\n",
        "    . \"Were you at the crime scene?\"\n",
        "    . \"Do you live close to the victim?\"\n",
        "    . \"Did you owe money to the victim?\"\n",
        "    . \"Have you worked with the victim?\"\n",
        "\n",
        "### If the person responds positively to 2 questions he should be classified as \"Suspect\", between 3 and 4 as \"Accomplice\" and 5 as \"Assassin\". Otherwise, he will be classified as \"Innocent\"."
      ]
    },
    {
      "cell_type": "code",
      "metadata": {
        "id": "USmeGpCUFqny"
      },
      "source": [
        "answers = ['did you call the victim?','were you at the crime scene?',\n",
        "             'do you live close to the victim', 'did you owe money to the victim',\n",
        "             'have you wordked with the victim']\n",
        "\n",
        "yesAccaunt = 0\n",
        "noAccaunt = 0\n",
        "result = ''\n",
        "\n",
        "print('answer the questions whith [yes/no]: ')\n",
        "for answer in answers:\n",
        "  userAnswers = input(f'{answer}: ').lower()\n",
        "\n",
        "# Accaunting\n",
        "  if (userAnswers == 'yes'):\n",
        "    yesAccaunt+=1\n",
        "  elif (userAnswers == 'no'):\n",
        "    noAccaunt+=1\n",
        "  else:\n",
        "    print('invalid response')\n",
        "  \n",
        "#evaluating suspicious\n",
        "  if (yesAccaunt == 2):\n",
        "    result = 'suspect'\n",
        "  elif (yesAccaunt >= 3 and yesAccaunt <= 4):\n",
        "    result = 'accomplice'\n",
        "  elif (yesAccaunt == 5):\n",
        "    result = 'assassin'\n",
        "\n",
        "print()\n",
        "print(f'positive: {yesAccaunt}')\n",
        "print(f'negative: {noAccaunt}')\n",
        "print(result)"
      ],
      "execution_count": null,
      "outputs": []
    },
    {
      "cell_type": "markdown",
      "metadata": {
        "id": "5L3CxkAiRJr-"
      },
      "source": [
        "# 8. Display all possible guesses from the mega seine\n",
        "    • Data:\n",
        "       • Each guess has 6 dozen\n",
        "       • Tens range from 1 to 60\n",
        "       • Cannot repeat ten"
      ]
    },
    {
      "cell_type": "code",
      "metadata": {
        "id": "H0DYnz8RYuxq"
      },
      "source": [
        "total = 0\n",
        "\n",
        "for firstTen in range(1,61):\n",
        "  for secondTen in range(firstTen+1,61): \n",
        "    for thirdTen in range(secondTen+1,61):\n",
        "      for fourthTen in range(thirdTen+1,61):\n",
        "        for fifithTen in range(fourthTen+1,61):\n",
        "          for sixthTen in range(fifithTen+1,61):\n",
        "\n",
        "            #this command performs all possibilities\n",
        "            # print(f'{firstTen} {secondTen} {thirdTen} {fourthTen} {fifithTen} {sixthTen}') \n",
        "            \n",
        "            total+=1\n",
        "\n",
        "print(total)"
      ],
      "execution_count": null,
      "outputs": []
    },
    {
      "cell_type": "markdown",
      "metadata": {
        "id": "o1VChIGDwWYI"
      },
      "source": [
        "\n",
        "### Challenge 01"
      ]
    },
    {
      "cell_type": "code",
      "metadata": {
        "id": "l30qLiM9wrHx"
      },
      "source": [
        "# First form\n",
        "for i in range(1000,10000):\n",
        "\n",
        "  firstPart = i // 100\n",
        "  secondPart = i % 100\n",
        "\n",
        "  if (firstPart + secondPart)**2 == i:\n",
        "    print(i)"
      ],
      "execution_count": null,
      "outputs": []
    },
    {
      "cell_type": "code",
      "metadata": {
        "id": "KNLZLkTN76nx"
      },
      "source": [
        "# Second form\n",
        "for i in range(32, 100): \n",
        "  \n",
        "  dezena2 = (i*i)%100 \n",
        "  dezena1 = int(i*i/100)\n",
        "\n",
        "  if dezena1+dezena2 == i:\n",
        "     print(f'{i}^2: {i*i}') "
      ],
      "execution_count": null,
      "outputs": []
    },
    {
      "cell_type": "markdown",
      "metadata": {
        "id": "ftMQCV0f4Bu9"
      },
      "source": [
        "### Challenge 02\n"
      ]
    },
    {
      "cell_type": "code",
      "metadata": {
        "id": "KvKBvqBf4RF2"
      },
      "source": [
        "subjectNumber = int(input('whats the subject numbers?: '))\n",
        "print()\n",
        "\n",
        "grades = [float(input(f'{i}° subject: grade = ')) for i in range(1,subjectNumber+1)]\n",
        "\n",
        "sum = 0\n",
        "for eachGrade in grades:\n",
        "  sum += eachGrade\n",
        "  mean = sum/len(grades)\n",
        "\n",
        "print()\n",
        "print(f\"the final mean is: {mean:.2f}\")"
      ],
      "execution_count": null,
      "outputs": []
    },
    {
      "cell_type": "code",
      "metadata": {
        "id": "mJnL59Yy7vc3"
      },
      "source": [
        ""
      ],
      "execution_count": null,
      "outputs": []
    }
  ]
}