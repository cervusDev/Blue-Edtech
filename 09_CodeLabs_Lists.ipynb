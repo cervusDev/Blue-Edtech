{
  "nbformat": 4,
  "nbformat_minor": 0,
  "metadata": {
    "colab": {
      "name": "09_CodeLabs Laços.ipynb",
      "private_outputs": true,
      "provenance": [],
      "authorship_tag": "ABX9TyNxfB0+UlGOQNnAmbiXC1wZ",
      "include_colab_link": true
    },
    "kernelspec": {
      "name": "python3",
      "display_name": "Python 3"
    },
    "language_info": {
      "name": "python"
    },
    "accelerator": "GPU"
  },
  "cells": [
    {
      "cell_type": "markdown",
      "metadata": {
        "id": "view-in-github",
        "colab_type": "text"
      },
      "source": [
        "<a href=\"https://colab.research.google.com/github/gucervus/Blue-Edtech/blob/main/09_CodeLabs_Lists.ipynb\" target=\"_parent\"><img src=\"https://colab.research.google.com/assets/colab-badge.svg\" alt=\"Open In Colab\"/></a>"
      ]
    },
    {
      "cell_type": "markdown",
      "metadata": {
        "id": "Nv4KGwQy8_TZ"
      },
      "source": [
        "### 1. Crie um código em Python que pede qual tabuada o usuário quer ver, em seguida imprima essa tabuada.\n"
      ]
    },
    {
      "cell_type": "code",
      "metadata": {
        "id": "9PTcertb0MTj"
      },
      "source": [
        "number = int(input('choose a number for multiplication table: '))\n",
        "print()\n",
        "\n",
        "for c in range(10+1):\n",
        "  print(f\"{c} x {number} = {c*number}\")\n",
        "\n"
      ],
      "execution_count": null,
      "outputs": []
    },
    {
      "cell_type": "markdown",
      "metadata": {
        "id": "Kh0ISljv9s4T"
      },
      "source": [
        "### 2. Elaborar um programa para imprimir os números de 1 (inclusive) até 10 (inclusive) em ordem decrescente. "
      ]
    },
    {
      "cell_type": "code",
      "metadata": {
        "id": "pc_GNtNe9Ycg"
      },
      "source": [
        "for c in range(10,0,-1):\n",
        "  print(c, end=' ')"
      ],
      "execution_count": null,
      "outputs": []
    },
    {
      "cell_type": "markdown",
      "metadata": {
        "id": "3DY62gzR-BRg"
      },
      "source": [
        "### 3. Faça um programa que leia o estado civil de 15 pessoas (Solteiro / Casado) e mostre ao final a quantidade de pessoas de cada estado civil. "
      ]
    },
    {
      "cell_type": "code",
      "metadata": {
        "id": "WhAyEWk5901j"
      },
      "source": [
        "countCasados = 0\n",
        "countSolteiros = 0\n",
        "\n",
        "for c in range(5):\n",
        "  estadoCivil = input('Qual o seu estado civil').lower()\n",
        "  if (estadoCivil == 'solteiro: '):\n",
        "    countCasados+=1\n",
        "  elif (estadoCivil == 'casado: '):\n",
        "    countSolteiros+=1\n",
        "  else:\n",
        "    print('dados inválidos')\n",
        "\n",
        "print(f'O numero de solteiros é: {countCasados}.')\n",
        "print(f'o numero de casados é: {countSolteiros}.')"
      ],
      "execution_count": null,
      "outputs": []
    },
    {
      "cell_type": "markdown",
      "metadata": {
        "id": "PoABZpvbAj_g"
      },
      "source": [
        "### 4. Faça um algoritmo que imprima 10 vezes a frase: “Go Blue”. "
      ]
    },
    {
      "cell_type": "code",
      "metadata": {
        "id": "fN64HW43-RCh"
      },
      "source": [
        "for c in range(10):\n",
        "  print('Go Blue', end='')"
      ],
      "execution_count": null,
      "outputs": []
    },
    {
      "cell_type": "markdown",
      "metadata": {
        "id": "p7tmqIh9BvS3"
      },
      "source": [
        "### 5. Faça um programa que mostre os valores numéricos inteiros ímpares situados na faixa de 0 a 20. "
      ]
    },
    {
      "cell_type": "code",
      "metadata": {
        "id": "pYoBvYgpBHwj"
      },
      "source": [
        "for c in range(0,20):\n",
        "  if (c % 2 == 1):\n",
        "    print(c, end=' ')"
      ],
      "execution_count": null,
      "outputs": []
    },
    {
      "cell_type": "markdown",
      "metadata": {
        "id": "Cp7PpHB-Byoh"
      },
      "source": [
        "6. O Sr. Manoel Joaquim acaba de adquirir uma panificadora e pretende implantar a metodologia da tabelinha, que já é um sucesso na sua loja de 1,99. Você foi contratado para desenvolver o programa que monta a tabela de preços de pães, de 1 até 50 pães, a partir do preço do pão informado pelo usuário, conforme o exemplo abaixo: "
      ]
    },
    {
      "cell_type": "code",
      "metadata": {
        "id": "UYDFRlcLBTHi"
      },
      "source": [
        "valorPao = float(input('insira o valor: '))\n",
        "print()\n",
        "\n",
        "print('Panificadora Pão de Ontem - Tabela de preços')\n",
        "\n",
        "for c in range(1, 10):\n",
        "  print(f\"{c} - {c*valorPao:.2f}\")"
      ],
      "execution_count": null,
      "outputs": []
    },
    {
      "cell_type": "code",
      "metadata": {
        "id": "UtxtrizECttH"
      },
      "source": [
        "soma = 0\n",
        "for c in range(5):\n",
        "  valorProduto = float(input('entre com o valor do produto: '))\n",
        "  soma+=valorProduto\n",
        "  \n",
        "print()\n",
        "print(f'Valor total: R${soma:.2f}')"
      ],
      "execution_count": null,
      "outputs": []
    },
    {
      "cell_type": "markdown",
      "metadata": {
        "id": "kVbWfbCWLFxA"
      },
      "source": [
        "### 8. Utilizando listas, faça um programa que faça 5 perguntas para uma pessoa sobre um crime. As perguntas são:\n",
        "    . “Telefonou para a vítima?”\n",
        "    . “Esteve no local do crime?”\n",
        "    . “Mora perto da vítima?”\n",
        "    . “Devia para a vítima?”\n",
        "    . “Já trabalhou com a vítima?”\n",
        "### Se a pessoa responder positivamente a 2 questões ela deve ser classificada como “Suspeita”, entre 3 e 4 como “Cúmplice” e 5 como “Assassino”. Caso contrário, ele será classificado como “Inocente”."
      ]
    },
    {
      "cell_type": "code",
      "metadata": {
        "id": "USmeGpCUFqny"
      },
      "source": [
        "perguntas = ['telefonou para a vitima?', 'esteve no local do crime?',\n",
        "             'mora perto da vitima?', 'devia para a vitima',\n",
        "             'já trabalhou com a vitima']\n",
        "\n",
        "countSim = 0\n",
        "countNao = 0\n",
        "resultado = ''\n",
        "\n",
        "print('Respondas as perguntas com [sim/não]')\n",
        "for c in perguntas:\n",
        "  perguntaUsuario = input(f'{c}: ').lower()\n",
        "\n",
        "#contador\n",
        "  if (perguntaUsuario == 'sim'):\n",
        "    countSim+=1\n",
        "  elif (perguntaUsuario == 'não'):\n",
        "    countNao+=1\n",
        "  else:\n",
        "    print('resposta inválida')\n",
        "  \n",
        "#Analise de suspeito\n",
        "  if (countSim == 2):\n",
        "    resultado = 'suspeita'\n",
        "  elif (countSim >= 3 and countSim <= 4):\n",
        "    resultado = 'cumplice'\n",
        "  elif (countSim == 5):\n",
        "    resultado = 'assasino'\n",
        "\n",
        "print()\n",
        "print(f'positivo: {countSim}')\n",
        "print(f'negativo: {countNao}')\n",
        "print(resultado)"
      ],
      "execution_count": null,
      "outputs": []
    },
    {
      "cell_type": "markdown",
      "metadata": {
        "id": "5L3CxkAiRJr-"
      },
      "source": [
        "### 9. Faça um script em Python que exiba todos os possíveis palpites da Mega-Sena.\n",
        "    • #Dados:\n",
        "    • #Cada palpite possui 6 dezenas\n",
        "    • #As dezenas variam de 1 até 60\n",
        "    • #Não pode repetir dezena"
      ]
    },
    {
      "cell_type": "code",
      "metadata": {
        "id": "H0DYnz8RYuxq"
      },
      "source": [
        "total = 0\n",
        "for primeiraDez in range(1,61):\n",
        "  for segundaDez in range(primeiraDez+1,61): \n",
        "    for terceiraDez in range(segundaDez+1,61):\n",
        "      for quartaDez in range(terceiraDez+1,61):\n",
        "        for quintaDez in range(quartaDez+1,61):\n",
        "          for sextaDez in range(quintaDez+1,61):\n",
        "            total+=1\n",
        "print(total)"
      ],
      "execution_count": null,
      "outputs": []
    },
    {
      "cell_type": "markdown",
      "metadata": {
        "id": "o1VChIGDwWYI"
      },
      "source": [
        "### Desafio 01"
      ]
    },
    {
      "cell_type": "code",
      "metadata": {
        "id": "l30qLiM9wrHx"
      },
      "source": [
        "for i in range(1000,10000):\n",
        "  parte1 = i // 100\n",
        "  parte2 = i % 100\n",
        "  if (parte1+parte2)**2 == i:\n",
        "    print(i)"
      ],
      "execution_count": null,
      "outputs": []
    },
    {
      "cell_type": "markdown",
      "metadata": {
        "id": "ftMQCV0f4Bu9"
      },
      "source": [
        "### Desafio 02\n"
      ]
    },
    {
      "cell_type": "code",
      "metadata": {
        "id": "KvKBvqBf4RF2"
      },
      "source": [
        "numeroMaterias = int(input('Qual o numero de matérias?: '))\n",
        "print()\n",
        "\n",
        "notas = [float(input(f'{i}° Materia: Nota = ')) for i in range(1,numeroMaterias+1)]\n",
        "\n",
        "soma = 0\n",
        "for nota in notas:\n",
        "  soma+=nota\n",
        "  media = soma/len(notas)\n",
        "\n",
        "print()\n",
        "print(f\"sua média final é: {media:.2f}\")"
      ],
      "execution_count": null,
      "outputs": []
    },
    {
      "cell_type": "code",
      "metadata": {
        "id": "AhENxf7y5uAO"
      },
      "source": [
        "1"
      ],
      "execution_count": null,
      "outputs": []
    }
  ]
}