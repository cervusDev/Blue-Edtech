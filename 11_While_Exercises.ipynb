{
  "nbformat": 4,
  "nbformat_minor": 0,
  "metadata": {
    "colab": {
      "name": "11_While Exercises.ipynb",
      "private_outputs": true,
      "provenance": [],
      "authorship_tag": "ABX9TyOSJXp9XFJdyRfdXZR7eY9G",
      "include_colab_link": true
    },
    "kernelspec": {
      "name": "python3",
      "display_name": "Python 3"
    },
    "language_info": {
      "name": "python"
    }
  },
  "cells": [
    {
      "cell_type": "markdown",
      "metadata": {
        "id": "view-in-github",
        "colab_type": "text"
      },
      "source": [
        "<a href=\"https://colab.research.google.com/github/gucervus/Blue-Edtech/blob/main/11_While_Exercises.ipynb\" target=\"_parent\"><img src=\"https://colab.research.google.com/assets/colab-badge.svg\" alt=\"Open In Colab\"/></a>"
      ]
    },
    {
      "cell_type": "markdown",
      "metadata": {
        "id": "N7HY4SJw3RHr"
      },
      "source": [
        "### Chalange 01"
      ]
    },
    {
      "cell_type": "code",
      "metadata": {
        "id": "o-7W-9efp_Ob"
      },
      "source": [
        "controlVariable = 0\n",
        "bigger = less = 0 \n",
        "studentsArray = []\n",
        "heightArray = []\n",
        "\n",
        "while controlVariable < 3:\n",
        "  controlVariable+=1\n",
        "\n",
        "  studentsNames = input('whats is the students name?: ').lower().capitalize()\n",
        "  studentsHeight = float(input('how tall is the student in meters: '))\n",
        "  print()\n",
        "\n",
        "  if controlVariable == 1:\n",
        "    bigger = less =  studentsHeight\n",
        "  else:\n",
        "    if studentsHeight > bigger:\n",
        "      bigger = studentsHeight\n",
        "    elif studentsHeight < less:\n",
        "      less = studentsHeight\n",
        "\n",
        "\n",
        "  studentsArray.append(studentsNames)\n",
        "  heightArray.append(studentsHeight)\n",
        "\n",
        "  studentIndexBigger = heightArray.index(bigger)\n",
        "  studentIndexLess = heightArray.index(less)\n",
        "\n",
        "  biggerStudent = studentsArray[studentIndexBigger]\n",
        "  lessStudent = studentsArray[studentIndexLess]\n",
        "\n",
        "print(f'the biggest student is {studentIndexBigger}:{biggerStudent} with {max(heightArray)} meters high')\n",
        "print(f'the smallest student is {studentIndexLess+1}:{lessStudent} with {min(heightArray)} meters high')"
      ],
      "execution_count": null,
      "outputs": []
    },
    {
      "cell_type": "markdown",
      "metadata": {
        "id": "8Cv4a6YY3VaX"
      },
      "source": [
        "### Chalange 02"
      ]
    },
    {
      "cell_type": "code",
      "metadata": {
        "id": "JXya-mD5yb9H"
      },
      "source": [
        "controlVariable = 2707\n",
        "password = 0\n",
        "\n",
        "while password != controlVariable:\n",
        "  password = int(input('what is your password?: '))\n",
        "  print()\n",
        "\n",
        "  if password != controlVariable:\n",
        "    print('incorrect password...')\n",
        "\n",
        "print('End program!')"
      ],
      "execution_count": null,
      "outputs": []
    },
    {
      "cell_type": "markdown",
      "metadata": {
        "id": "WW7tPQJ33YgM"
      },
      "source": [
        "### Chalange 03"
      ]
    },
    {
      "cell_type": "code",
      "metadata": {
        "id": "qXebh3NBzklp"
      },
      "source": [
        "controlVariable = 0\n",
        "\n",
        "candidatoA = 0\n",
        "candidatoB = 0\n",
        "candidatoC = 0\n",
        "votoNulo = 0\n",
        "votoBranco = 0\n",
        "\n",
        "print('Urna de votos')\n",
        "print('''\n",
        "[1]: Candidato A\n",
        "[2]: Candidato B\n",
        "[3]: Candidato C\n",
        "[5]: Voto nulo\n",
        "[6]: Voto em branco''')\n",
        "print()\n",
        "\n",
        "while controlVariable == 0:\n",
        "  voto = int(input('Qual o seu candidato?: '))\n",
        "  print()\n",
        "\n",
        "  if voto == 0:\n",
        "    controlVariable = 1\n",
        "  elif voto == 1:\n",
        "    candidatoA+=1\n",
        "  elif voto == 2:\n",
        "    candidatoB+=1\n",
        "  elif voto == 3:\n",
        "    candidatoC+=1\n",
        "  elif voto == 5:\n",
        "    votoNulo+=1\n",
        "  elif voto == 6:\n",
        "    votoBranco+=1\n",
        "\n",
        "total = candidatoA + candidatoB + candidatoC + votoNulo + votoBranco\n",
        "percentNulos = (votoNulo / total)*100\n",
        "percentBranco = (votoBranco / total)*100\n",
        "\n",
        "print('Os votos foram contabilizados')\n",
        "print(f\"O total de votos do candidatoA: {candidatoA}\")\n",
        "print(f'O total de votos do canditoB: {candidatoB}')\n",
        "print(f'O total de votos do candidatoC: {candidatoC}')\n",
        "print(f'O total de votos nulos: {votoNulo}')\n",
        "print(f'O total de votos brancos: {votoBranco}')\n",
        "print(f'O percentual de votos nulos: {percentNulos:.2f}%')\n",
        "print(f'O percentual de votos brancos: {percentBranco:.2f}%')"
      ],
      "execution_count": null,
      "outputs": []
    },
    {
      "cell_type": "code",
      "metadata": {
        "id": "Yrz7ymKh39oF"
      },
      "source": [
        ""
      ],
      "execution_count": null,
      "outputs": []
    }
  ]
}