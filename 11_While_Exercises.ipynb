{
  "nbformat": 4,
  "nbformat_minor": 0,
  "metadata": {
    "colab": {
      "name": "11_While Exercises.ipynb",
      "private_outputs": true,
      "provenance": [],
      "authorship_tag": "ABX9TyPjk1UEA8g8TZ7U+9WN9gO7",
      "include_colab_link": true
    },
    "kernelspec": {
      "name": "python3",
      "display_name": "Python 3"
    },
    "language_info": {
      "name": "python"
    },
    "accelerator": "GPU"
  },
  "cells": [
    {
      "cell_type": "markdown",
      "metadata": {
        "id": "view-in-github",
        "colab_type": "text"
      },
      "source": [
        "<a href=\"https://colab.research.google.com/github/gucervus/Blue-Edtech/blob/main/11_While_Exercises.ipynb\" target=\"_parent\"><img src=\"https://colab.research.google.com/assets/colab-badge.svg\" alt=\"Open In Colab\"/></a>"
      ]
    },
    {
      "cell_type": "markdown",
      "metadata": {
        "id": "N7HY4SJw3RHr"
      },
      "source": [
        "### Chalange 01"
      ]
    },
    {
      "cell_type": "code",
      "metadata": {
        "id": "o-7W-9efp_Ob"
      },
      "source": [
        "controlVariable = 0\n",
        "bigger = less = 0 \n",
        "studentsArray = []\n",
        "heightArray = []\n",
        "\n",
        "while controlVariable < 3:\n",
        "  controlVariable+=1\n",
        "\n",
        "  studentsNames = input('whats is the students name?: ').lower().capitalize()\n",
        "  studentsHeight = float(input('how tall is the student in meters: '))\n",
        "  print()\n",
        "\n",
        "  if controlVariable == 1:\n",
        "    bigger = less =  studentsHeight\n",
        "  else:\n",
        "    if studentsHeight > bigger:\n",
        "      bigger = studentsHeight\n",
        "    elif studentsHeight < less:\n",
        "      less = studentsHeight\n",
        "\n",
        "\n",
        "  studentsArray.append(studentsNames)\n",
        "  heightArray.append(studentsHeight)\n",
        "\n",
        "  studentIndexBigger = heightArray.index(bigger)\n",
        "  studentIndexLess = heightArray.index(less)\n",
        "\n",
        "  biggerStudent = studentsArray[studentIndexBigger]\n",
        "  lessStudent = studentsArray[studentIndexLess]\n",
        "\n",
        "print(f'the biggest student is {studentIndexBigger}:{biggerStudent} with {max(heightArray)} meters high')\n",
        "print(f'the smallest student is {studentIndexLess+1}:{lessStudent} with {min(heightArray)} meters high')"
      ],
      "execution_count": null,
      "outputs": []
    },
    {
      "cell_type": "markdown",
      "metadata": {
        "id": "8Cv4a6YY3VaX"
      },
      "source": [
        "### Chalange 02"
      ]
    },
    {
      "cell_type": "code",
      "metadata": {
        "id": "JXya-mD5yb9H"
      },
      "source": [
        "controlVariable = 2707\n",
        "password = 0\n",
        "\n",
        "while password != controlVariable:\n",
        "  password = int(input('what is your password?: '))\n",
        "  print()\n",
        "\n",
        "  if password != controlVariable:\n",
        "    print('incorrect password...')\n",
        "\n",
        "print('End program!')"
      ],
      "execution_count": null,
      "outputs": []
    },
    {
      "cell_type": "markdown",
      "metadata": {
        "id": "WW7tPQJ33YgM"
      },
      "source": [
        "### Chalange 03"
      ]
    },
    {
      "cell_type": "code",
      "metadata": {
        "id": "qXebh3NBzklp"
      },
      "source": [
        "candidatos = ['Maria Juana', 'Maicon Kuster', 'Flow Podcast', 'Artur Petry', 'Voto Branco', 'Voto Nulo']\n",
        "contagem = [0,0,0,0,0,0,0]\n",
        "cpo = 0\n",
        "\n",
        "while cpo == 0:\n",
        "  votos = int(input('Entre com seu voto: '))\n",
        "\n",
        "  if votos != 0:\n",
        "    contagem[votos]+=1\n",
        "    print('Obrigado pelo seu voto...')\n",
        "    print()\n",
        "  else:\n",
        "    cpo = 1\n",
        "    del contagem[0]\n",
        "    print('='*30)\n",
        "  \n",
        "  totalVotos = sum(contagem)\n",
        "  percentualBranco = (contagem[4] / totalVotos)*100\n",
        "  percentualNulo = (contagem[5] / totalVotos)*100\n",
        "  indexEleito = contagem.index(max(contagem))\n",
        "  eleito = candidatos[indexEleito]\n",
        "\n",
        "print()\n",
        "for votoPorCandidato, candidato in zip(contagem, candidatos):\n",
        "  print(f'{candidato}: {votoPorCandidato} votos')\n",
        "\n",
        "print()\n",
        "print(f'{percentualBranco:.2f}% de votos brancos.\\n{percentualNulo:.2f}% de votos nulos.')\n",
        "print()\n",
        "print(f'O eleito foi o candidato: {eleito}')"
      ],
      "execution_count": null,
      "outputs": []
    },
    {
      "cell_type": "code",
      "metadata": {
        "id": "Yrz7ymKh39oF"
      },
      "source": [
        "lista = [10,20,30]\n",
        "sum(lista)"
      ],
      "execution_count": null,
      "outputs": []
    },
    {
      "cell_type": "code",
      "metadata": {
        "id": "go3vPlddpEqR"
      },
      "source": [
        ""
      ],
      "execution_count": null,
      "outputs": []
    }
  ]
}