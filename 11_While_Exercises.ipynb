{
  "nbformat": 4,
  "nbformat_minor": 0,
  "metadata": {
    "colab": {
      "name": "11_While Exercises.ipynb",
      "private_outputs": true,
      "provenance": [],
      "authorship_tag": "ABX9TyMM20qr1yZs40aCD7A2m9V6",
      "include_colab_link": true
    },
    "kernelspec": {
      "name": "python3",
      "display_name": "Python 3"
    },
    "language_info": {
      "name": "python"
    }
  },
  "cells": [
    {
      "cell_type": "markdown",
      "metadata": {
        "id": "view-in-github",
        "colab_type": "text"
      },
      "source": [
        "<a href=\"https://colab.research.google.com/github/gucervus/Blue-Edtech/blob/main/11_While_Exercises.ipynb\" target=\"_parent\"><img src=\"https://colab.research.google.com/assets/colab-badge.svg\" alt=\"Open In Colab\"/></a>"
      ]
    },
    {
      "cell_type": "code",
      "metadata": {
        "id": "o-7W-9efp_Ob"
      },
      "source": [
        "controlVariable = 0\n",
        "bigger = less = 0 \n",
        "studentsArray = []\n",
        "heightArray = []\n",
        "\n",
        "while controlVariable < 3:\n",
        "  controlVariable+=1\n",
        "\n",
        "  studentsNames = input('whats is the students name?: ').lower().capitalize()\n",
        "  studentsHeight = float(input('how tall is the student in meters: '))\n",
        "  print()\n",
        "\n",
        "  if controlVariable == 1:\n",
        "    bigger = less =  studentsHeight\n",
        "  else:\n",
        "    if studentsHeight > bigger:\n",
        "      bigger = studentsHeight\n",
        "    elif studentsHeight < less:\n",
        "      less = studentsHeight\n",
        "\n",
        "\n",
        "  studentsArray.append(studentsNames)\n",
        "  heightArray.append(studentsHeight)\n",
        "\n",
        "  studentIndexBigger = heightArray.index(bigger)\n",
        "  studentIndexLess = heightArray.index(less)\n",
        "\n",
        "  biggerStudent = studentsArray[studentIndexBigger]\n",
        "  lessStudent = studentsArray[studentIndexLess]\n",
        "\n",
        "print(f'the biggest student is {studentIndexBigger}:{biggerStudent} with {max(heightArray)} meters high')\n",
        "print(f'the smallest student is {studentIndexLess+1}:{lessStudent} with {min(heightArray)} meters high')"
      ],
      "execution_count": null,
      "outputs": []
    },
    {
      "cell_type": "code",
      "metadata": {
        "id": "JXya-mD5yb9H"
      },
      "source": [
        ""
      ],
      "execution_count": null,
      "outputs": []
    }
  ]
}