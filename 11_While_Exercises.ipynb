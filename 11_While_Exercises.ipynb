{
  "nbformat": 4,
  "nbformat_minor": 0,
  "metadata": {
    "colab": {
      "name": "11_While Exercises.ipynb",
      "private_outputs": true,
      "provenance": [],
      "authorship_tag": "ABX9TyPA8TbkoB5Yq451AL+6YFLb",
      "include_colab_link": true
    },
    "kernelspec": {
      "name": "python3",
      "display_name": "Python 3"
    },
    "language_info": {
      "name": "python"
    },
    "accelerator": "GPU"
  },
  "cells": [
    {
      "cell_type": "markdown",
      "metadata": {
        "id": "view-in-github",
        "colab_type": "text"
      },
      "source": [
        "<a href=\"https://colab.research.google.com/github/gucervus/Blue-Edtech/blob/main/11_While_Exercises.ipynb\" target=\"_parent\"><img src=\"https://colab.research.google.com/assets/colab-badge.svg\" alt=\"Open In Colab\"/></a>"
      ]
    },
    {
      "cell_type": "markdown",
      "metadata": {
        "id": "N7HY4SJw3RHr"
      },
      "source": [
        "### Chalange 01"
      ]
    },
    {
      "cell_type": "code",
      "metadata": {
        "id": "o-7W-9efp_Ob"
      },
      "source": [
        "controlVariable = 0\n",
        "bigger = less = 0 \n",
        "studentsArray = []\n",
        "heightArray = []\n",
        "\n",
        "while controlVariable < 3:\n",
        "  controlVariable+=1\n",
        "\n",
        "  studentsNames = input('whats is the students name?: ').lower().capitalize()\n",
        "  studentsHeight = float(input('how tall is the student in meters: '))\n",
        "  print()\n",
        "\n",
        "  if controlVariable == 1:\n",
        "    bigger = less =  studentsHeight\n",
        "  else:\n",
        "    if studentsHeight > bigger:\n",
        "      bigger = studentsHeight\n",
        "    elif studentsHeight < less:\n",
        "      less = studentsHeight\n",
        "\n",
        "\n",
        "  studentsArray.append(studentsNames)\n",
        "  heightArray.append(studentsHeight)\n",
        "\n",
        "  studentIndexBigger = heightArray.index(bigger)\n",
        "  studentIndexLess = heightArray.index(less)\n",
        "\n",
        "  biggerStudent = studentsArray[studentIndexBigger]\n",
        "  lessStudent = studentsArray[studentIndexLess]\n",
        "\n",
        "print(f'the biggest student is {studentIndexBigger}:{biggerStudent} with {max(heightArray)} meters high')\n",
        "print(f'the smallest student is {studentIndexLess+1}:{lessStudent} with {min(heightArray)} meters high')"
      ],
      "execution_count": null,
      "outputs": []
    },
    {
      "cell_type": "markdown",
      "metadata": {
        "id": "8Cv4a6YY3VaX"
      },
      "source": [
        "### Chalange 02"
      ]
    },
    {
      "cell_type": "code",
      "metadata": {
        "id": "JXya-mD5yb9H"
      },
      "source": [
        "controlVariable = 2707\n",
        "password = 0\n",
        "\n",
        "while password != controlVariable:\n",
        "  password = int(input('what is your password?: '))\n",
        "  print()\n",
        "\n",
        "  if password != controlVariable:\n",
        "    print('incorrect password...')\n",
        "\n",
        "print('End program!')"
      ],
      "execution_count": null,
      "outputs": []
    },
    {
      "cell_type": "markdown",
      "metadata": {
        "id": "WW7tPQJ33YgM"
      },
      "source": [
        "### Chalange 03"
      ]
    },
    {
      "cell_type": "code",
      "metadata": {
        "id": "qXebh3NBzklp"
      },
      "source": [
        "print('''\n",
        "Urna de votos:\n",
        "\n",
        "[1] Venus\n",
        "[2] Maincon Kuster\n",
        "[3] Flow Podcast\n",
        "[4] Artur Petry\n",
        "[5] Voto Branco\n",
        "[6] Voto Nulo\n",
        "''')\n",
        "\n",
        "candidatos = ['Venus', 'Maicon Kuster', 'Flow Podcast', 'Artur Petry', 'Voto Branco', 'Voto Nulo']\n",
        "contagem = [0,0,0,0,0,0,0]\n",
        "cpo = 0\n",
        "\n",
        "while cpo == 0:\n",
        "  votos = int(input('Entre com seu voto: '))\n",
        "\n",
        "  if votos != 0:\n",
        "    contagem[votos]+=1\n",
        "    print('Obrigado pelo seu voto...')\n",
        "    print()\n",
        "  else:\n",
        "    cpo = 1\n",
        "    del contagem[0]\n",
        "    print('='*30)\n",
        "  \n",
        "  totalVotos = sum(contagem)\n",
        "  percentualBranco = (contagem[4] / totalVotos)*100\n",
        "  percentualNulo = (contagem[5] / totalVotos)*100\n",
        "  indexEleito = contagem.index(max(contagem))\n",
        "  eleito = candidatos[indexEleito]\n",
        "  percentualEleito = (max(contagem)/totalVotos)*100\n",
        "\n",
        "print()\n",
        "for votoPorCandidato, candidato in zip(contagem, candidatos):\n",
        "  print(f'{candidato}: {votoPorCandidato} votos')\n",
        "\n",
        "print()\n",
        "print(f'{percentualBranco:.2f}% de votos brancos.\\n{percentualNulo:.2f}% de votos nulos.')\n",
        "print()\n",
        "print(f'O candidato eleito foi: {eleito} com {percentualEleito:.2f}% de votos')"
      ],
      "execution_count": null,
      "outputs": []
    },
    {
      "cell_type": "code",
      "metadata": {
        "id": "go3vPlddpEqR"
      },
      "source": [
        "cpo = 0\n",
        "palavra = input('Digite uma palavra: ')\n",
        "resultado = []\n",
        "\n",
        "while cpo < len(palavra)+3:\n",
        "  cpo+=1\n",
        "\n",
        "  print()\n",
        "  palavraSecreta = palavra\n",
        "  tentativa = input('Escolha uma letra: ')\n",
        "  print()\n",
        "\n",
        "  if tentativa in palavra:\n",
        "    resultado.append(tentativa)\n",
        "    print('Boa! Próxima letra')\n",
        "    print(resultado)\n",
        "    print()\n",
        "\n",
        "  else:\n",
        "    print('letra não está na palavra, tente novamente...')\n",
        "    print()\n",
        "\n",
        "\n",
        "print(palavraSecreta)\n",
        "print('fim do programa')"
      ],
      "execution_count": null,
      "outputs": []
    },
    {
      "cell_type": "code",
      "metadata": {
        "id": "mSCssa6hr4TA"
      },
      "source": [
        "cpo = True\n",
        "palavra = list(input('Digite uma palavra: ').lower())\n",
        "resultado = []\n",
        "\n",
        "for letra in range(0, len(palavra)):\n",
        "  resultado.append('-')\n",
        "\n",
        "while cpo == True:\n",
        "\n",
        "  tentativas = str(input('Digite uma letra: '))\n",
        "\n",
        "  for letra in range(0, len(palavra)):\n",
        "    if tentativas == palavra[letra]:\n",
        "      resultado[letra] = tentativa   \n",
        "\n",
        "    print(resultado[letra])\n",
        "  \n",
        "  cpo = False\n",
        "\n",
        "  for cadaLetra in range(0, len(resultado)):\n",
        "    if resultado[cadaLetra] == '-':\n",
        "      cpo = True\n",
        "      \n",
        "print('Parabéns')"
      ],
      "execution_count": null,
      "outputs": []
    },
    {
      "cell_type": "code",
      "metadata": {
        "id": "1sI6Q8RqsB-L"
      },
      "source": [
        "cpo = 0\n",
        "acertos = 0\n",
        "erros = 0\n",
        "gabarito = ['A', 'B', 'D', 'C', 'E', 'A', 'C',' B', 'E', 'A']\n",
        "resposta = []\n",
        "\n",
        "while cpo < 5:\n",
        "  cpo+=1\n",
        "\n",
        "  questao = input(f'{cpo}° questão, digite a resposta: ').upper()\n",
        "  resposta.append(questao)\n",
        "\n",
        "  if cpo == 1:\n",
        "    n = cpo - 1\n",
        "\n",
        "  if questao == gabarito[n]:\n",
        "    acertos +=1\n",
        "    print('Acertou')\n",
        "  else:\n",
        "    erros+=1\n",
        "    print('Erro')\n",
        "\n",
        "  n+=1\n",
        "\n",
        "\n",
        "print(resposta)\n",
        "print(acertos)\n",
        "print(erros)"
      ],
      "execution_count": null,
      "outputs": []
    },
    {
      "cell_type": "code",
      "metadata": {
        "id": "XvpQCGtbzE0V"
      },
      "source": [
        "\n",
        "resposta = [1]\n",
        "resposta[0]"
      ],
      "execution_count": null,
      "outputs": []
    },
    {
      "cell_type": "code",
      "metadata": {
        "id": "3DxjqdmlxIJ7"
      },
      "source": [
        ""
      ],
      "execution_count": null,
      "outputs": []
    },
    {
      "cell_type": "code",
      "metadata": {
        "id": "6nKmZSQWva1m"
      },
      "source": [
        ""
      ],
      "execution_count": null,
      "outputs": []
    }
  ]
}