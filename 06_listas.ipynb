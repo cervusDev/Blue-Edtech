{
  "nbformat": 4,
  "nbformat_minor": 0,
  "metadata": {
    "colab": {
      "name": "06_listas.ipynb",
      "private_outputs": true,
      "provenance": [],
      "authorship_tag": "ABX9TyPq6hF8LQcl8MeEfi60mwWa",
      "include_colab_link": true
    },
    "kernelspec": {
      "name": "python3",
      "display_name": "Python 3"
    },
    "language_info": {
      "name": "python"
    }
  },
  "cells": [
    {
      "cell_type": "markdown",
      "metadata": {
        "id": "view-in-github",
        "colab_type": "text"
      },
      "source": [
        "<a href=\"https://colab.research.google.com/github/gucervus/Blue-Edtech/blob/main/06_listas.ipynb\" target=\"_parent\"><img src=\"https://colab.research.google.com/assets/colab-badge.svg\" alt=\"Open In Colab\"/></a>"
      ]
    },
    {
      "cell_type": "code",
      "metadata": {
        "id": "o4f3hLymqrRk"
      },
      "source": [
        "# basic structure of an array\n",
        "\n",
        "listaVazia = []\n",
        "print(listaVazia)"
      ],
      "execution_count": null,
      "outputs": []
    },
    {
      "cell_type": "code",
      "metadata": {
        "id": "KnHbLh6IrNjL"
      },
      "source": [
        "# String in array\n",
        "\n",
        "listaNomes = ['Gustavo', 'Eduarda', 'Ricardo', 'Magda', 'Heitor']\n",
        "print(listaNomes)"
      ],
      "execution_count": null,
      "outputs": []
    },
    {
      "cell_type": "code",
      "metadata": {
        "id": "WSiUpLAurfDz"
      },
      "source": [
        "# Numbers in array\n",
        "\n",
        "listaNumeros = [1, 2, 3, 4, 5]\n",
        "print(listaNumeros)"
      ],
      "execution_count": null,
      "outputs": []
    },
    {
      "cell_type": "code",
      "metadata": {
        "id": "J5mii2Q3r9V1"
      },
      "source": [
        "# Mixing numbers and strings\n",
        "\n",
        "listaMista = ['Gustavo', 2021, 'novas conquistas', 2022, 'casa nova']\n",
        "print(listaMista)"
      ],
      "execution_count": null,
      "outputs": []
    },
    {
      "cell_type": "code",
      "metadata": {
        "id": "gwBFVSPlsROr"
      },
      "source": [
        "# Composit lists\n",
        "\n",
        "matrix = [[1, 2, 3],[4, 5, 6],[7, 8, 9]]\n",
        "print(matrix)"
      ],
      "execution_count": null,
      "outputs": []
    },
    {
      "cell_type": "markdown",
      "metadata": {
        "id": "XkAR4_DQtgKv"
      },
      "source": [
        "      Native functions for lists"
      ]
    },
    {
      "cell_type": "code",
      "metadata": {
        "id": "RcRFE_Y4tl7K"
      },
      "source": [
        "# Menor número\n",
        "listNumber = [5, 6, 7]\n",
        "print(min(listNumber))\n",
        "print()\n",
        "matrix = [[1, 2, 3],[4, 5, 6],[7, 8, 9]]\n",
        "print(min(matrix))"
      ],
      "execution_count": null,
      "outputs": []
    },
    {
      "cell_type": "code",
      "metadata": {
        "id": "zbmQ1bbHt29n"
      },
      "source": [
        "# Maior número\n",
        "\n",
        "listNumber = [1, 2, 3]\n",
        "print(max(listNumber))\n",
        "print()\n",
        "matrix = [[1, 2, 3],[4, 5, 6],[7, 8, 9]]\n",
        "print(max(matrix))"
      ],
      "execution_count": null,
      "outputs": []
    },
    {
      "cell_type": "code",
      "metadata": {
        "id": "wQW_EW3GuPwL"
      },
      "source": [
        "# Soma\n",
        "\n",
        "listNumber = [1, 2, 3]\n",
        "print(sum(listNumber))"
      ],
      "execution_count": null,
      "outputs": []
    },
    {
      "cell_type": "code",
      "metadata": {
        "id": "1IKvCpzXuh4r"
      },
      "source": [
        "# Encontrar elementos em uma lista simples\n",
        "\n",
        "array = ['Gustavo', 2021, 'novas conquistas', 2022, 'casa nova']\n",
        "print(listaMista)\n",
        "\n",
        "print(array[0])\n",
        "print(array[1])\n",
        "print(array[2])\n",
        "print(array[3])\n",
        "print(array[4])"
      ],
      "execution_count": null,
      "outputs": []
    },
    {
      "cell_type": "code",
      "metadata": {
        "id": "s5R-KO_dvm5i"
      },
      "source": [
        "# Encontrar indices em listas compostas\n",
        "matrix = [[1, 2, 3],[4, 5, 6],[7, 8, 9]]\n",
        "print(matrix)\n",
        "print()\n",
        "\n",
        "print(matrix[0])\n",
        "print(matrix[1])\n",
        "print(matrix[2])"
      ],
      "execution_count": null,
      "outputs": []
    },
    {
      "cell_type": "code",
      "metadata": {
        "id": "LvKGTZ4uwLok"
      },
      "source": [
        "# Encontrar elementos dentro de indices em listas compostas\n",
        "\n",
        "matrix = [[1, 2, 3],[4, 5, 6],[7, 8, 9]]\n",
        "\n",
        "print(f\"{matrix[0][0]}, {matrix[0][1]}, {matrix[0][2]}\")\n",
        "print(f\"{matrix[1][0]}, {matrix[1][1]}, {matrix[1][2]}\")\n",
        "print(f\"{matrix[2][0]}, {matrix[2][1]}, {matrix[2][2]}\")"
      ],
      "execution_count": null,
      "outputs": []
    },
    {
      "cell_type": "code",
      "metadata": {
        "id": "ga0cpuDrwqUV"
      },
      "source": [
        "# Modificando elementos de uma lista\n",
        "array = ['Gustavo', 'Henrique', 'Almeida','Cervera']\n",
        "print(array)\n",
        "\n",
        "array[3] = 'Duenha'\n",
        "print(array)"
      ],
      "execution_count": null,
      "outputs": []
    },
    {
      "cell_type": "code",
      "metadata": {
        "id": "Bno29tv6zpNf"
      },
      "source": [
        "# Modificando elementos de uma lista composta\n",
        "array = [['Gustavo', 'Henrique', 'Almeida','Cervera'],['Jose', 'Ricardo', 'Almeida','Cervera']]\n",
        "print(array)\n",
        "\n",
        "array[1][1] = 'Pai'\n",
        "print(array)"
      ],
      "execution_count": null,
      "outputs": []
    },
    {
      "cell_type": "code",
      "metadata": {
        "id": "EbcP6Rgd170W"
      },
      "source": [
        "# Adicionando elemento em uma lista\n",
        "print('lista original')\n",
        "filmes = ['avangers', 'forest gump',\n",
        "          'pulp fiction', 'wallStree wolf',\n",
        "          'spider man', 'dune']\n",
        "\n",
        "print(filmes)\n",
        "print()\n",
        "\n",
        "# 1 elemento por vez, sendo alocado no final da lista\n",
        "print('utilizando o append')\n",
        "filmes.append('power rangers')\n",
        "print(filmes)\n",
        "\n",
        "print()\n",
        "elemento = input('novo filme: ')\n",
        "filmes.append(elemento)\n",
        "print(filmes)\n",
        "\n",
        "# Adicionar uma lista de elementos em uma outra lista\n",
        "novosFilmes = ['desventuras em série', 'poderoso chefão', 'esqueceram de mim']\n",
        "print()\n",
        "\n",
        "print('Utilizando o extend')\n",
        "filmes.extend(novosFilmes)\n",
        "print(filmes)"
      ],
      "execution_count": null,
      "outputs": []
    },
    {
      "cell_type": "code",
      "metadata": {
        "id": "LMgvoTqG2wwW"
      },
      "source": [
        "# Ordenando elementos de uma lista\n",
        "\n",
        "# Ordenação crescente\n",
        "print('lista original')\n",
        "filmes = ['avangers', 'forest gump',\n",
        "          'pulp fiction', 'WallStree wolf',\n",
        "          'spider man', 'dune']\n",
        "print(filmes)\n",
        "print()\n",
        "\n",
        "print('lista ordenada de forma crescente')\n",
        "filmes.sort()\n",
        "print(filmes)\n",
        "\n",
        "print()\n",
        "\n",
        "# Ordenação decrescente\n",
        "print('lista de forma decrescente')\n",
        "filmes.reverse()\n",
        "print(filmes)"
      ],
      "execution_count": null,
      "outputs": []
    },
    {
      "cell_type": "code",
      "metadata": {
        "id": "vOz7nBcE8Lox"
      },
      "source": [
        ""
      ],
      "execution_count": null,
      "outputs": []
    }
  ]
}