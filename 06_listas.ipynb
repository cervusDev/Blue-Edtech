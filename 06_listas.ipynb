{
  "nbformat": 4,
  "nbformat_minor": 0,
  "metadata": {
    "colab": {
      "name": "06_listas.ipynb",
      "private_outputs": true,
      "provenance": [],
      "authorship_tag": "ABX9TyNoQp4FZYOYqdyFlkNp3ASx",
      "include_colab_link": true
    },
    "kernelspec": {
      "name": "python3",
      "display_name": "Python 3"
    },
    "language_info": {
      "name": "python"
    }
  },
  "cells": [
    {
      "cell_type": "markdown",
      "metadata": {
        "id": "view-in-github",
        "colab_type": "text"
      },
      "source": [
        "<a href=\"https://colab.research.google.com/github/gucervus/Blue-Edtech/blob/main/06_listas.ipynb\" target=\"_parent\"><img src=\"https://colab.research.google.com/assets/colab-badge.svg\" alt=\"Open In Colab\"/></a>"
      ]
    },
    {
      "cell_type": "markdown",
      "metadata": {
        "id": "rPd_imYSLwv9"
      },
      "source": [
        "### basic structure of an list"
      ]
    },
    {
      "cell_type": "code",
      "metadata": {
        "id": "o4f3hLymqrRk"
      },
      "source": [
        "emptyList = []\n",
        "print(emptyList)"
      ],
      "execution_count": null,
      "outputs": []
    },
    {
      "cell_type": "markdown",
      "metadata": {
        "id": "AFEc6EBYL3VL"
      },
      "source": [
        "### String in list"
      ]
    },
    {
      "cell_type": "code",
      "metadata": {
        "id": "IeKxldgmeUl5"
      },
      "source": [
        ""
      ],
      "execution_count": null,
      "outputs": []
    },
    {
      "cell_type": "code",
      "metadata": {
        "id": "KnHbLh6IrNjL"
      },
      "source": [
        "listNames= ['Gustavo', 'Eduarda', 'Ricardo', 'Magda', 'Heitor']\n",
        "print(listNames)"
      ],
      "execution_count": null,
      "outputs": []
    },
    {
      "cell_type": "markdown",
      "metadata": {
        "id": "lYifonRLL8Fv"
      },
      "source": [
        "### Numbers in list"
      ]
    },
    {
      "cell_type": "code",
      "metadata": {
        "id": "WSiUpLAurfDz"
      },
      "source": [
        "listaNumeros = [1, 2, 3, 4, 5]\n",
        "print(listaNumeros)"
      ],
      "execution_count": null,
      "outputs": []
    },
    {
      "cell_type": "markdown",
      "metadata": {
        "id": "qItU8nB2MMnn"
      },
      "source": [
        "### Mixing numbers and strings\n"
      ]
    },
    {
      "cell_type": "code",
      "metadata": {
        "id": "J5mii2Q3r9V1"
      },
      "source": [
        "listaMista = ['Gustavo', 2021, 'novas conquistas', 2022, 'casa nova']\n",
        "print(listaMista)"
      ],
      "execution_count": null,
      "outputs": []
    },
    {
      "cell_type": "markdown",
      "metadata": {
        "id": "_3Xy1RXYMSp4"
      },
      "source": [
        "### Composite lists: Matrix"
      ]
    },
    {
      "cell_type": "code",
      "metadata": {
        "id": "gwBFVSPlsROr"
      },
      "source": [
        "matrix = [[1, 2, 3],[4, 5, 6],[7, 8, 9]]\n",
        "print(matrix)"
      ],
      "execution_count": null,
      "outputs": []
    },
    {
      "cell_type": "markdown",
      "metadata": {
        "id": "XkAR4_DQtgKv"
      },
      "source": [
        "### Native list functions"
      ]
    },
    {
      "cell_type": "code",
      "metadata": {
        "id": "RcRFE_Y4tl7K"
      },
      "source": [
        "# lowest number:  function min()\n",
        "print('original list')\n",
        "listNumber = [5, 6, 7]\n",
        "print(listNumber)\n",
        "print()\n",
        "\n",
        "print('simple list...')\n",
        "print(f'using the min(): {min(listNumber)}')\n",
        "print()\n",
        "\n",
        "print('composit list...')\n",
        "matrix = [[1, 2, 3],[4, 5, 6],[7, 8, 9]]\n",
        "\n",
        "print(f'original list')\n",
        "print(matrix)\n",
        "print()\n",
        "\n",
        "print(f\"using the min(): {min(matrix)}\")"
      ],
      "execution_count": null,
      "outputs": []
    },
    {
      "cell_type": "code",
      "metadata": {
        "id": "zbmQ1bbHt29n"
      },
      "source": [
        "# higher number: function max()\n",
        "\n",
        "print('original list')\n",
        "listNumber = [5, 6, 7]\n",
        "print(listNumber)\n",
        "print()\n",
        "\n",
        "print('simple list...')\n",
        "print(f'using the max(): {max(listNumber)}')\n",
        "print()\n",
        "\n",
        "matrix = [[1, 2, 3],[4, 5, 6],[7, 8, 9]]\n",
        "\n",
        "print(f'original composit list')\n",
        "print(matrix)\n",
        "print()\n",
        "\n",
        "print('composit list...')\n",
        "print(f\"using the max(): {max(matrix)}\")"
      ],
      "execution_count": null,
      "outputs": []
    },
    {
      "cell_type": "markdown",
      "metadata": {
        "id": "QzL7NKawfd6W"
      },
      "source": [
        "### Find an element in a simple list"
      ]
    },
    {
      "cell_type": "code",
      "metadata": {
        "id": "1IKvCpzXuh4r"
      },
      "source": [
        "array = ['gustavo', 2021, 'novas conquistas', 2022, 'casa nova']\n",
        "print(array)\n",
        "print()\n",
        "\n",
        "print(f'0: {array[0]}\\n1: {array[1]}\\n2: {array[2]}\\n3: {array[3]}\\n4: {array[4]}')"
      ],
      "execution_count": null,
      "outputs": []
    },
    {
      "cell_type": "markdown",
      "metadata": {
        "id": "_1d8kHdKfjtE"
      },
      "source": [
        "### Find an index in a composite list"
      ]
    },
    {
      "cell_type": "code",
      "metadata": {
        "id": "s5R-KO_dvm5i"
      },
      "source": [
        "print('original list')\n",
        "matrix = [[1, 2, 3],[4, 5, 6],[7, 8, 9]]\n",
        "print(matrix)\n",
        "print()\n",
        "\n",
        "print('separate indexes')\n",
        "print(f\"0: {matrix[0]}\\n1: {matrix[1]}\\n2: {matrix[2]}\")"
      ],
      "execution_count": null,
      "outputs": []
    },
    {
      "cell_type": "markdown",
      "metadata": {
        "id": "LGiHiWzVgy40"
      },
      "source": [
        "### Find elements within indexes in composite list"
      ]
    },
    {
      "cell_type": "code",
      "metadata": {
        "id": "LvKGTZ4uwLok"
      },
      "source": [
        "print('original matrix')\n",
        "matrix = [[1, 2, 3],[4, 5, 6],[7, 8, 9]]\n",
        "print(matrix)\n",
        "print()\n",
        "\n",
        "print('separate indexes matrix')\n",
        "print(f\"{matrix[0][0]}, {matrix[0][1]}, {matrix[0][2]}\")\n",
        "print(f\"{matrix[1][0]}, {matrix[1][1]}, {matrix[1][2]}\")\n",
        "print(f\"{matrix[2][0]}, {matrix[2][1]}, {matrix[2][2]}\")"
      ],
      "execution_count": null,
      "outputs": []
    },
    {
      "cell_type": "markdown",
      "metadata": {
        "id": "iU88ZvcMhxom"
      },
      "source": [
        "### Modifying elements in lists"
      ]
    },
    {
      "cell_type": "code",
      "metadata": {
        "id": "ga0cpuDrwqUV"
      },
      "source": [
        "print('original list')\n",
        "array = ['Gustavo', 'Henrique', 'Almeida','Cervera']\n",
        "\n",
        "print(array)\n",
        "print()\n",
        "\n",
        "print('list with modified elements')\n",
        "array[3] = 'Duenha'\n",
        "print(array)"
      ],
      "execution_count": null,
      "outputs": []
    },
    {
      "cell_type": "markdown",
      "metadata": {
        "id": "CLrdW-koiNqJ"
      },
      "source": [
        "### Modifying elements in the composite lists"
      ]
    },
    {
      "cell_type": "code",
      "metadata": {
        "id": "Bno29tv6zpNf"
      },
      "source": [
        "print('original matrix')\n",
        "array = [['Gustavo', 'Henrique', 'Almeida','Cervera'],['Jose', 'Ricardo', 'Almeida','Cervera']]\n",
        "\n",
        "print(array)\n",
        "print()\n",
        "\n",
        "array[1][1] = 'Pai'\n",
        "print('matrix with added element')\n",
        "print(array)"
      ],
      "execution_count": null,
      "outputs": []
    },
    {
      "cell_type": "markdown",
      "metadata": {
        "id": "Th-JgDSfi0mJ"
      },
      "source": [
        "### Adding elements in the lists"
      ]
    },
    {
      "cell_type": "code",
      "metadata": {
        "id": "EbcP6Rgd170W"
      },
      "source": [
        "print('original lists')\n",
        "movies = ['avangers', 'forest gump',\n",
        "          'pulp fiction', 'wall street wolf',\n",
        "          'spider man', 'dune']\n",
        "\n",
        "print(movies)\n",
        "print()\n",
        "\n",
        "# element being allocated at the end of the list: method append()\n",
        "print('using the append')\n",
        "movies.append('power rangers')\n",
        "print(movies)\n",
        "\n",
        "print()\n",
        "newElement = input('new movie: ')\n",
        "movies.append(newElement)\n",
        "print(movies)\n",
        "\n",
        "# adding a new list: method extend()\n",
        "newMovies = ['series misadventure', 'the god father', 'they forgot me']\n",
        "print()\n",
        "\n",
        "print('using the extend')\n",
        "movies.extend(newMovies)\n",
        "print(movies)"
      ],
      "execution_count": null,
      "outputs": []
    },
    {
      "cell_type": "markdown",
      "metadata": {
        "id": "8q7HqxZsk0iV"
      },
      "source": [
        "### Ordering elements in a list"
      ]
    },
    {
      "cell_type": "code",
      "metadata": {
        "id": "LMgvoTqG2wwW"
      },
      "source": [
        "# ascending order: method sort()\n",
        "print('original list')\n",
        "movies = ['avangers', 'forest gump',\n",
        "          'pulp fiction', 'Wall street wolf',\n",
        "          'spider man', 'dune']\n",
        "print(movies)\n",
        "print()\n",
        "\n",
        "print('ascending sorted list...')\n",
        "movies.sort()\n",
        "print(movies)\n",
        "\n",
        "print()\n",
        "\n",
        "# descending order: method reverse()\n",
        "print('descending ordered list...')\n",
        "movies.reverse()\n",
        "print(movies)"
      ],
      "execution_count": null,
      "outputs": []
    },
    {
      "cell_type": "markdown",
      "metadata": {
        "id": "AvxIHKWGlphK"
      },
      "source": [
        "### Repetition structure for: scrolling through lists"
      ]
    },
    {
      "cell_type": "code",
      "metadata": {
        "id": "vOz7nBcE8Lox"
      },
      "source": [
        "movies = ['avangers', 'forest gump',\n",
        "          'pulp fiction', 'wall street wolf',\n",
        "          'spider man', 'dune']\n",
        "\n",
        "for eachMovie in movies:\n",
        "  print(eachMovie)"
      ],
      "execution_count": null,
      "outputs": []
    },
    {
      "cell_type": "markdown",
      "metadata": {
        "id": "REpOYXqXmDlj"
      },
      "source": [
        "### Adding elements in the list: method insert( )"
      ]
    },
    {
      "cell_type": "code",
      "metadata": {
        "id": "JrZP7mw6Fu7X"
      },
      "source": [
        "print('original ordened list')\n",
        "\n",
        "\n",
        "movies = ['avangers', 'forest gump',\n",
        "          'pulp fiction', 'wall street wolf',\n",
        "          'spider man', 'dune']\n",
        "          \n",
        "movies.sort()\n",
        "print(movies)\n",
        "print()\n",
        "\n",
        "# insert(position, element)\n",
        "movies.insert(4, 'the pianist')\n",
        "\n",
        "print('list with insert')\n",
        "print(movies)"
      ],
      "execution_count": null,
      "outputs": []
    },
    {
      "cell_type": "markdown",
      "metadata": {
        "id": "JA36FvP2msr5"
      },
      "source": [
        "### Removing elements by declaration: methodo remove()"
      ]
    },
    {
      "cell_type": "code",
      "metadata": {
        "id": "VlhIz4bnF-hF"
      },
      "source": [
        "print('original list')\n",
        "\n",
        "movies = ['avangers', 'forest gump',\n",
        "          'pulp fiction', 'wall street wolf',\n",
        "          'spider man', 'dune']\n",
        "\n",
        "print(movies)\n",
        "print()\n",
        "\n",
        "movies.remove('avangers')\n",
        "\n",
        "print('removing with remove')\n",
        "print(movies)\n",
        "print()\n",
        "\n",
        "# removing elements by index: method pop()\n",
        "movies.pop(0)\n",
        "\n",
        "print('removing with pop')\n",
        "print(movies)\n",
        "\n",
        "print()\n",
        "\n",
        "# removing by index with del instruction \n",
        "del movies[0:1]\n",
        "\n",
        "print('removing with del')\n",
        "print(movies)"
      ],
      "execution_count": null,
      "outputs": []
    },
    {
      "cell_type": "markdown",
      "metadata": {
        "id": "8c-9L00-nZRk"
      },
      "source": [
        "### Finding length of a list"
      ]
    },
    {
      "cell_type": "code",
      "metadata": {
        "id": "X1DcuGFeKUMR"
      },
      "source": [
        "movies = ['avangers', 'forest gump',\n",
        "          'pulp fiction', 'wall street wolf',\n",
        "          'spider man', 'dune']\n",
        "\n",
        "print(f\"the list has {len(movies)} elements\")"
      ],
      "execution_count": null,
      "outputs": []
    },
    {
      "cell_type": "markdown",
      "metadata": {
        "id": "RnC-FvyGRNLq"
      },
      "source": [
        "### Operation with numeric lists"
      ]
    },
    {
      "cell_type": "code",
      "metadata": {
        "id": "F9J5H0GtN2Xb"
      },
      "source": [
        "# Multiplication\n",
        "print('original list')\n",
        "listNumber = [1, 2, 3, 4, 5]\n",
        "\n",
        "print(listNumber)\n",
        "print()\n",
        "\n",
        "newListNumber = listNumber*2\n",
        "print('duplicate list')\n",
        "print(newListNumber)"
      ],
      "execution_count": null,
      "outputs": []
    },
    {
      "cell_type": "code",
      "metadata": {
        "id": "LFsNMj4sRbbV"
      },
      "source": [
        "# Sum\n",
        "print('original lists')\n",
        "firstList= [1, 2, 3, 4, 5]\n",
        "secondList= [5, 4, 3, 2, 1]\n",
        "\n",
        "print(firstList)\n",
        "print(secondList)\n",
        "print()\n",
        "\n",
        "newList = firstList+secondList\n",
        "print('summed lists...')\n",
        "print(newList)"
      ],
      "execution_count": null,
      "outputs": []
    },
    {
      "cell_type": "markdown",
      "metadata": {
        "id": "OZ9dbSXkow2S"
      },
      "source": [
        "### Finding elements using the method \"in\""
      ]
    },
    {
      "cell_type": "code",
      "metadata": {
        "id": "QuVOW3K-RvO1"
      },
      "source": [
        "array = [1, 2, 3, 4, 5]\n",
        "\n",
        "print(15 in array) #return false\n",
        "print(4 in array) #return true"
      ],
      "execution_count": null,
      "outputs": []
    },
    {
      "cell_type": "markdown",
      "metadata": {
        "id": "XkW86MG2Tlp2"
      },
      "source": [
        "### Traversing a variable:  estructure for"
      ]
    },
    {
      "cell_type": "code",
      "metadata": {
        "id": "BBd9VujkSaYg"
      },
      "source": [
        "phrase = 'Iam a bluemer'\n",
        "for letter in phrase:\n",
        "  print(letter,end=' ')"
      ],
      "execution_count": null,
      "outputs": []
    },
    {
      "cell_type": "markdown",
      "metadata": {
        "id": "41aTUeJEVfUl"
      },
      "source": [
        "### Interval function: range()"
      ]
    },
    {
      "cell_type": "code",
      "metadata": {
        "id": "OXX27TKmTxUW"
      },
      "source": [
        "# just a single parameter\n",
        "print('Counter...')\n",
        "for cont in range(10):\n",
        "  print(cont, end=' ')\n",
        "\n",
        "print()\n",
        "print()\n",
        "\n",
        "# two parameters\n",
        "print('start an end limits...')\n",
        "for cont in range(5,10):\n",
        "  print(cont, end=' ')\n",
        "\n",
        "print()\n",
        "print()\n",
        "\n",
        "# three parameters\n",
        "print('start, end, sum...')\n",
        "for cont in range(0, 20, 3):\n",
        "  print(cont, end=' ')"
      ],
      "execution_count": null,
      "outputs": []
    }
  ]
}