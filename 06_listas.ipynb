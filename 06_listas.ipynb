{
  "nbformat": 4,
  "nbformat_minor": 0,
  "metadata": {
    "colab": {
      "name": "06_listas.ipynb",
      "private_outputs": true,
      "provenance": [],
      "authorship_tag": "ABX9TyMC8RPw6YgbiWZPNi4Fb0aS",
      "include_colab_link": true
    },
    "kernelspec": {
      "name": "python3",
      "display_name": "Python 3"
    },
    "language_info": {
      "name": "python"
    }
  },
  "cells": [
    {
      "cell_type": "markdown",
      "metadata": {
        "id": "view-in-github",
        "colab_type": "text"
      },
      "source": [
        "<a href=\"https://colab.research.google.com/github/gucervus/Blue-Edtech/blob/main/06_listas.ipynb\" target=\"_parent\"><img src=\"https://colab.research.google.com/assets/colab-badge.svg\" alt=\"Open In Colab\"/></a>"
      ]
    },
    {
      "cell_type": "markdown",
      "metadata": {
        "id": "rPd_imYSLwv9"
      },
      "source": [
        "### Estrutura básica de uma lista"
      ]
    },
    {
      "cell_type": "code",
      "metadata": {
        "id": "o4f3hLymqrRk"
      },
      "source": [
        "# basic structure of an array\n",
        "\n",
        "listaVazia = []\n",
        "print(listaVazia)"
      ],
      "execution_count": null,
      "outputs": []
    },
    {
      "cell_type": "markdown",
      "metadata": {
        "id": "AFEc6EBYL3VL"
      },
      "source": [
        "### Declarando strings em um array"
      ]
    },
    {
      "cell_type": "code",
      "metadata": {
        "id": "KnHbLh6IrNjL"
      },
      "source": [
        "# String in array\n",
        "\n",
        "listaNomes = ['Gustavo', 'Eduarda', 'Ricardo', 'Magda', 'Heitor']\n",
        "print(listaNomes)"
      ],
      "execution_count": null,
      "outputs": []
    },
    {
      "cell_type": "markdown",
      "metadata": {
        "id": "lYifonRLL8Fv"
      },
      "source": [
        "### Declarando números em um array"
      ]
    },
    {
      "cell_type": "code",
      "metadata": {
        "id": "WSiUpLAurfDz"
      },
      "source": [
        "# Numbers in array\n",
        "\n",
        "listaNumeros = [1, 2, 3, 4, 5]\n",
        "print(listaNumeros)"
      ],
      "execution_count": null,
      "outputs": []
    },
    {
      "cell_type": "markdown",
      "metadata": {
        "id": "qItU8nB2MMnn"
      },
      "source": [
        "### Misturando numeros e stings em um array\n"
      ]
    },
    {
      "cell_type": "code",
      "metadata": {
        "id": "J5mii2Q3r9V1"
      },
      "source": [
        "# Mixing numbers and strings\n",
        "\n",
        "listaMista = ['Gustavo', 2021, 'novas conquistas', 2022, 'casa nova']\n",
        "print(listaMista)"
      ],
      "execution_count": null,
      "outputs": []
    },
    {
      "cell_type": "markdown",
      "metadata": {
        "id": "_3Xy1RXYMSp4"
      },
      "source": [
        "### Lista composta"
      ]
    },
    {
      "cell_type": "code",
      "metadata": {
        "id": "gwBFVSPlsROr"
      },
      "source": [
        "# Composit lists\n",
        "\n",
        "matrix = [[1, 2, 3],[4, 5, 6],[7, 8, 9]]\n",
        "print(matrix)"
      ],
      "execution_count": null,
      "outputs": []
    },
    {
      "cell_type": "markdown",
      "metadata": {
        "id": "XkAR4_DQtgKv"
      },
      "source": [
        "### Funções nativas para arrays"
      ]
    },
    {
      "cell_type": "code",
      "metadata": {
        "id": "RcRFE_Y4tl7K"
      },
      "source": [
        "# Menor número:  função min()\n",
        "print('lista original')\n",
        "listNumber = [5, 6, 7]\n",
        "print(listNumber)\n",
        "print()\n",
        "\n",
        "print('array simples...')\n",
        "print(f'utlilizando o min(): {min(listNumber)}')\n",
        "print()\n",
        "\n",
        "print('array composto...')\n",
        "matrix = [[1, 2, 3],[4, 5, 6],[7, 8, 9]]\n",
        "\n",
        "print(f'lista original')\n",
        "print(matrix)\n",
        "print()\n",
        "\n",
        "print(f\"utilizando o min(): {min(matrix)}\")"
      ],
      "execution_count": null,
      "outputs": []
    },
    {
      "cell_type": "code",
      "metadata": {
        "id": "zbmQ1bbHt29n"
      },
      "source": [
        "# Maior número\n",
        "\n",
        "print('lista original')\n",
        "listNumber = [5, 6, 7]\n",
        "print(listNumber)\n",
        "print()\n",
        "\n",
        "print('array simples...')\n",
        "print(f'utlilizando o max(): {max(listNumber)}')\n",
        "print()\n",
        "\n",
        "matrix = [[1, 2, 3],[4, 5, 6],[7, 8, 9]]\n",
        "\n",
        "print(f'lista composta original')\n",
        "print(matrix)\n",
        "print()\n",
        "\n",
        "print('array composto...')\n",
        "print(f\"utilizando o max(): {max(matrix)}\")"
      ],
      "execution_count": null,
      "outputs": []
    },
    {
      "cell_type": "code",
      "metadata": {
        "id": "1IKvCpzXuh4r"
      },
      "source": [
        "# Encontrar elementos em uma lista simples\n",
        "\n",
        "array = ['Gustavo', 2021, 'novas conquistas', 2022, 'casa nova']\n",
        "print(listaMista)\n",
        "print()\n",
        "\n",
        "print(f'{array[0]}, {array[1]},\\n{array[2]},{array[3]}, {array[4]}')"
      ],
      "execution_count": null,
      "outputs": []
    },
    {
      "cell_type": "code",
      "metadata": {
        "id": "s5R-KO_dvm5i"
      },
      "source": [
        "# Encontrar indices em listas compostas\n",
        "print('lista original')\n",
        "matrix = [[1, 2, 3],[4, 5, 6],[7, 8, 9]]\n",
        "print(matrix)\n",
        "print()\n",
        "\n",
        "print('indices separados')\n",
        "print(f\"{matrix[0]}\\n{matrix[1]}\\n{matrix[2]}\")"
      ],
      "execution_count": null,
      "outputs": []
    },
    {
      "cell_type": "code",
      "metadata": {
        "id": "LvKGTZ4uwLok"
      },
      "source": [
        "# Encontrar elementos dentro de indices em listas compostas\n",
        "print('matrix original')\n",
        "matrix = [[1, 2, 3],[4, 5, 6],[7, 8, 9]]\n",
        "print(matrix)\n",
        "print()\n",
        "\n",
        "print('indices separados da matrix')\n",
        "print(f\"{matrix[0][0]}, {matrix[0][1]}, {matrix[0][2]}\")\n",
        "print(f\"{matrix[1][0]}, {matrix[1][1]}, {matrix[1][2]}\")\n",
        "print(f\"{matrix[2][0]}, {matrix[2][1]}, {matrix[2][2]}\")"
      ],
      "execution_count": null,
      "outputs": []
    },
    {
      "cell_type": "code",
      "metadata": {
        "id": "ga0cpuDrwqUV"
      },
      "source": [
        "# Modificando elementos de uma lista\n",
        "print('lista original')\n",
        "array = ['Gustavo', 'Henrique', 'Almeida','Cervera']\n",
        "\n",
        "print(array)\n",
        "print()\n",
        "\n",
        "print('lista com elemento modificado')\n",
        "array[3] = 'Duenha'\n",
        "print(array)"
      ],
      "execution_count": null,
      "outputs": []
    },
    {
      "cell_type": "code",
      "metadata": {
        "id": "Bno29tv6zpNf"
      },
      "source": [
        "# Modificando elementos de uma lista composta\n",
        "print('matrix original')\n",
        "array = [['Gustavo', 'Henrique', 'Almeida','Cervera'],['Jose', 'Ricardo', 'Almeida','Cervera']]\n",
        "\n",
        "print(array)\n",
        "print()\n",
        "\n",
        "array[1][1] = 'Pai'\n",
        "print('matrix com elemento adicionado')\n",
        "print(array)"
      ],
      "execution_count": null,
      "outputs": []
    },
    {
      "cell_type": "code",
      "metadata": {
        "id": "EbcP6Rgd170W"
      },
      "source": [
        "# Adicionando elemento em uma lista\n",
        "\n",
        "print('lista original')\n",
        "filmes = ['avangers', 'forest gump',\n",
        "          'pulp fiction', 'wallStree wolf',\n",
        "          'spider man', 'dune']\n",
        "\n",
        "print(filmes)\n",
        "print()\n",
        "\n",
        "# 1 elemento por vez, sendo alocado no final da lista: método append()\n",
        "print('utilizando o append')\n",
        "filmes.append('power rangers')\n",
        "print(filmes)\n",
        "\n",
        "print()\n",
        "elemento = input('novo filme: ')\n",
        "filmes.append(elemento)\n",
        "print(filmes)\n",
        "\n",
        "# Adicionar uma lista de elementos em uma outra lista: método extend()\n",
        "novosFilmes = ['desventuras em série', 'poderoso chefão', 'esqueceram de mim']\n",
        "print()\n",
        "\n",
        "print('Utilizando o extend')\n",
        "filmes.extend(novosFilmes)\n",
        "print(filmes)"
      ],
      "execution_count": null,
      "outputs": []
    },
    {
      "cell_type": "code",
      "metadata": {
        "id": "LMgvoTqG2wwW"
      },
      "source": [
        "# Ordenando elementos de uma lista\n",
        "\n",
        "# Ordenação crescente: método sort()\n",
        "print('lista original')\n",
        "filmes = ['avangers', 'forest gump',\n",
        "          'pulp fiction', 'WallStree wolf',\n",
        "          'spider man', 'dune']\n",
        "print(filmes)\n",
        "print()\n",
        "\n",
        "print('lista ordenada de forma crescente')\n",
        "filmes.sort()\n",
        "print(filmes)\n",
        "\n",
        "print()\n",
        "\n",
        "# Ordenação decrescente: metodo reverse()\n",
        "print('lista de forma decrescente')\n",
        "filmes.reverse()\n",
        "print(filmes)"
      ],
      "execution_count": null,
      "outputs": []
    },
    {
      "cell_type": "code",
      "metadata": {
        "id": "vOz7nBcE8Lox"
      },
      "source": [
        "# Estrutura de repetição for: Percorrendo a lista\n",
        "filmes = ['avangers', 'forest gump',\n",
        "          'pulp fiction', 'wallStree wolf',\n",
        "          'spider man', 'dune']\n",
        "\n",
        "for cadaFilme in filmes:\n",
        "  print(cadaFilme)"
      ],
      "execution_count": null,
      "outputs": []
    },
    {
      "cell_type": "code",
      "metadata": {
        "id": "JrZP7mw6Fu7X"
      },
      "source": [
        "# Acrescentando elementos em uma lista: metodo insert()\n",
        "print('Lista original ordenada')\n",
        "\n",
        "\n",
        "filmes = ['avangers', 'forest gump',\n",
        "          'pulp fiction', 'wallStree wolf',\n",
        "          'spider man', 'dune']\n",
        "          \n",
        "filmes.sort()\n",
        "print(filmes)\n",
        "print()\n",
        "\n",
        "filmes.insert(4, 'pianista')\n",
        "\n",
        "print('Lista com insert')\n",
        "print(filmes)"
      ],
      "execution_count": null,
      "outputs": []
    },
    {
      "cell_type": "code",
      "metadata": {
        "id": "VlhIz4bnF-hF"
      },
      "source": [
        "# Removendo elementos por nome: método remove()\n",
        "print('lista original')\n",
        "\n",
        "filmes = ['avangers', 'forest gump',\n",
        "          'pulp fiction', 'wallStree wolf',\n",
        "          'spider man', 'dune']\n",
        "\n",
        "print(filmes)\n",
        "print()\n",
        "\n",
        "filmes.remove('avangers')\n",
        "\n",
        "print('removendo com remove')\n",
        "print(filmes)\n",
        "print()\n",
        "\n",
        "# Removendo elementos por indice: Método pop()\n",
        "filmes.pop(0)\n",
        "\n",
        "print('removendo com pop')\n",
        "print(filmes)\n",
        "\n",
        "print()\n",
        "\n",
        "# Removendo com a instrução del \n",
        "del filmes[0:1]\n",
        "\n",
        "print('removendo com del')\n",
        "print(filmes)"
      ],
      "execution_count": null,
      "outputs": []
    },
    {
      "cell_type": "code",
      "metadata": {
        "id": "X1DcuGFeKUMR"
      },
      "source": [
        "# Encontrando o comprimento de um array\n",
        "\n",
        "filmes = ['avangers', 'forest gump',\n",
        "          'pulp fiction', 'wallStree wolf',\n",
        "          'spider man', 'dune']\n",
        "\n",
        "print(f\"a lista possui {len(filmes)} elementos\")"
      ],
      "execution_count": null,
      "outputs": []
    },
    {
      "cell_type": "markdown",
      "metadata": {
        "id": "RnC-FvyGRNLq"
      },
      "source": [
        "### Operações em listas numéricas"
      ]
    },
    {
      "cell_type": "code",
      "metadata": {
        "id": "F9J5H0GtN2Xb"
      },
      "source": [
        "# Multiplicação\n",
        "print('lista original')\n",
        "listaNumeros = [1, 2, 3, 4, 5]\n",
        "\n",
        "print(listaNumeros)\n",
        "print()\n",
        "\n",
        "novaLista = listaNumeros*2\n",
        "print('lista duplicada')\n",
        "print(novaLista)"
      ],
      "execution_count": null,
      "outputs": []
    },
    {
      "cell_type": "code",
      "metadata": {
        "id": "LFsNMj4sRbbV"
      },
      "source": [
        "# Soma\n",
        "print('listas originais')\n",
        "listaA = [1, 2, 3, 4, 5]\n",
        "listaB = [5, 4, 3, 2, 1]\n",
        "\n",
        "print(listaA)\n",
        "print(listaB)\n",
        "print()\n",
        "\n",
        "novaLista = listaNumerosA+listaB\n",
        "print('lista somada')\n",
        "print(novaLista)"
      ],
      "execution_count": null,
      "outputs": []
    },
    {
      "cell_type": "code",
      "metadata": {
        "id": "QuVOW3K-RvO1"
      },
      "source": [
        "# Encontrando elemetos utilizando in \n",
        "lista = [1, 2, 3, 4, 5]\n",
        "\n",
        "print(15 in lista) #return false\n",
        "print(4 in lista) #return true"
      ],
      "execution_count": null,
      "outputs": []
    },
    {
      "cell_type": "markdown",
      "metadata": {
        "id": "XkW86MG2Tlp2"
      },
      "source": [
        "### Percorrendo uma variável:  estrutura for"
      ]
    },
    {
      "cell_type": "code",
      "metadata": {
        "id": "BBd9VujkSaYg"
      },
      "source": [
        "frase = 'Eu sou bluemer'\n",
        "for letra in frase:\n",
        "  print(letra,end=' ')"
      ],
      "execution_count": null,
      "outputs": []
    },
    {
      "cell_type": "markdown",
      "metadata": {
        "id": "41aTUeJEVfUl"
      },
      "source": [
        "### Função de intervalo: range()"
      ]
    },
    {
      "cell_type": "code",
      "metadata": {
        "id": "OXX27TKmTxUW"
      },
      "source": [
        "# Apenas um número\n",
        "print('Contador com apenas o limite no final')\n",
        "for cont in range(10):\n",
        "  print(cont, end=' ')\n",
        "\n",
        "print()\n",
        "print()\n",
        "\n",
        "print('limite de inicio e fim')\n",
        "for cont in range(5,10+1):\n",
        "  print(cont, end=' ')\n",
        "\n",
        "print()\n",
        "print()\n",
        "\n",
        "print('inicio, fim, pula')\n",
        "for cont in range(0, 20, 3):\n",
        "  print(cont, end=' ')"
      ],
      "execution_count": null,
      "outputs": []
    },
    {
      "cell_type": "code",
      "metadata": {
        "id": "xiiYNY0IVS0r"
      },
      "source": [
        ""
      ],
      "execution_count": null,
      "outputs": []
    }
  ]
}